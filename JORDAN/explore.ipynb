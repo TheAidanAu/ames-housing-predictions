{
 "cells": [
  {
   "cell_type": "code",
   "execution_count": 1,
   "id": "12c1a84c-5a7d-4c10-b0d5-be329a7458da",
   "metadata": {},
   "outputs": [],
   "source": [
    "import numpy as np\n",
    "import pandas as pd\n",
    "%matplotlib inline \n",
    "\n",
    "housing = pd.read_csv('Ames_HousePrice.csv', index_col=0)"
   ]
  },
  {
   "cell_type": "code",
   "execution_count": 2,
   "id": "82844279-36cf-453f-baf2-8ccfbcc870ea",
   "metadata": {},
   "outputs": [
    {
     "data": {
      "text/plain": [
       "Index(['PID', 'GrLivArea', 'SalePrice', 'MSSubClass', 'MSZoning',\n",
       "       'LotFrontage', 'LotArea', 'Street', 'Alley', 'LotShape', 'LandContour',\n",
       "       'Utilities', 'LotConfig', 'LandSlope', 'Neighborhood', 'Condition1',\n",
       "       'Condition2', 'BldgType', 'HouseStyle', 'OverallQual', 'OverallCond',\n",
       "       'YearBuilt', 'YearRemodAdd', 'RoofStyle', 'RoofMatl', 'Exterior1st',\n",
       "       'Exterior2nd', 'MasVnrType', 'MasVnrArea', 'ExterQual', 'ExterCond',\n",
       "       'Foundation', 'BsmtQual', 'BsmtCond', 'BsmtExposure', 'BsmtFinType1',\n",
       "       'BsmtFinSF1', 'BsmtFinType2', 'BsmtFinSF2', 'BsmtUnfSF', 'TotalBsmtSF',\n",
       "       'Heating', 'HeatingQC', 'CentralAir', 'Electrical', '1stFlrSF',\n",
       "       '2ndFlrSF', 'LowQualFinSF', 'BsmtFullBath', 'BsmtHalfBath', 'FullBath',\n",
       "       'HalfBath', 'BedroomAbvGr', 'KitchenAbvGr', 'KitchenQual',\n",
       "       'TotRmsAbvGrd', 'Functional', 'Fireplaces', 'FireplaceQu', 'GarageType',\n",
       "       'GarageYrBlt', 'GarageFinish', 'GarageCars', 'GarageArea', 'GarageQual',\n",
       "       'GarageCond', 'PavedDrive', 'WoodDeckSF', 'OpenPorchSF',\n",
       "       'EnclosedPorch', '3SsnPorch', 'ScreenPorch', 'PoolArea', 'PoolQC',\n",
       "       'Fence', 'MiscFeature', 'MiscVal', 'MoSold', 'YrSold', 'SaleType',\n",
       "       'SaleCondition'],\n",
       "      dtype='object')"
      ]
     },
     "execution_count": 2,
     "metadata": {},
     "output_type": "execute_result"
    }
   ],
   "source": [
    "housing.columns"
   ]
  },
  {
   "cell_type": "code",
   "execution_count": 3,
   "id": "a037cf05-1795-4fcc-ac7f-b54ebbe2f59c",
   "metadata": {},
   "outputs": [
    {
     "data": {
      "text/html": [
       "<div>\n",
       "<style scoped>\n",
       "    .dataframe tbody tr th:only-of-type {\n",
       "        vertical-align: middle;\n",
       "    }\n",
       "\n",
       "    .dataframe tbody tr th {\n",
       "        vertical-align: top;\n",
       "    }\n",
       "\n",
       "    .dataframe thead th {\n",
       "        text-align: right;\n",
       "    }\n",
       "</style>\n",
       "<table border=\"1\" class=\"dataframe\">\n",
       "  <thead>\n",
       "    <tr style=\"text-align: right;\">\n",
       "      <th></th>\n",
       "      <th>GrLivArea</th>\n",
       "      <th>LotArea</th>\n",
       "      <th>MasVnrArea</th>\n",
       "      <th>BsmtUnfSF</th>\n",
       "      <th>TotalBsmtSF</th>\n",
       "      <th>1stFlrSF</th>\n",
       "      <th>2ndFlrSF</th>\n",
       "      <th>LowQualFinSF</th>\n",
       "      <th>GarageArea</th>\n",
       "      <th>WoodDeckSF</th>\n",
       "      <th>OpenPorchSF</th>\n",
       "      <th>PoolArea</th>\n",
       "    </tr>\n",
       "  </thead>\n",
       "  <tbody>\n",
       "    <tr>\n",
       "      <th>1</th>\n",
       "      <td>856</td>\n",
       "      <td>7890</td>\n",
       "      <td>0.0</td>\n",
       "      <td>618.0</td>\n",
       "      <td>856.0</td>\n",
       "      <td>856</td>\n",
       "      <td>0</td>\n",
       "      <td>0</td>\n",
       "      <td>399.0</td>\n",
       "      <td>0</td>\n",
       "      <td>0</td>\n",
       "      <td>0</td>\n",
       "    </tr>\n",
       "    <tr>\n",
       "      <th>2</th>\n",
       "      <td>1049</td>\n",
       "      <td>4235</td>\n",
       "      <td>149.0</td>\n",
       "      <td>104.0</td>\n",
       "      <td>1049.0</td>\n",
       "      <td>1049</td>\n",
       "      <td>0</td>\n",
       "      <td>0</td>\n",
       "      <td>266.0</td>\n",
       "      <td>0</td>\n",
       "      <td>105</td>\n",
       "      <td>0</td>\n",
       "    </tr>\n",
       "    <tr>\n",
       "      <th>3</th>\n",
       "      <td>1001</td>\n",
       "      <td>6060</td>\n",
       "      <td>0.0</td>\n",
       "      <td>100.0</td>\n",
       "      <td>837.0</td>\n",
       "      <td>1001</td>\n",
       "      <td>0</td>\n",
       "      <td>0</td>\n",
       "      <td>216.0</td>\n",
       "      <td>154</td>\n",
       "      <td>0</td>\n",
       "      <td>0</td>\n",
       "    </tr>\n",
       "    <tr>\n",
       "      <th>4</th>\n",
       "      <td>1039</td>\n",
       "      <td>8146</td>\n",
       "      <td>0.0</td>\n",
       "      <td>405.0</td>\n",
       "      <td>405.0</td>\n",
       "      <td>717</td>\n",
       "      <td>322</td>\n",
       "      <td>0</td>\n",
       "      <td>281.0</td>\n",
       "      <td>0</td>\n",
       "      <td>0</td>\n",
       "      <td>0</td>\n",
       "    </tr>\n",
       "    <tr>\n",
       "      <th>5</th>\n",
       "      <td>1665</td>\n",
       "      <td>8400</td>\n",
       "      <td>0.0</td>\n",
       "      <td>167.0</td>\n",
       "      <td>810.0</td>\n",
       "      <td>810</td>\n",
       "      <td>855</td>\n",
       "      <td>0</td>\n",
       "      <td>528.0</td>\n",
       "      <td>0</td>\n",
       "      <td>45</td>\n",
       "      <td>0</td>\n",
       "    </tr>\n",
       "  </tbody>\n",
       "</table>\n",
       "</div>"
      ],
      "text/plain": [
       "   GrLivArea  LotArea  MasVnrArea  BsmtUnfSF  TotalBsmtSF  1stFlrSF  2ndFlrSF  \\\n",
       "1        856     7890         0.0      618.0        856.0       856         0   \n",
       "2       1049     4235       149.0      104.0       1049.0      1049         0   \n",
       "3       1001     6060         0.0      100.0        837.0      1001         0   \n",
       "4       1039     8146         0.0      405.0        405.0       717       322   \n",
       "5       1665     8400         0.0      167.0        810.0       810       855   \n",
       "\n",
       "   LowQualFinSF  GarageArea  WoodDeckSF  OpenPorchSF  PoolArea  \n",
       "1             0       399.0           0            0         0  \n",
       "2             0       266.0           0          105         0  \n",
       "3             0       216.0         154            0         0  \n",
       "4             0       281.0           0            0         0  \n",
       "5             0       528.0           0           45         0  "
      ]
     },
     "execution_count": 3,
     "metadata": {},
     "output_type": "execute_result"
    }
   ],
   "source": [
    "price        = housing['SalePrice']\n",
    "size_related = housing.filter(regex='SF$|Area$')\n",
    "size_related.head()"
   ]
  },
  {
   "cell_type": "code",
   "execution_count": 4,
   "id": "dd274a07-dbe3-49c9-8163-ff395decaacc",
   "metadata": {},
   "outputs": [],
   "source": [
    "size_related = size_related.fillna(0.0)"
   ]
  },
  {
   "cell_type": "code",
   "execution_count": 5,
   "id": "56dcadbe-e103-46ed-92f2-9f406bd02b6e",
   "metadata": {},
   "outputs": [
    {
     "name": "stdout",
     "output_type": "stream",
     "text": [
      "PID              0\n",
      "GrLivArea        0\n",
      "SalePrice        0\n",
      "MSSubClass       0\n",
      "MSZoning         0\n",
      "                ..\n",
      "MiscVal          0\n",
      "MoSold           0\n",
      "YrSold           0\n",
      "SaleType         0\n",
      "SaleCondition    0\n",
      "Length: 81, dtype: int64\n"
     ]
    }
   ],
   "source": [
    "print(housing.isnull().sum(axis=0))"
   ]
  },
  {
   "cell_type": "code",
   "execution_count": 6,
   "id": "39ce36a8-37ce-4fe7-b122-f72326a7a37e",
   "metadata": {},
   "outputs": [
    {
     "data": {
      "text/plain": [
       "Index(['GrLivArea', 'LotArea', 'MasVnrArea', 'BsmtUnfSF', 'TotalBsmtSF',\n",
       "       '1stFlrSF', '2ndFlrSF', 'LowQualFinSF', 'GarageArea', 'WoodDeckSF',\n",
       "       'OpenPorchSF', 'PoolArea'],\n",
       "      dtype='object')"
      ]
     },
     "execution_count": 6,
     "metadata": {},
     "output_type": "execute_result"
    }
   ],
   "source": [
    "size_related.columns"
   ]
  },
  {
   "cell_type": "code",
   "execution_count": 7,
   "id": "0ce51ed8-b370-4d5d-8291-6311924c8165",
   "metadata": {},
   "outputs": [
    {
     "name": "stdout",
     "output_type": "stream",
     "text": [
      "GrLivArea:  1486\n",
      "LotArea:  10120\n",
      "MasVnrArea:  252\n",
      "BsmtUnfSF:  588\n",
      "TotalBsmtSF:  1065\n",
      "1stFlrSF:  1145\n",
      "2ndFlrSF:  779\n",
      "LowQualFinSF:  332\n",
      "GarageArea:  491\n",
      "WoodDeckSF:  199\n",
      "OpenPorchSF:  84\n",
      "PoolArea:  476\n"
     ]
    }
   ],
   "source": [
    "for col in size_related.columns:\n",
    "    print(f'{col}: ', round(size_related[size_related[col] != 0 ][col].mean()))"
   ]
  },
  {
   "cell_type": "code",
   "execution_count": 8,
   "id": "f90e4854-2b50-459f-bc50-83266fd14b6d",
   "metadata": {},
   "outputs": [
    {
     "name": "stdout",
     "output_type": "stream",
     "text": [
      "LotFrontage:  462\n",
      "Alley:  2412\n",
      "MasVnrType:  14\n",
      "MasVnrArea:  14\n",
      "BsmtQual:  69\n",
      "BsmtCond:  69\n",
      "BsmtExposure:  71\n",
      "BsmtFinType1:  69\n",
      "BsmtFinSF1:  1\n",
      "BsmtFinType2:  70\n",
      "BsmtFinSF2:  1\n",
      "BsmtUnfSF:  1\n",
      "TotalBsmtSF:  1\n",
      "Electrical:  1\n",
      "BsmtFullBath:  2\n",
      "BsmtHalfBath:  2\n",
      "FireplaceQu:  1241\n",
      "GarageType:  127\n",
      "GarageYrBlt:  129\n",
      "GarageFinish:  129\n",
      "GarageCars:  1\n",
      "GarageArea:  1\n",
      "GarageQual:  129\n",
      "GarageCond:  129\n",
      "PoolQC:  2571\n",
      "Fence:  2055\n",
      "MiscFeature:  2483\n"
     ]
    }
   ],
   "source": [
    "for col in housing.columns:\n",
    "    if housing[col].isnull().sum() != 0:\n",
    "        print(f'{col}: ', housing[col].isnull().sum())"
   ]
  },
  {
   "cell_type": "code",
   "execution_count": 9,
   "id": "e01b7d0a-d576-4357-8d57-c1c3ef3d13d2",
   "metadata": {},
   "outputs": [],
   "source": [
    "with open('housePrice_features') as hp_feat:\n",
    "    hp_dict = {}\n",
    "    for line in hp_feat.readlines():\n",
    "        feature, description = [*line.split(':')]\n",
    "        hp_dict[feature] = description"
   ]
  },
  {
   "cell_type": "code",
   "execution_count": 10,
   "id": "9b7b8766-99ad-4520-ac9b-9969768e36b6",
   "metadata": {},
   "outputs": [
    {
     "data": {
      "text/plain": [
       "' Pool quality\\n'"
      ]
     },
     "execution_count": 10,
     "metadata": {},
     "output_type": "execute_result"
    }
   ],
   "source": [
    "hp_dict['PoolQC']"
   ]
  },
  {
   "cell_type": "code",
   "execution_count": 11,
   "id": "be9330d4-5371-44ec-b48c-3ef9c8d9dcb2",
   "metadata": {},
   "outputs": [
    {
     "data": {
      "text/plain": [
       "array([nan, 'Shed', 'Othr', 'Gar2', 'TenC'], dtype=object)"
      ]
     },
     "execution_count": 11,
     "metadata": {},
     "output_type": "execute_result"
    }
   ],
   "source": [
    "housing['MiscFeature'].unique()"
   ]
  },
  {
   "cell_type": "code",
   "execution_count": 12,
   "id": "0b9c42af-a99c-4230-9f98-6d32975e57dc",
   "metadata": {},
   "outputs": [
    {
     "data": {
      "text/plain": [
       "180    228500\n",
       "192    130000\n",
       "657    153000\n",
       "Name: SalePrice, dtype: int64"
      ]
     },
     "execution_count": 12,
     "metadata": {},
     "output_type": "execute_result"
    }
   ],
   "source": [
    "housing[housing['PoolQC'] == 'TA']['SalePrice']"
   ]
  },
  {
   "cell_type": "code",
   "execution_count": 13,
   "id": "4724df69-8da3-4a21-a17a-a2470b6ec3e1",
   "metadata": {},
   "outputs": [
    {
     "data": {
      "text/html": [
       "<div>\n",
       "<style scoped>\n",
       "    .dataframe tbody tr th:only-of-type {\n",
       "        vertical-align: middle;\n",
       "    }\n",
       "\n",
       "    .dataframe tbody tr th {\n",
       "        vertical-align: top;\n",
       "    }\n",
       "\n",
       "    .dataframe thead th {\n",
       "        text-align: right;\n",
       "    }\n",
       "</style>\n",
       "<table border=\"1\" class=\"dataframe\">\n",
       "  <thead>\n",
       "    <tr style=\"text-align: right;\">\n",
       "      <th></th>\n",
       "      <th>mean</th>\n",
       "      <th>median</th>\n",
       "    </tr>\n",
       "    <tr>\n",
       "      <th>PoolQC</th>\n",
       "      <th></th>\n",
       "      <th></th>\n",
       "    </tr>\n",
       "  </thead>\n",
       "  <tbody>\n",
       "    <tr>\n",
       "      <th>Ex</th>\n",
       "      <td>465000.0</td>\n",
       "      <td>465000.0</td>\n",
       "    </tr>\n",
       "    <tr>\n",
       "      <th>Fa</th>\n",
       "      <td>215500.0</td>\n",
       "      <td>215500.0</td>\n",
       "    </tr>\n",
       "    <tr>\n",
       "      <th>Gd</th>\n",
       "      <td>215500.0</td>\n",
       "      <td>215500.0</td>\n",
       "    </tr>\n",
       "    <tr>\n",
       "      <th>TA</th>\n",
       "      <td>170500.0</td>\n",
       "      <td>153000.0</td>\n",
       "    </tr>\n",
       "  </tbody>\n",
       "</table>\n",
       "</div>"
      ],
      "text/plain": [
       "            mean    median\n",
       "PoolQC                    \n",
       "Ex      465000.0  465000.0\n",
       "Fa      215500.0  215500.0\n",
       "Gd      215500.0  215500.0\n",
       "TA      170500.0  153000.0"
      ]
     },
     "execution_count": 13,
     "metadata": {},
     "output_type": "execute_result"
    }
   ],
   "source": [
    "pools = housing.groupby('PoolQC')\n",
    "pools = pd.DataFrame(pools['SalePrice'].aggregate(['mean', 'median']))\n",
    "pools"
   ]
  },
  {
   "cell_type": "code",
   "execution_count": null,
   "id": "4a67285a-8735-43f3-a3e6-1134192b633f",
   "metadata": {},
   "outputs": [],
   "source": []
  },
  {
   "cell_type": "code",
   "execution_count": null,
   "id": "ac8361b2-7620-4c28-8e46-d074a6d26570",
   "metadata": {},
   "outputs": [],
   "source": []
  }
 ],
 "metadata": {
  "kernelspec": {
   "display_name": "Python 3 (ipykernel)",
   "language": "python",
   "name": "python3"
  },
  "language_info": {
   "codemirror_mode": {
    "name": "ipython",
    "version": 3
   },
   "file_extension": ".py",
   "mimetype": "text/x-python",
   "name": "python",
   "nbconvert_exporter": "python",
   "pygments_lexer": "ipython3",
   "version": "3.8.8"
  }
 },
 "nbformat": 4,
 "nbformat_minor": 5
}
