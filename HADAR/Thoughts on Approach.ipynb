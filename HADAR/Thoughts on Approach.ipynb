{
 "cells": [
  {
   "cell_type": "markdown",
   "id": "c244942f",
   "metadata": {},
   "source": [
    "### Angle\n",
    "\n",
    "Would be nice to have predictive models, focusing on the practical application of: \n",
    "\n",
    "\"**Business Intelligence for the Home Builder/Flipper:** A new home builder/old house remodeler would like to get into building new homes or flipping older houses for profit. Based on your modeling result, provide insights for your client. This is a more difficult question because it is hard to estimate building costs.\"\n",
    "\n",
    "It could be recommendations based on features (location, house type, etc.) to anybody (flipping, renovations, building) with a prediction of how much a house with certain features in a certain location would sell for. \n",
    "\n",
    "\n",
    "#### Clusters\n",
    "**House Price**\n",
    "- date\n",
    "- area\n",
    "- basement\n",
    "- garage\n",
    "- bed/bath\n",
    "- outdoor\n",
    "- energy\n",
    "**Real Estate**\n",
    "- geo"
   ]
  },
  {
   "cell_type": "code",
   "execution_count": null,
   "id": "5317233b",
   "metadata": {},
   "outputs": [],
   "source": []
  }
 ],
 "metadata": {
  "kernelspec": {
   "display_name": "Python 3",
   "language": "python",
   "name": "python3"
  },
  "language_info": {
   "codemirror_mode": {
    "name": "ipython",
    "version": 3
   },
   "file_extension": ".py",
   "mimetype": "text/x-python",
   "name": "python",
   "nbconvert_exporter": "python",
   "pygments_lexer": "ipython3",
   "version": "3.8.8"
  }
 },
 "nbformat": 4,
 "nbformat_minor": 5
}
