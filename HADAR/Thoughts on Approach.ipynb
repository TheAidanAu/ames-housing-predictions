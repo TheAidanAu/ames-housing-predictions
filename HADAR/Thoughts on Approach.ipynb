{
 "cells": [
  {
   "cell_type": "markdown",
   "id": "c244942f",
   "metadata": {},
   "source": [
    "### Angle\n",
    "\n",
    "Descriptive / predictive models  \n",
    "\n",
    "\"**Business Intelligence for the Home Builder/Flipper:** A new home builder/old house remodeler would like to get into building new homes or flipping older houses for profit. Based on your modeling result, provide insights for your client. This is a more difficult question because it is hard to estimate building costs.\"\n",
    "\n",
    "It could be recommendations based on features (location, house type, etc.) to anybody (flipping, renovations, building) with a prediction of how much a house with certain features in a certain location would sell for. \n",
    "\n",
    "### Approach\n",
    "\n",
    "- Is feature selection and simple linear necessary if we can just fit models to all features and use penalization?\n",
    "- \n",
    "\n",
    "\n",
    "### Clusters\n",
    "**House Price**\n",
    "- date\n",
    "- area/size\n",
    "- land/location\n",
    "- basement\n",
    "- garage\n",
    "- bed/bath\n",
    "- outdoor\n",
    "- energy\n",
    "\n",
    "**Real Estate**\n",
    "- location"
   ]
  },
  {
   "cell_type": "code",
   "execution_count": null,
   "id": "80e6ca25-fa27-4946-8369-3a8ac59a6da3",
   "metadata": {},
   "outputs": [],
   "source": []
  }
 ],
 "metadata": {
  "kernelspec": {
   "display_name": "Python 3",
   "language": "python",
   "name": "python3"
  },
  "language_info": {
   "codemirror_mode": {
    "name": "ipython",
    "version": 3
   },
   "file_extension": ".py",
   "mimetype": "text/x-python",
   "name": "python",
   "nbconvert_exporter": "python",
   "pygments_lexer": "ipython3",
   "version": "3.8.8"
  }
 },
 "nbformat": 4,
 "nbformat_minor": 5
}
