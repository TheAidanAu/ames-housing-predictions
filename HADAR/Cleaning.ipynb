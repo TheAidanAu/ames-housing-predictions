{
 "cells": [
  {
   "cell_type": "markdown",
   "id": "ee1c40cb",
   "metadata": {},
   "source": [
    "# Cleaning and EDA"
   ]
  },
  {
   "cell_type": "code",
   "execution_count": 2,
   "id": "6d631296",
   "metadata": {},
   "outputs": [],
   "source": [
    "import numpy as np\n",
    "import pandas as pd\n",
    "import matplotlib.pyplot as plt\n",
    "%matplotlib inline\n",
    "from scipy import stats"
   ]
  },
  {
   "cell_type": "code",
   "execution_count": 3,
   "id": "77940db8",
   "metadata": {},
   "outputs": [
    {
     "name": "stderr",
     "output_type": "stream",
     "text": [
      "C:\\Users\\hzeig\\anaconda3\\lib\\site-packages\\IPython\\core\\interactiveshell.py:3165: DtypeWarning: Columns (36,40,81,87) have mixed types.Specify dtype option on import or set low_memory=False.\n",
      "  has_raised = await self.run_ast_nodes(code_ast.body, cell_name,\n"
     ]
    }
   ],
   "source": [
    "realEstate = pd.read_csv('Ames Real Estate Data.csv')\n",
    "housePrice = pd.read_csv('Ames_HousePrice.csv')\n",
    "table = pd.read_excel('Tbl_DataExportSpec.xls')"
   ]
  },
  {
   "cell_type": "code",
   "execution_count": 7,
   "id": "0dc368fa",
   "metadata": {},
   "outputs": [
    {
     "data": {
      "text/plain": [
       "(22213, 91)"
      ]
     },
     "execution_count": 7,
     "metadata": {},
     "output_type": "execute_result"
    }
   ],
   "source": [
    "realEstate.shape"
   ]
  },
  {
   "cell_type": "code",
   "execution_count": 8,
   "id": "1ad8b8d8",
   "metadata": {},
   "outputs": [
    {
     "data": {
      "text/plain": [
       "(2580, 82)"
      ]
     },
     "execution_count": 8,
     "metadata": {},
     "output_type": "execute_result"
    }
   ],
   "source": [
    "housePrice.shape"
   ]
  },
  {
   "cell_type": "code",
   "execution_count": 9,
   "id": "19f6dcc9",
   "metadata": {},
   "outputs": [
    {
     "data": {
      "text/plain": [
       "(100, 7)"
      ]
     },
     "execution_count": 9,
     "metadata": {},
     "output_type": "execute_result"
    }
   ],
   "source": [
    "table.shape   # table contains information for realEstate columns"
   ]
  },
  {
   "cell_type": "code",
   "execution_count": null,
   "id": "09b1aebb",
   "metadata": {},
   "outputs": [],
   "source": [
    "# cleaning housePrice (not sure if we need realEstate yet)"
   ]
  },
  {
   "cell_type": "code",
   "execution_count": 73,
   "id": "1f0308a4",
   "metadata": {},
   "outputs": [],
   "source": [
    "# dictionary of housePrice column meanings for quick reference\n",
    "with open('housePrice_features') as hp_feat:\n",
    "    hp_dict = {}\n",
    "    for line in hp_feat.readlines():\n",
    "        feature, description = [*line.split(':')]\n",
    "        hp_dict[feature] = description"
   ]
  },
  {
   "cell_type": "code",
   "execution_count": 76,
   "id": "90e0c77b",
   "metadata": {},
   "outputs": [
    {
     "data": {
      "text/plain": [
       "' Linear feet of street connected to property\\n'"
      ]
     },
     "execution_count": 76,
     "metadata": {},
     "output_type": "execute_result"
    }
   ],
   "source": [
    "hp_dict['LotFrontage']"
   ]
  },
  {
   "cell_type": "code",
   "execution_count": 64,
   "id": "57fb802a",
   "metadata": {},
   "outputs": [
    {
     "data": {
      "text/plain": [
       "LotFrontage      462\n",
       "Alley           2412\n",
       "FireplaceQu     1241\n",
       "GarageType       127\n",
       "GarageYrBlt      129\n",
       "GarageFinish     129\n",
       "GarageQual       129\n",
       "GarageCond       129\n",
       "PoolQC          2571\n",
       "Fence           2055\n",
       "MiscFeature     2483\n",
       "dtype: int64"
      ]
     },
     "execution_count": 64,
     "metadata": {},
     "output_type": "execute_result"
    }
   ],
   "source": [
    "# imputing missing values\n",
    "# columns with NaN\n",
    "# many_na = housePrice.loc[:, housePrice.isna().sum() > 0 ]\n",
    "many_na = housePrice.loc[:, housePrice.isna().sum() > (len(housePrice)/30)]\n",
    "many_na.isna().sum()"
   ]
  },
  {
   "cell_type": "code",
   "execution_count": 77,
   "id": "b72eee5e",
   "metadata": {},
   "outputs": [],
   "source": [
    "# investigate columns appropriate to replace NaN with 0:\n",
    "\n",
    "# LotFrontage"
   ]
  },
  {
   "cell_type": "code",
   "execution_count": 26,
   "id": "7944b3c3",
   "metadata": {
    "scrolled": false
   },
   "outputs": [
    {
     "data": {
      "text/plain": [
       "Street  Alley  Utilities  CentralAir\n",
       "Pave    Grvl   AllPub     Y             82\n",
       "        Pave   AllPub     Y             56\n",
       "        Grvl   AllPub     N             23\n",
       "        Pave   AllPub     N              7\n",
       "dtype: int64"
      ]
     },
     "execution_count": 26,
     "metadata": {},
     "output_type": "execute_result"
    }
   ],
   "source": [
    "# finding columns with few unique values\n",
    "\n",
    "two_val_columns = housePrice.loc[:, housePrice.apply(lambda x: x.nunique()) <= 2]\n",
    "two_val_columns.value_counts()"
   ]
  },
  {
   "cell_type": "code",
   "execution_count": null,
   "id": "966b2017",
   "metadata": {},
   "outputs": [],
   "source": []
  },
  {
   "cell_type": "code",
   "execution_count": 27,
   "id": "acf1d02e",
   "metadata": {},
   "outputs": [
    {
     "data": {
      "text/plain": [
       "14"
      ]
     },
     "execution_count": 27,
     "metadata": {},
     "output_type": "execute_result"
    }
   ],
   "source": [
    "(realEstate.isnull().sum() > 20000).sum()\n",
    "# realEstate = realEstate.dropna()\n",
    "# realEstate[realEstate.isnull().all()==True]"
   ]
  },
  {
   "cell_type": "code",
   "execution_count": null,
   "id": "761ad147",
   "metadata": {},
   "outputs": [],
   "source": []
  }
 ],
 "metadata": {
  "kernelspec": {
   "display_name": "Python 3",
   "language": "python",
   "name": "python3"
  },
  "language_info": {
   "codemirror_mode": {
    "name": "ipython",
    "version": 3
   },
   "file_extension": ".py",
   "mimetype": "text/x-python",
   "name": "python",
   "nbconvert_exporter": "python",
   "pygments_lexer": "ipython3",
   "version": "3.8.8"
  }
 },
 "nbformat": 4,
 "nbformat_minor": 5
}
