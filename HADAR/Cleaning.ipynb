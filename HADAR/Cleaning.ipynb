{
 "cells": [
  {
   "cell_type": "markdown",
   "id": "ee1c40cb",
   "metadata": {},
   "source": [
    "# Cleaning and EDA\n",
    "\n"
   ]
  },
  {
   "cell_type": "code",
   "execution_count": 2,
   "id": "6d631296",
   "metadata": {},
   "outputs": [],
   "source": [
    "import numpy as np\n",
    "import pandas as pd\n",
    "import matplotlib.pyplot as plt\n",
    "%matplotlib inline\n",
    "from scipy import stats"
   ]
  },
  {
   "cell_type": "code",
   "execution_count": 3,
   "id": "77940db8",
   "metadata": {},
   "outputs": [
    {
     "name": "stderr",
     "output_type": "stream",
     "text": [
      "C:\\Users\\hzeig\\anaconda3\\lib\\site-packages\\IPython\\core\\interactiveshell.py:3165: DtypeWarning: Columns (36,40,81,87) have mixed types.Specify dtype option on import or set low_memory=False.\n",
      "  has_raised = await self.run_ast_nodes(code_ast.body, cell_name,\n"
     ]
    }
   ],
   "source": [
    "realEstate = pd.read_csv('Ames Real Estate Data.csv')\n",
    "housePrice = pd.read_csv('Ames_HousePrice.csv')\n",
    "table = pd.read_excel('Tbl_DataExportSpec.xls')"
   ]
  },
  {
   "cell_type": "code",
   "execution_count": 4,
   "id": "0dc368fa",
   "metadata": {},
   "outputs": [
    {
     "data": {
      "text/plain": [
       "(22213, 91)"
      ]
     },
     "execution_count": 4,
     "metadata": {},
     "output_type": "execute_result"
    }
   ],
   "source": [
    "realEstate.shape"
   ]
  },
  {
   "cell_type": "code",
   "execution_count": 5,
   "id": "edb8148a",
   "metadata": {},
   "outputs": [
    {
     "data": {
      "text/plain": [
       "(2580, 82)"
      ]
     },
     "execution_count": 5,
     "metadata": {},
     "output_type": "execute_result"
    }
   ],
   "source": [
    "housePrice.shape"
   ]
  },
  {
   "cell_type": "code",
   "execution_count": 6,
   "id": "b43bf1e9",
   "metadata": {},
   "outputs": [
    {
     "data": {
      "text/plain": [
       "(100, 7)"
      ]
     },
     "execution_count": 6,
     "metadata": {},
     "output_type": "execute_result"
    }
   ],
   "source": [
    "table.shape   # table contains information for realEstate columns"
   ]
  },
  {
   "cell_type": "code",
   "execution_count": 7,
   "id": "bdfa0c5a",
   "metadata": {},
   "outputs": [],
   "source": [
    "# cleaning housePrice (not sure if we need realEstate yet)"
   ]
  },
  {
   "cell_type": "code",
   "execution_count": 8,
   "id": "4411ed81",
   "metadata": {},
   "outputs": [],
   "source": [
    "# dictionary of housePrice column meanings for quick reference\n",
    "with open('housePrice_features') as hp_feat:\n",
    "    hp_dict = {}\n",
    "    for line in hp_feat.readlines():\n",
    "        feature, description = [*line.split(':')]\n",
    "        hp_dict[feature] = description"
   ]
  },
  {
   "cell_type": "code",
   "execution_count": 21,
   "id": "cd0215e3",
   "metadata": {},
   "outputs": [
    {
     "data": {
      "text/plain": [
       "' Linear feet of street connected to property\\n'"
      ]
     },
     "execution_count": 21,
     "metadata": {},
     "output_type": "execute_result"
    }
   ],
   "source": [
    "hp_dict['LotFrontage']"
   ]
  },
  {
   "cell_type": "code",
   "execution_count": 18,
   "id": "3306e707",
   "metadata": {},
   "outputs": [],
   "source": [
    "# imputing missing values\n",
    "# columns with NaN\n",
    "many_na = housePrice.loc[:, housePrice.isna().sum() > 0 ]\n",
    "# many_na = housePrice.loc[:, housePrice.isna().sum() > (len(housePrice)/30)]\n",
    "nas = many_na.isna().sum().sort_values(ascending = False)"
   ]
  },
  {
   "cell_type": "code",
   "execution_count": null,
   "id": "4dff9d83",
   "metadata": {},
   "outputs": [],
   "source": [
    "# investigate / impute column NaNs"
   ]
  },
  {
   "cell_type": "code",
   "execution_count": 65,
   "id": "a5444cfd",
   "metadata": {},
   "outputs": [
    {
     "data": {
      "text/html": [
       "<div>\n",
       "<style scoped>\n",
       "    .dataframe tbody tr th:only-of-type {\n",
       "        vertical-align: middle;\n",
       "    }\n",
       "\n",
       "    .dataframe tbody tr th {\n",
       "        vertical-align: top;\n",
       "    }\n",
       "\n",
       "    .dataframe thead th {\n",
       "        text-align: right;\n",
       "    }\n",
       "</style>\n",
       "<table border=\"1\" class=\"dataframe\">\n",
       "  <thead>\n",
       "    <tr style=\"text-align: right;\">\n",
       "      <th></th>\n",
       "      <th>mean</th>\n",
       "      <th>std</th>\n",
       "      <th>count</th>\n",
       "    </tr>\n",
       "    <tr>\n",
       "      <th>PoolQC</th>\n",
       "      <th></th>\n",
       "      <th></th>\n",
       "      <th></th>\n",
       "    </tr>\n",
       "  </thead>\n",
       "  <tbody>\n",
       "    <tr>\n",
       "      <th>Ex</th>\n",
       "      <td>465000</td>\n",
       "      <td>212132.034356</td>\n",
       "      <td>2</td>\n",
       "    </tr>\n",
       "    <tr>\n",
       "      <th>Fa</th>\n",
       "      <td>215500</td>\n",
       "      <td>48790.367902</td>\n",
       "      <td>2</td>\n",
       "    </tr>\n",
       "    <tr>\n",
       "      <th>Gd</th>\n",
       "      <td>215500</td>\n",
       "      <td>62932.503526</td>\n",
       "      <td>2</td>\n",
       "    </tr>\n",
       "    <tr>\n",
       "      <th>TA</th>\n",
       "      <td>170500</td>\n",
       "      <td>51529.117982</td>\n",
       "      <td>3</td>\n",
       "    </tr>\n",
       "  </tbody>\n",
       "</table>\n",
       "</div>"
      ],
      "text/plain": [
       "          mean            std  count\n",
       "PoolQC                              \n",
       "Ex      465000  212132.034356      2\n",
       "Fa      215500   48790.367902      2\n",
       "Gd      215500   62932.503526      2\n",
       "TA      170500   51529.117982      3"
      ]
     },
     "execution_count": 65,
     "metadata": {},
     "output_type": "execute_result"
    }
   ],
   "source": [
    "hp_dict['PoolQC']             \n",
    "housePrice.PoolQC.unique()\n",
    "housePrice.PoolQC.value_counts()\n",
    "housePrice.groupby('PoolQC')['SalePrice'].agg(['mean', 'std', 'count'])"
   ]
  },
  {
   "cell_type": "code",
   "execution_count": 58,
   "id": "564789fe",
   "metadata": {},
   "outputs": [
    {
     "data": {
      "text/html": [
       "<div>\n",
       "<style scoped>\n",
       "    .dataframe tbody tr th:only-of-type {\n",
       "        vertical-align: middle;\n",
       "    }\n",
       "\n",
       "    .dataframe tbody tr th {\n",
       "        vertical-align: top;\n",
       "    }\n",
       "\n",
       "    .dataframe thead th {\n",
       "        text-align: right;\n",
       "    }\n",
       "</style>\n",
       "<table border=\"1\" class=\"dataframe\">\n",
       "  <thead>\n",
       "    <tr style=\"text-align: right;\">\n",
       "      <th></th>\n",
       "      <th>mean</th>\n",
       "      <th>std</th>\n",
       "      <th>count</th>\n",
       "    </tr>\n",
       "    <tr>\n",
       "      <th>MiscFeature</th>\n",
       "      <th></th>\n",
       "      <th></th>\n",
       "      <th></th>\n",
       "    </tr>\n",
       "  </thead>\n",
       "  <tbody>\n",
       "    <tr>\n",
       "      <th>Gar2</th>\n",
       "      <td>147500.000000</td>\n",
       "      <td>36335.244598</td>\n",
       "      <td>5</td>\n",
       "    </tr>\n",
       "    <tr>\n",
       "      <th>Othr</th>\n",
       "      <td>124666.666667</td>\n",
       "      <td>65896.383310</td>\n",
       "      <td>3</td>\n",
       "    </tr>\n",
       "    <tr>\n",
       "      <th>Shed</th>\n",
       "      <td>156386.363636</td>\n",
       "      <td>42726.987304</td>\n",
       "      <td>88</td>\n",
       "    </tr>\n",
       "    <tr>\n",
       "      <th>TenC</th>\n",
       "      <td>250000.000000</td>\n",
       "      <td>NaN</td>\n",
       "      <td>1</td>\n",
       "    </tr>\n",
       "  </tbody>\n",
       "</table>\n",
       "</div>"
      ],
      "text/plain": [
       "                      mean           std  count\n",
       "MiscFeature                                    \n",
       "Gar2         147500.000000  36335.244598      5\n",
       "Othr         124666.666667  65896.383310      3\n",
       "Shed         156386.363636  42726.987304     88\n",
       "TenC         250000.000000           NaN      1"
      ]
     },
     "execution_count": 58,
     "metadata": {},
     "output_type": "execute_result"
    }
   ],
   "source": [
    "hp_dict['MiscFeature']                                # drop\n",
    "# housePrice.MiscFeature.unique()\n",
    "# housePrice.MiscFeature.value_counts()\n",
    "housePrice.groupby('MiscFeature')['SalePrice'].agg(['mean', 'std', 'count'])"
   ]
  },
  {
   "cell_type": "code",
   "execution_count": 59,
   "id": "d56c31d1",
   "metadata": {},
   "outputs": [
    {
     "data": {
      "text/html": [
       "<div>\n",
       "<style scoped>\n",
       "    .dataframe tbody tr th:only-of-type {\n",
       "        vertical-align: middle;\n",
       "    }\n",
       "\n",
       "    .dataframe tbody tr th {\n",
       "        vertical-align: top;\n",
       "    }\n",
       "\n",
       "    .dataframe thead th {\n",
       "        text-align: right;\n",
       "    }\n",
       "</style>\n",
       "<table border=\"1\" class=\"dataframe\">\n",
       "  <thead>\n",
       "    <tr style=\"text-align: right;\">\n",
       "      <th></th>\n",
       "      <th>count</th>\n",
       "      <th>mean</th>\n",
       "      <th>std</th>\n",
       "    </tr>\n",
       "    <tr>\n",
       "      <th>Alley</th>\n",
       "      <th></th>\n",
       "      <th></th>\n",
       "      <th></th>\n",
       "    </tr>\n",
       "  </thead>\n",
       "  <tbody>\n",
       "    <tr>\n",
       "      <th>Grvl</th>\n",
       "      <td>105</td>\n",
       "      <td>126345.990476</td>\n",
       "      <td>36101.160174</td>\n",
       "    </tr>\n",
       "    <tr>\n",
       "      <th>Pave</th>\n",
       "      <td>63</td>\n",
       "      <td>178559.698413</td>\n",
       "      <td>45650.146340</td>\n",
       "    </tr>\n",
       "  </tbody>\n",
       "</table>\n",
       "</div>"
      ],
      "text/plain": [
       "       count           mean           std\n",
       "Alley                                    \n",
       "Grvl     105  126345.990476  36101.160174\n",
       "Pave      63  178559.698413  45650.146340"
      ]
     },
     "execution_count": 59,
     "metadata": {},
     "output_type": "execute_result"
    }
   ],
   "source": [
    "hp_dict['Alley']\n",
    "# housePrice.Alley.unique()\n",
    "housePrice.Alley.value_counts()\n",
    "housePrice.groupby('Alley')['SalePrice'].agg(['count','mean','std'])"
   ]
  },
  {
   "cell_type": "code",
   "execution_count": 63,
   "id": "e834c021",
   "metadata": {},
   "outputs": [
    {
     "data": {
      "text/html": [
       "<div>\n",
       "<style scoped>\n",
       "    .dataframe tbody tr th:only-of-type {\n",
       "        vertical-align: middle;\n",
       "    }\n",
       "\n",
       "    .dataframe tbody tr th {\n",
       "        vertical-align: top;\n",
       "    }\n",
       "\n",
       "    .dataframe thead th {\n",
       "        text-align: right;\n",
       "    }\n",
       "</style>\n",
       "<table border=\"1\" class=\"dataframe\">\n",
       "  <thead>\n",
       "    <tr style=\"text-align: right;\">\n",
       "      <th></th>\n",
       "      <th>count</th>\n",
       "      <th>mean</th>\n",
       "      <th>std</th>\n",
       "    </tr>\n",
       "    <tr>\n",
       "      <th>Fence</th>\n",
       "      <th></th>\n",
       "      <th></th>\n",
       "      <th></th>\n",
       "    </tr>\n",
       "  </thead>\n",
       "  <tbody>\n",
       "    <tr>\n",
       "      <th>GdPrv</th>\n",
       "      <td>111</td>\n",
       "      <td>176726.576577</td>\n",
       "      <td>62331.695505</td>\n",
       "    </tr>\n",
       "    <tr>\n",
       "      <th>GdWo</th>\n",
       "      <td>103</td>\n",
       "      <td>144750.223301</td>\n",
       "      <td>47246.448542</td>\n",
       "    </tr>\n",
       "    <tr>\n",
       "      <th>MnPrv</th>\n",
       "      <td>301</td>\n",
       "      <td>146485.810631</td>\n",
       "      <td>44748.238487</td>\n",
       "    </tr>\n",
       "    <tr>\n",
       "      <th>MnWw</th>\n",
       "      <td>10</td>\n",
       "      <td>131965.000000</td>\n",
       "      <td>22333.856337</td>\n",
       "    </tr>\n",
       "  </tbody>\n",
       "</table>\n",
       "</div>"
      ],
      "text/plain": [
       "       count           mean           std\n",
       "Fence                                    \n",
       "GdPrv    111  176726.576577  62331.695505\n",
       "GdWo     103  144750.223301  47246.448542\n",
       "MnPrv    301  146485.810631  44748.238487\n",
       "MnWw      10  131965.000000  22333.856337"
      ]
     },
     "execution_count": 63,
     "metadata": {},
     "output_type": "execute_result"
    }
   ],
   "source": [
    "hp_dict['Fence']  \n",
    "# Good Privacy - GdPr\n",
    "# Good Wood - GdWo\n",
    "# Minimum Privacy - MnPr\n",
    "# Minimum Wood - MnWw\n",
    "housePrice.groupby('Fence')['SalePrice'].agg(['count','mean','std'])"
   ]
  },
  {
   "cell_type": "code",
   "execution_count": 61,
   "id": "567f0407",
   "metadata": {},
   "outputs": [
    {
     "data": {
      "text/html": [
       "<div>\n",
       "<style scoped>\n",
       "    .dataframe tbody tr th:only-of-type {\n",
       "        vertical-align: middle;\n",
       "    }\n",
       "\n",
       "    .dataframe tbody tr th {\n",
       "        vertical-align: top;\n",
       "    }\n",
       "\n",
       "    .dataframe thead th {\n",
       "        text-align: right;\n",
       "    }\n",
       "</style>\n",
       "<table border=\"1\" class=\"dataframe\">\n",
       "  <thead>\n",
       "    <tr style=\"text-align: right;\">\n",
       "      <th></th>\n",
       "      <th>count</th>\n",
       "      <th>mean</th>\n",
       "      <th>std</th>\n",
       "    </tr>\n",
       "    <tr>\n",
       "      <th>FireplaceQu</th>\n",
       "      <th></th>\n",
       "      <th></th>\n",
       "      <th></th>\n",
       "    </tr>\n",
       "  </thead>\n",
       "  <tbody>\n",
       "    <tr>\n",
       "      <th>Ex</th>\n",
       "      <td>35</td>\n",
       "      <td>340444.542857</td>\n",
       "      <td>112432.168836</td>\n",
       "    </tr>\n",
       "    <tr>\n",
       "      <th>Fa</th>\n",
       "      <td>70</td>\n",
       "      <td>168482.142857</td>\n",
       "      <td>36079.397184</td>\n",
       "    </tr>\n",
       "    <tr>\n",
       "      <th>Gd</th>\n",
       "      <td>619</td>\n",
       "      <td>223019.756058</td>\n",
       "      <td>91182.521787</td>\n",
       "    </tr>\n",
       "    <tr>\n",
       "      <th>Po</th>\n",
       "      <td>43</td>\n",
       "      <td>142528.674419</td>\n",
       "      <td>34116.467478</td>\n",
       "    </tr>\n",
       "    <tr>\n",
       "      <th>TA</th>\n",
       "      <td>572</td>\n",
       "      <td>204473.805944</td>\n",
       "      <td>63380.868389</td>\n",
       "    </tr>\n",
       "  </tbody>\n",
       "</table>\n",
       "</div>"
      ],
      "text/plain": [
       "             count           mean            std\n",
       "FireplaceQu                                     \n",
       "Ex              35  340444.542857  112432.168836\n",
       "Fa              70  168482.142857   36079.397184\n",
       "Gd             619  223019.756058   91182.521787\n",
       "Po              43  142528.674419   34116.467478\n",
       "TA             572  204473.805944   63380.868389"
      ]
     },
     "execution_count": 61,
     "metadata": {},
     "output_type": "execute_result"
    }
   ],
   "source": [
    "hp_dict['FireplaceQu']\n",
    "housePrice.groupby('FireplaceQu')['SalePrice'].agg(['count','mean','std'])"
   ]
  },
  {
   "cell_type": "code",
   "execution_count": 26,
   "id": "44798b46",
   "metadata": {},
   "outputs": [
    {
     "data": {
      "text/plain": [
       "array([nan, 'Shed', 'Othr', 'Gar2', 'TenC'], dtype=object)"
      ]
     },
     "execution_count": 26,
     "metadata": {},
     "output_type": "execute_result"
    }
   ],
   "source": [
    "hp_dict['MiscFeature']\n",
    "housePrice.MiscFeature.unique()"
   ]
  },
  {
   "cell_type": "code",
   "execution_count": 19,
   "id": "72c115eb",
   "metadata": {},
   "outputs": [
    {
     "data": {
      "text/plain": [
       "PoolQC          2571\n",
       "MiscFeature     2483\n",
       "Alley           2412\n",
       "Fence           2055\n",
       "FireplaceQu     1241\n",
       "LotFrontage      462\n",
       "GarageCond       129\n",
       "GarageQual       129\n",
       "GarageFinish     129\n",
       "GarageYrBlt      129\n",
       "GarageType       127\n",
       "BsmtExposure      71\n",
       "BsmtFinType2      70\n",
       "BsmtFinType1      69\n",
       "BsmtQual          69\n",
       "BsmtCond          69\n",
       "MasVnrArea        14\n",
       "MasVnrType        14\n",
       "BsmtHalfBath       2\n",
       "BsmtFullBath       2\n",
       "TotalBsmtSF        1\n",
       "BsmtUnfSF          1\n",
       "GarageCars         1\n",
       "GarageArea         1\n",
       "BsmtFinSF2         1\n",
       "BsmtFinSF1         1\n",
       "Electrical         1\n",
       "dtype: int64"
      ]
     },
     "execution_count": 19,
     "metadata": {},
     "output_type": "execute_result"
    }
   ],
   "source": [
    "nas"
   ]
  },
  {
   "cell_type": "code",
   "execution_count": 77,
   "id": "e47ede02",
   "metadata": {},
   "outputs": [],
   "source": [
    "# LotFrontage"
   ]
  },
  {
   "cell_type": "code",
   "execution_count": 26,
   "id": "5a4d8465",
   "metadata": {
    "scrolled": false
   },
   "outputs": [
    {
     "data": {
      "text/plain": [
       "Street  Alley  Utilities  CentralAir\n",
       "Pave    Grvl   AllPub     Y             82\n",
       "        Pave   AllPub     Y             56\n",
       "        Grvl   AllPub     N             23\n",
       "        Pave   AllPub     N              7\n",
       "dtype: int64"
      ]
     },
     "execution_count": 26,
     "metadata": {},
     "output_type": "execute_result"
    }
   ],
   "source": [
    "# finding columns with few unique values\n",
    "\n",
    "two_val_columns = housePrice.loc[:, housePrice.apply(lambda x: x.nunique()) <= 2]\n",
    "two_val_columns.value_counts()"
   ]
  },
  {
   "cell_type": "code",
   "execution_count": null,
   "id": "5ed60461",
   "metadata": {},
   "outputs": [],
   "source": []
  },
  {
   "cell_type": "code",
   "execution_count": 27,
   "id": "acf1d02e",
   "metadata": {},
   "outputs": [
    {
     "data": {
      "text/plain": [
       "14"
      ]
     },
     "execution_count": 27,
     "metadata": {},
     "output_type": "execute_result"
    }
   ],
   "source": [
    "(realEstate.isnull().sum() > 20000).sum()\n",
    "# realEstate = realEstate.dropna()\n",
    "# realEstate[realEstate.isnull().all()==True]"
   ]
  },
  {
   "cell_type": "code",
   "execution_count": null,
   "id": "761ad147",
   "metadata": {},
   "outputs": [],
   "source": []
  }
 ],
 "metadata": {
  "kernelspec": {
   "display_name": "Python 3",
   "language": "python",
   "name": "python3"
  },
  "language_info": {
   "codemirror_mode": {
    "name": "ipython",
    "version": 3
   },
   "file_extension": ".py",
   "mimetype": "text/x-python",
   "name": "python",
   "nbconvert_exporter": "python",
   "pygments_lexer": "ipython3",
   "version": "3.8.8"
  }
 },
 "nbformat": 4,
 "nbformat_minor": 5
}
