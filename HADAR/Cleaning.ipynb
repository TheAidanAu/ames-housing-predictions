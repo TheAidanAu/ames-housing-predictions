{
 "cells": [
  {
   "cell_type": "markdown",
   "id": "ee1c40cb",
   "metadata": {},
   "source": [
    "# Cleaning\n",
    "\n"
   ]
  },
  {
   "cell_type": "code",
   "execution_count": 1,
   "id": "6d631296",
   "metadata": {},
   "outputs": [],
   "source": [
    "import numpy as np\n",
    "import pandas as pd\n",
    "import matplotlib.pyplot as plt\n",
    "%matplotlib inline\n",
    "from scipy import stats\n",
    "import statsmodels.api as sm\n",
    "from statsmodels.sandbox.regression.predstd import wls_prediction_std"
   ]
  },
  {
   "cell_type": "code",
   "execution_count": 2,
   "id": "77940db8",
   "metadata": {},
   "outputs": [
    {
     "name": "stderr",
     "output_type": "stream",
     "text": [
      "C:\\Users\\hzeig\\anaconda3\\lib\\site-packages\\IPython\\core\\interactiveshell.py:3165: DtypeWarning: Columns (36,40,81,87) have mixed types.Specify dtype option on import or set low_memory=False.\n",
      "  has_raised = await self.run_ast_nodes(code_ast.body, cell_name,\n"
     ]
    }
   ],
   "source": [
    "realEstate = pd.read_csv('Ames Real Estate Data.csv')\n",
    "housePrice = pd.read_csv('Ames_HousePrice.csv', low_memory=False)\n",
    "re_table = pd.read_csv('RealEstate_Table.csv')"
   ]
  },
  {
   "cell_type": "markdown",
   "id": "8b822c1b",
   "metadata": {},
   "source": [
    "### House Price Data"
   ]
  },
  {
   "cell_type": "code",
   "execution_count": 5,
   "id": "ab6b001c",
   "metadata": {},
   "outputs": [
    {
     "data": {
      "text/html": [
       "<div>\n",
       "<style scoped>\n",
       "    .dataframe tbody tr th:only-of-type {\n",
       "        vertical-align: middle;\n",
       "    }\n",
       "\n",
       "    .dataframe tbody tr th {\n",
       "        vertical-align: top;\n",
       "    }\n",
       "\n",
       "    .dataframe thead th {\n",
       "        text-align: right;\n",
       "    }\n",
       "</style>\n",
       "<table border=\"1\" class=\"dataframe\">\n",
       "  <thead>\n",
       "    <tr style=\"text-align: right;\">\n",
       "      <th></th>\n",
       "      <th>GarageYrBlt</th>\n",
       "      <th>MoSold</th>\n",
       "      <th>YrSold</th>\n",
       "    </tr>\n",
       "  </thead>\n",
       "  <tbody>\n",
       "    <tr>\n",
       "      <th>0</th>\n",
       "      <td>1939.0</td>\n",
       "      <td>3</td>\n",
       "      <td>2010</td>\n",
       "    </tr>\n",
       "    <tr>\n",
       "      <th>1</th>\n",
       "      <td>1984.0</td>\n",
       "      <td>2</td>\n",
       "      <td>2009</td>\n",
       "    </tr>\n",
       "    <tr>\n",
       "      <th>2</th>\n",
       "      <td>1930.0</td>\n",
       "      <td>11</td>\n",
       "      <td>2007</td>\n",
       "    </tr>\n",
       "    <tr>\n",
       "      <th>3</th>\n",
       "      <td>1940.0</td>\n",
       "      <td>5</td>\n",
       "      <td>2009</td>\n",
       "    </tr>\n",
       "    <tr>\n",
       "      <th>4</th>\n",
       "      <td>2001.0</td>\n",
       "      <td>11</td>\n",
       "      <td>2009</td>\n",
       "    </tr>\n",
       "    <tr>\n",
       "      <th>...</th>\n",
       "      <td>...</td>\n",
       "      <td>...</td>\n",
       "      <td>...</td>\n",
       "    </tr>\n",
       "    <tr>\n",
       "      <th>2575</th>\n",
       "      <td>1916.0</td>\n",
       "      <td>5</td>\n",
       "      <td>2009</td>\n",
       "    </tr>\n",
       "    <tr>\n",
       "      <th>2576</th>\n",
       "      <td>1955.0</td>\n",
       "      <td>6</td>\n",
       "      <td>2009</td>\n",
       "    </tr>\n",
       "    <tr>\n",
       "      <th>2577</th>\n",
       "      <td>1949.0</td>\n",
       "      <td>8</td>\n",
       "      <td>2007</td>\n",
       "    </tr>\n",
       "    <tr>\n",
       "      <th>2578</th>\n",
       "      <td>2000.0</td>\n",
       "      <td>7</td>\n",
       "      <td>2007</td>\n",
       "    </tr>\n",
       "    <tr>\n",
       "      <th>2579</th>\n",
       "      <td>1993.0</td>\n",
       "      <td>9</td>\n",
       "      <td>2006</td>\n",
       "    </tr>\n",
       "  </tbody>\n",
       "</table>\n",
       "<p>2580 rows × 3 columns</p>\n",
       "</div>"
      ],
      "text/plain": [
       "      GarageYrBlt  MoSold  YrSold\n",
       "0          1939.0       3    2010\n",
       "1          1984.0       2    2009\n",
       "2          1930.0      11    2007\n",
       "3          1940.0       5    2009\n",
       "4          2001.0      11    2009\n",
       "...           ...     ...     ...\n",
       "2575       1916.0       5    2009\n",
       "2576       1955.0       6    2009\n",
       "2577       1949.0       8    2007\n",
       "2578       2000.0       7    2007\n",
       "2579       1993.0       9    2006\n",
       "\n",
       "[2580 rows x 3 columns]"
      ]
     },
     "execution_count": 5,
     "metadata": {},
     "output_type": "execute_result"
    }
   ],
   "source": [
    "# DATE - standardize, combine\n",
    "\n",
    "date_ = housePrice.filter(regex='Yr|Mo|Date')\n",
    "date_"
   ]
  },
  {
   "cell_type": "code",
   "execution_count": 6,
   "id": "7b38dc7c",
   "metadata": {},
   "outputs": [
    {
     "data": {
      "text/plain": [
       "0      2010-01-01\n",
       "1      2009-01-01\n",
       "2      2007-01-01\n",
       "3      2009-01-01\n",
       "4      2009-01-01\n",
       "          ...    \n",
       "2575   2009-01-01\n",
       "2576   2009-01-01\n",
       "2577   2007-01-01\n",
       "2578   2007-01-01\n",
       "2579   2006-01-01\n",
       "Name: YrSold, Length: 2580, dtype: datetime64[ns]"
      ]
     },
     "execution_count": 6,
     "metadata": {},
     "output_type": "execute_result"
    }
   ],
   "source": [
    "# convert date columns to datetime\n",
    "housePrice['GarageYrBlt'].dtypes\n",
    "housePrice['GarageYrBlt'].astype('float')\n",
    "pd.to_datetime(housePrice.GarageYrBlt, format = '%Y')\n",
    "pd.to_datetime((housePrice.YrSold, format = '%Y'], [housePrice.MoSold, format = '%M'])\n",
    "pd.to_datetime(, format = '%Y')"
   ]
  },
  {
   "cell_type": "code",
   "execution_count": null,
   "id": "4411ed81",
   "metadata": {},
   "outputs": [],
   "source": [
    "# dictionary of housePrice column meanings for quick reference\n",
    "with open('housePrice_features') as hp_feat:\n",
    "    hp_dict = {}\n",
    "    for line in hp_feat.readlines():\n",
    "        feature, description = [*line.split(':')]\n",
    "        hp_dict[feature] = description"
   ]
  },
  {
   "cell_type": "code",
   "execution_count": null,
   "id": "cd0215e3",
   "metadata": {},
   "outputs": [],
   "source": [
    "hp_dict['LotFrontage']"
   ]
  },
  {
   "cell_type": "code",
   "execution_count": null,
   "id": "3306e707",
   "metadata": {},
   "outputs": [],
   "source": [
    "# function for viewing columns with missing values\n",
    "def nas(df):\n",
    "    return df.loc[:, df.isna().sum() > 0 ].isna().sum().sort_values(ascending = False)"
   ]
  },
  {
   "cell_type": "code",
   "execution_count": null,
   "id": "7c65ceb9",
   "metadata": {},
   "outputs": [],
   "source": [
    "# investigate / impute column NaNs one by one\n",
    "nas(housePrice)"
   ]
  },
  {
   "cell_type": "code",
   "execution_count": null,
   "id": "21d1c97a",
   "metadata": {},
   "outputs": [],
   "source": [
    "hp_dict['PoolQC']             \n",
    "housePrice.PoolQC.unique()\n",
    "housePrice.PoolQC = housePrice.PoolQC.fillna('none')\n",
    "housePrice.groupby('PoolQC')['SalePrice'].agg(['mean', 'std', 'count'])"
   ]
  },
  {
   "cell_type": "code",
   "execution_count": null,
   "id": "dcc35082",
   "metadata": {},
   "outputs": [],
   "source": [
    "hp_dict['MiscFeature']                                                           # drop\n",
    "housePrice.groupby('MiscFeature')['SalePrice'].agg(['mean', 'std', 'count'])\n",
    "housePrice = housePrice.drop('MiscFeature', axis = 1)"
   ]
  },
  {
   "cell_type": "code",
   "execution_count": null,
   "id": "47f23063",
   "metadata": {},
   "outputs": [],
   "source": [
    "hp_dict['Alley']\n",
    "# housePrice.Alley.unique()\n",
    "housePrice.Alley.value_counts()\n",
    "housePrice.Alley = housePrice.Alley.fillna('none')\n",
    "housePrice.groupby('Alley')['SalePrice'].agg(['count','mean','std'])"
   ]
  },
  {
   "cell_type": "code",
   "execution_count": null,
   "id": "11e03389",
   "metadata": {},
   "outputs": [],
   "source": [
    "hp_dict['Fence']  \n",
    "# Good Privacy - GdPr\n",
    "# Good Wood - GdWo\n",
    "# Minimum Privacy - MnPr\n",
    "# Minimum Wood - MnWw\n",
    "housePrice.Fence = housePrice.Fence.fillna('none')\n",
    "housePrice.groupby('Fence')['SalePrice'].agg(['count','mean','std'])"
   ]
  },
  {
   "cell_type": "code",
   "execution_count": null,
   "id": "f0585de9",
   "metadata": {},
   "outputs": [],
   "source": [
    "hp_dict['FireplaceQu']\n",
    "housePrice.FireplaceQu = housePrice.FireplaceQu.fillna('none')\n",
    "housePrice.groupby('FireplaceQu')['SalePrice'].agg(['count','mean','std'])"
   ]
  },
  {
   "cell_type": "code",
   "execution_count": null,
   "id": "80f9100f",
   "metadata": {},
   "outputs": [],
   "source": [
    "hp_dict['LotFrontage']                                 # impute using LotArea\n",
    "housePrice.loc[housePrice.LotFrontage == 31]\n",
    "housePrice.groupby('LotFrontage')['SalePrice'].agg(['count','mean','std'])"
   ]
  },
  {
   "cell_type": "markdown",
   "id": "53321e3f",
   "metadata": {},
   "source": [
    "#### [Iterative Imputing](https://machinelearningmastery.com/iterative-imputation-for-missing-values-in-machine-learning/)"
   ]
  },
  {
   "cell_type": "code",
   "execution_count": null,
   "id": "dfe2f544",
   "metadata": {},
   "outputs": [],
   "source": [
    "from sklearn.experimental import enable_iterative_imputer\n",
    "from sklearn.impute import IterativeImputer\n",
    "\n",
    "Lot_df = housePrice[['LotFrontage','LotArea']]\n",
    "imputer = IterativeImputer()\n",
    "imputer.fit(Lot_df)\n",
    "LotTrans = imputer.transform(Lot_df)\n",
    "Lot_Imputed = pd.DataFrame(LotTrans)\n",
    "housePrice['LotFrontage'] = Lot_Imputed[0]"
   ]
  },
  {
   "cell_type": "code",
   "execution_count": null,
   "id": "7a6d4b49",
   "metadata": {},
   "outputs": [],
   "source": [
    "nas(housePrice)"
   ]
  },
  {
   "cell_type": "code",
   "execution_count": null,
   "id": "e04c1805",
   "metadata": {},
   "outputs": [],
   "source": [
    "hp_dict['GarageCond']                                                       \n",
    "housePrice.GarageCond = housePrice.GarageCond.fillna('none')\n",
    "housePrice.groupby('GarageCond')['SalePrice'].agg(['count','mean','std'])"
   ]
  },
  {
   "cell_type": "code",
   "execution_count": null,
   "id": "63b652d1",
   "metadata": {},
   "outputs": [],
   "source": [
    "hp_dict['GarageQual']                                             # should we try to compile garage? (is that clusters?)\n",
    "housePrice.GarageQual = housePrice.GarageQual.fillna('none')              # compare relationship between rankings \n",
    "housePrice.groupby('GarageQual')['SalePrice'].agg(['count','mean','std'])           # across garage classifications"
   ]
  },
  {
   "cell_type": "code",
   "execution_count": null,
   "id": "cb07c37b",
   "metadata": {},
   "outputs": [],
   "source": [
    "hp_dict['GarageFinish']                                             \n",
    "housePrice.GarageFinish = housePrice.GarageFinish.fillna('none')\n",
    "housePrice.groupby('GarageFinish')['SalePrice'].agg(['count','mean','std'])"
   ]
  },
  {
   "cell_type": "code",
   "execution_count": null,
   "id": "0cf36954",
   "metadata": {},
   "outputs": [],
   "source": [
    "hp_dict['GarageYrBlt']                                                         \n",
    "housePrice.GarageYrBlt = housePrice.GarageYrBlt.fillna('none')\n",
    "housePrice.groupby('GarageYrBlt')['SalePrice'].agg(['count','mean','std'])"
   ]
  },
  {
   "cell_type": "code",
   "execution_count": null,
   "id": "fee9844d",
   "metadata": {},
   "outputs": [],
   "source": [
    "hp_dict['GarageType']                                             \n",
    "housePrice.GarageType = housePrice.GarageType.fillna('none')\n",
    "housePrice.groupby('GarageType')['SalePrice'].agg(['count','mean','std'])"
   ]
  },
  {
   "cell_type": "code",
   "execution_count": null,
   "id": "6d88d245",
   "metadata": {},
   "outputs": [],
   "source": [
    "hp_dict['BsmtExposure']                                             \n",
    "housePrice.BsmtExposure = housePrice.BsmtExposure.fillna('none')\n",
    "housePrice.groupby('BsmtExposure')['SalePrice'].agg(['count','mean','std'])"
   ]
  },
  {
   "cell_type": "code",
   "execution_count": null,
   "id": "ec88bf2e",
   "metadata": {},
   "outputs": [],
   "source": [
    "hp_dict['BsmtFinType2']                                             \n",
    "housePrice.BsmtFinType2 = housePrice.BsmtFinType2.fillna('none')\n",
    "housePrice.groupby('BsmtFinType2')['SalePrice'].agg(['count','mean','std'])"
   ]
  },
  {
   "cell_type": "code",
   "execution_count": null,
   "id": "7787b8f6",
   "metadata": {},
   "outputs": [],
   "source": [
    "hp_dict['BsmtFinType1']                                             \n",
    "housePrice.BsmtFinType1 = housePrice.BsmtFinType1.fillna('none')\n",
    "housePrice.groupby('BsmtFinType1')['SalePrice'].agg(['count','mean','std'])"
   ]
  },
  {
   "cell_type": "code",
   "execution_count": null,
   "id": "a1c7bd07",
   "metadata": {},
   "outputs": [],
   "source": [
    "hp_dict['BsmtQual']                                            # does it matter if some basements (garages) don't have           \n",
    "housePrice.BsmtQual = housePrice.BsmtQual.fillna('none')       # certain classifications, and are seen as 'none'\n",
    "housePrice.groupby('BsmtQual')['SalePrice'].agg(['count','mean','std'])"
   ]
  },
  {
   "cell_type": "code",
   "execution_count": null,
   "id": "aca8b1f3",
   "metadata": {},
   "outputs": [],
   "source": [
    "hp_dict['BsmtCond']                                             \n",
    "housePrice.BsmtCond = housePrice.BsmtCond.fillna('none')\n",
    "housePrice.groupby('BsmtCond')['SalePrice'].agg(['count','mean','std'])"
   ]
  },
  {
   "cell_type": "code",
   "execution_count": null,
   "id": "fec1e73e",
   "metadata": {},
   "outputs": [],
   "source": [
    "hp_dict['MasVnrType']\n",
    "housePrice.MasVnrType = housePrice.MasVnrType.fillna('unknown')\n",
    "housePrice.groupby('MasVnrType')['SalePrice'].agg(['count','mean','std'])"
   ]
  },
  {
   "cell_type": "code",
   "execution_count": null,
   "id": "69fe1482",
   "metadata": {},
   "outputs": [],
   "source": [
    "# iterative imputer again, using area-related columns\n",
    "hp_dict['MasVnrArea']\n",
    "size_related = housePrice.filter(regex='SF|Area$')\n",
    "\n",
    "impute = IterativeImputer(max_iter=100)\n",
    "size_trans = impute.fit_transform(size_related)\n",
    "size_trans = pd.DataFrame(size_trans)\n",
    "housePrice.MasVnrArea = size_trans[2]\n",
    "housePrice.BsmtFinSF1 = size_trans[3]\n",
    "housePrice.BsmtFinSF2 = size_trans[4]\n",
    "housePrice.BsmtUnfSF = size_trans[5]\n",
    "housePrice.TotalBsmtSF = size_trans[6]\n",
    "housePrice.GarageArea = size_trans[8]"
   ]
  },
  {
   "cell_type": "code",
   "execution_count": null,
   "id": "727b84a9",
   "metadata": {},
   "outputs": [],
   "source": [
    "list(enumerate(size_related))"
   ]
  },
  {
   "cell_type": "code",
   "execution_count": null,
   "id": "18e8cda8",
   "metadata": {},
   "outputs": [],
   "source": [
    "nas(housePrice)"
   ]
  },
  {
   "cell_type": "code",
   "execution_count": null,
   "id": "3ce950fc",
   "metadata": {},
   "outputs": [],
   "source": [
    "hp_dict['BsmtHalfBath']\n",
    "housePrice.groupby('BsmtFullBath')['SalePrice'].agg(['count','mean','std'])\n",
    "housePrice[housePrice['BsmtFullBath'].isna()]\n",
    "\n",
    "bath_df = housePrice.filter(regex='Bath$')\n",
    "\n",
    "impute = IterativeImputer(max_iter=100)\n",
    "bath_trans = impute.fit_transform(bath_df)\n",
    "bath_trans = pd.DataFrame(bath_trans)\n",
    "housePrice.BsmtFullBath = bath_trans[0]\n",
    "housePrice.BsmtHalfBath = bath_trans[1]"
   ]
  },
  {
   "cell_type": "code",
   "execution_count": null,
   "id": "de417b0f",
   "metadata": {},
   "outputs": [],
   "source": [
    "list(enumerate(bath_df))"
   ]
  },
  {
   "cell_type": "code",
   "execution_count": null,
   "id": "adbd8f5b",
   "metadata": {
    "scrolled": true
   },
   "outputs": [],
   "source": [
    "nas(housePrice)"
   ]
  },
  {
   "cell_type": "code",
   "execution_count": null,
   "id": "4db06d6b",
   "metadata": {},
   "outputs": [],
   "source": [
    "hp_dict['Electrical']\n",
    "housePrice[housePrice['Electrical'].isna()]\n",
    "housePrice.groupby('Electrical')['SalePrice'].agg(['count','mean','std'])\n",
    "housePrice['Electrical'] = housePrice['Electrical'].fillna('SBrkr')"
   ]
  },
  {
   "cell_type": "code",
   "execution_count": null,
   "id": "8cfd4ace",
   "metadata": {},
   "outputs": [],
   "source": [
    "hp_dict['GarageCars']\n",
    "housePrice[housePrice['GarageCars'].isna()]\n",
    "housePrice.groupby('GarageCars')['SalePrice'].agg(['count','mean','std'])\n",
    "\n",
    "garage = housePrice[['GarageCars', 'GarageArea']]\n",
    "\n",
    "impute = IterativeImputer(max_iter=100)\n",
    "garage_trans = impute.fit_transform(garage)\n",
    "garage_trans = pd.DataFrame(garage_trans)\n",
    "housePrice.GarageCars = garage_trans[0]"
   ]
  },
  {
   "cell_type": "code",
   "execution_count": null,
   "id": "cf548e95",
   "metadata": {},
   "outputs": [],
   "source": [
    "nas(housePrice)"
   ]
  },
  {
   "cell_type": "code",
   "execution_count": null,
   "id": "1c53d652",
   "metadata": {},
   "outputs": [],
   "source": [
    "housePrice.to_csv('HousePrice_Clean.csv', index=False)"
   ]
  },
  {
   "cell_type": "markdown",
   "id": "9ac158f7",
   "metadata": {},
   "source": [
    "#### Encoding ordinals and One Hot Encoding for nominals"
   ]
  },
  {
   "cell_type": "code",
   "execution_count": null,
   "id": "67fdd8b4",
   "metadata": {},
   "outputs": [],
   "source": [
    "housePrice = pd.read_csv('HousePrice_Clean.csv')"
   ]
  },
  {
   "cell_type": "code",
   "execution_count": null,
   "id": "f0e1381e",
   "metadata": {},
   "outputs": [],
   "source": [
    "hp_num = housePrice.select_dtypes(include = [np.number])\n",
    "hp_cat = housePrice.select_dtypes(exclude = [np.number])\n",
    "hp_cat_ord = []\n",
    "hp_cat_nom = []"
   ]
  },
  {
   "cell_type": "code",
   "execution_count": null,
   "id": "79568f32",
   "metadata": {},
   "outputs": [],
   "source": [
    "# how many numeric and categorical values\n",
    "print(\"numeric\", hp_num.shape[1])\n",
    "print(\"categorical\", hp_cat.shape[1])"
   ]
  },
  {
   "cell_type": "code",
   "execution_count": null,
   "id": "8cca8f2c",
   "metadata": {},
   "outputs": [],
   "source": [
    "housePrice.groupby('MSZoning')['SalePrice'].agg(['count','mean','std'])\n",
    "hp_cat_nom.append('MSZoning')\n",
    "hp_cat_nom"
   ]
  },
  {
   "cell_type": "code",
   "execution_count": null,
   "id": "5ea9e5eb",
   "metadata": {},
   "outputs": [],
   "source": [
    "housePrice.groupby('Street')['SalePrice'].agg(['count','mean','std'])\n",
    "hp_cat_nom.append('Street')\n",
    "hp_cat_nom"
   ]
  },
  {
   "cell_type": "code",
   "execution_count": null,
   "id": "c3d3875e",
   "metadata": {},
   "outputs": [],
   "source": [
    "housePrice.groupby('Alley')['SalePrice'].agg(['count','mean','std'])\n",
    "hp_cat_nom.append('Alley')\n",
    "hp_cat_nom"
   ]
  },
  {
   "cell_type": "code",
   "execution_count": null,
   "id": "46e599d9",
   "metadata": {},
   "outputs": [],
   "source": [
    "housePrice.groupby('LotShape')['SalePrice'].agg(['count','mean','std'])\n",
    "hp_cat_nom.append('LotShape')\n",
    "hp_cat_nom"
   ]
  },
  {
   "cell_type": "code",
   "execution_count": null,
   "id": "1dd6cfca",
   "metadata": {},
   "outputs": [],
   "source": [
    "housePrice.groupby('LandContour')['SalePrice'].agg(['count','mean','std'])\n",
    "hp_cat_nom.append('LandContour')\n",
    "hp_cat_nom"
   ]
  },
  {
   "cell_type": "code",
   "execution_count": null,
   "id": "028b6dd9",
   "metadata": {},
   "outputs": [],
   "source": [
    "housePrice.groupby('Utilities')['SalePrice'].agg(['count','mean','std'])\n",
    "hp_cat_nom.append('Utilities')\n",
    "hp_cat_nom"
   ]
  },
  {
   "cell_type": "code",
   "execution_count": null,
   "id": "3f189f29",
   "metadata": {},
   "outputs": [],
   "source": [
    "housePrice.groupby('LotConfig')['SalePrice'].agg(['count','mean','std'])\n",
    "hp_cat_nom.append('LotConfig')\n",
    "hp_cat_nom"
   ]
  },
  {
   "cell_type": "code",
   "execution_count": null,
   "id": "fc736c78",
   "metadata": {},
   "outputs": [],
   "source": [
    "housePrice.groupby('LandSlope')['SalePrice'].agg(['count','mean','std'])  # ordinal --> create scale map dict \n",
    "hp_cat_ord.append('LandSlope')\n",
    "hp_cat_ord\n",
    "scale = {\"Gtl\":1, \"Mod\":2, \"Sev\":3}\n",
    "housePrice['LandSlope_Enc'] = housePrice['LandSlope'].replace(scale)\n",
    "housePrice = housePrice.drop(columns='LandSlope')"
   ]
  },
  {
   "cell_type": "code",
   "execution_count": null,
   "id": "e6a71583",
   "metadata": {},
   "outputs": [],
   "source": [
    "housePrice.groupby('Neighborhood')['SalePrice'].agg(['count','mean','std'])\n",
    "hp_cat_nom.append('Neighborhood')\n",
    "hp_cat_nom"
   ]
  },
  {
   "cell_type": "code",
   "execution_count": null,
   "id": "73e5c496",
   "metadata": {},
   "outputs": [],
   "source": [
    "housePrice.groupby('Condition1')['SalePrice'].agg(['count','mean','std'])\n",
    "hp_cat_nom.append('Condition1')\n",
    "hp_cat_nom"
   ]
  },
  {
   "cell_type": "code",
   "execution_count": null,
   "id": "ebb85041",
   "metadata": {},
   "outputs": [],
   "source": [
    "housePrice.groupby('Condition2')['SalePrice'].agg(['count','mean','std'])\n",
    "hp_cat_nom.append('Condition2')\n",
    "hp_cat_nom"
   ]
  },
  {
   "cell_type": "code",
   "execution_count": null,
   "id": "5ee9710d",
   "metadata": {},
   "outputs": [],
   "source": [
    "housePrice.groupby('BldgType')['SalePrice'].agg(['count','mean','std'])\n",
    "hp_cat_nom.append('BldgType')\n",
    "hp_cat_nom"
   ]
  },
  {
   "cell_type": "code",
   "execution_count": null,
   "id": "a0e57eab",
   "metadata": {},
   "outputs": [],
   "source": [
    "housePrice.groupby('HouseStyle')['SalePrice'].agg(['count','mean','std'])\n",
    "hp_cat_nom.append('HouseStyle')\n",
    "hp_cat_nom"
   ]
  },
  {
   "cell_type": "code",
   "execution_count": null,
   "id": "fa8d3fc5",
   "metadata": {},
   "outputs": [],
   "source": [
    "housePrice.groupby('RoofStyle')['SalePrice'].agg(['count','mean','std'])\n",
    "hp_cat_nom.append('RoofStyle')\n",
    "hp_cat_nom"
   ]
  },
  {
   "cell_type": "code",
   "execution_count": null,
   "id": "bc26f9b8",
   "metadata": {},
   "outputs": [],
   "source": [
    "housePrice.groupby('RoofMatl')['SalePrice'].agg(['count','mean','std'])\n",
    "hp_cat_nom.append('RoofMatl')\n",
    "hp_cat_nom"
   ]
  },
  {
   "cell_type": "code",
   "execution_count": null,
   "id": "02d96b74",
   "metadata": {},
   "outputs": [],
   "source": [
    "housePrice.groupby('Exterior1st')['SalePrice'].agg(['count','mean','std'])\n",
    "hp_cat_nom.append('Exterior1st')\n",
    "hp_cat_nom"
   ]
  },
  {
   "cell_type": "code",
   "execution_count": null,
   "id": "dbf52c67",
   "metadata": {},
   "outputs": [],
   "source": [
    "housePrice.groupby('Exterior2nd')['SalePrice'].agg(['count','mean','std'])\n",
    "hp_cat_nom.append('Exterior2nd')\n",
    "hp_cat_nom"
   ]
  },
  {
   "cell_type": "code",
   "execution_count": null,
   "id": "3f130959",
   "metadata": {},
   "outputs": [],
   "source": [
    "housePrice.groupby('MasVnrType')['SalePrice'].agg(['count','mean','std'])\n",
    "hp_cat_nom.append('MasVnrType')\n",
    "hp_cat_nom"
   ]
  },
  {
   "cell_type": "code",
   "execution_count": null,
   "id": "cef60873",
   "metadata": {},
   "outputs": [],
   "source": [
    "housePrice.groupby('ExterQual')['SalePrice'].agg(['count','mean','std'])\n",
    "hp_cat_ord.append('ExterQual')\n",
    "scale = {\"none\":0, \"TA\":1, \"Po\": 2, \"Fa\":3, \"Gd\":4, \"Ex\":5}\n",
    "housePrice['ExterQual_Enc'] = housePrice['ExterQual'].replace(scale)\n",
    "housePrice = housePrice.drop(columns='ExterQual')\n",
    "hp_cat_ord"
   ]
  },
  {
   "cell_type": "code",
   "execution_count": null,
   "id": "d0d9d2ba",
   "metadata": {},
   "outputs": [],
   "source": [
    "housePrice.groupby('ExterCond')['SalePrice'].agg(['count','mean','std'])\n",
    "hp_cat_ord.append('ExterCond')\n",
    "scale = {\"none\":0, \"TA\":1, \"Po\": 2, \"Fa\":3, \"Gd\":4, \"Ex\":5}\n",
    "housePrice['ExterCond_Enc'] = housePrice['ExterCond'].replace(scale)\n",
    "housePrice = housePrice.drop(columns='ExterCond')\n",
    "hp_cat_ord"
   ]
  },
  {
   "cell_type": "code",
   "execution_count": null,
   "id": "34be5465",
   "metadata": {},
   "outputs": [],
   "source": [
    "housePrice.groupby('Foundation')['SalePrice'].agg(['count','mean','std'])\n",
    "hp_cat_nom.append('Foundation')\n",
    "hp_cat_nom"
   ]
  },
  {
   "cell_type": "code",
   "execution_count": null,
   "id": "2418f0c3",
   "metadata": {},
   "outputs": [],
   "source": [
    "housePrice.groupby('BsmtQual')['SalePrice'].agg(['count','mean','std'])\n",
    "hp_cat_ord.append('BsmtQual')\n",
    "scale = {\"none\":0, \"TA\":1, \"Po\": 2, \"Fa\":3, \"Gd\":4, \"Ex\":5}\n",
    "housePrice['BsmtQual_Enc'] = housePrice['BsmtQual'].replace(scale)\n",
    "housePrice = housePrice.drop(columns='BsmtQual')\n",
    "hp_cat_ord"
   ]
  },
  {
   "cell_type": "code",
   "execution_count": null,
   "id": "8f1945a8",
   "metadata": {},
   "outputs": [],
   "source": [
    "housePrice.groupby('BsmtCond')['SalePrice'].agg(['count','mean','std'])\n",
    "hp_cat_ord.append('BsmtCond')\n",
    "scale = {\"none\":0, \"TA\":1, \"Po\": 2, \"Fa\":3, \"Gd\":4, \"Ex\":5}\n",
    "housePrice['BsmtCond_Enc'] = housePrice['BsmtCond'].replace(scale)\n",
    "housePrice = housePrice.drop(columns='BsmtCond')\n",
    "hp_cat_ord"
   ]
  },
  {
   "cell_type": "code",
   "execution_count": null,
   "id": "721010f3",
   "metadata": {},
   "outputs": [],
   "source": [
    "housePrice.groupby('BsmtExposure')['SalePrice'].agg(['count','mean','std'])\n",
    "hp_cat_ord.append('BsmtExposure')\n",
    "scale = {\"none\":0, \"No\":1, \"Mn\": 2, \"Av\":3, \"Gd\":4, \"Ex\":5}\n",
    "housePrice['BsmtExposure_Enc'] = housePrice['BsmtExposure'].replace(scale)\n",
    "housePrice = housePrice.drop(columns='BsmtExposure')\n",
    "hp_cat_ord"
   ]
  },
  {
   "cell_type": "code",
   "execution_count": null,
   "id": "c48166cf",
   "metadata": {},
   "outputs": [],
   "source": [
    "housePrice.groupby('BsmtFinType1')['SalePrice'].agg(['count','mean','std'])\n",
    "hp_cat_ord.append('BsmtFinType1')\n",
    "scale = {\"none\":0, \"Unf\":1, \"LwQ\": 2, \"Rec\":3, \"BLQ\":4, \"ALQ\":5, \"GLQ\":6}\n",
    "housePrice['BsmtFinType1_Enc'] = housePrice['BsmtFinType1'].replace(scale)\n",
    "housePrice = housePrice.drop(columns='BsmtFinType1')\n",
    "hp_cat_ord"
   ]
  },
  {
   "cell_type": "code",
   "execution_count": null,
   "id": "e80cff81",
   "metadata": {},
   "outputs": [],
   "source": [
    "housePrice.groupby('BsmtFinType2')['SalePrice'].agg(['count','mean','std'])\n",
    "hp_cat_ord.append('BsmtFinType2')\n",
    "scale = {\"none\":0, \"Unf\":1, \"LwQ\": 2, \"Rec\":3, \"BLQ\":4, \"ALQ\":5, \"GLQ\":6}\n",
    "housePrice['BsmtFinType2_Enc'] = housePrice['BsmtFinType2'].replace(scale)\n",
    "housePrice = housePrice.drop(columns='BsmtFinType2')\n",
    "hp_cat_ord"
   ]
  },
  {
   "cell_type": "code",
   "execution_count": null,
   "id": "eb1e3233",
   "metadata": {},
   "outputs": [],
   "source": [
    "housePrice.groupby('Heating')['SalePrice'].agg(['count','mean','std'])\n",
    "hp_cat_nom.append('Heating')\n",
    "len(hp_cat_nom)"
   ]
  },
  {
   "cell_type": "code",
   "execution_count": null,
   "id": "2aa1fbc1",
   "metadata": {},
   "outputs": [],
   "source": [
    "housePrice.groupby('HeatingQC')['SalePrice'].agg(['count','mean','std'])\n",
    "hp_cat_ord.append('HeatingQC')\n",
    "scale = {\"none\":0, \"TA\":1, \"Po\": 2, \"Fa\":3, \"Gd\":4, \"Ex\":5}\n",
    "housePrice['HeatingQC_Enc'] = housePrice['HeatingQC'].replace(scale)\n",
    "housePrice = housePrice.drop(columns='HeatingQC')\n",
    "hp_cat_ord"
   ]
  },
  {
   "cell_type": "code",
   "execution_count": null,
   "id": "a935db6e",
   "metadata": {},
   "outputs": [],
   "source": [
    "housePrice.groupby('CentralAir')['SalePrice'].agg(['count','mean','std'])\n",
    "hp_cat_nom.append('CentralAir')\n",
    "len(hp_cat_nom)"
   ]
  },
  {
   "cell_type": "code",
   "execution_count": null,
   "id": "ad27fa61",
   "metadata": {},
   "outputs": [],
   "source": [
    "housePrice.groupby('Electrical')['SalePrice'].agg(['count','mean','std'])\n",
    "hp_cat_nom.append('Electrical')\n",
    "len(hp_cat_nom)"
   ]
  },
  {
   "cell_type": "code",
   "execution_count": null,
   "id": "56d2c458",
   "metadata": {},
   "outputs": [],
   "source": [
    "housePrice.groupby('KitchenQual')['SalePrice'].agg(['count','mean','std'])\n",
    "hp_cat_ord.append('KitchenQual')\n",
    "scale = {\"none\":0, \"TA\":1, \"Po\": 2, \"Fa\":3, \"Gd\":4, \"Ex\":5}\n",
    "housePrice['KitchenQual_Enc'] = housePrice['KitchenQual'].replace(scale)\n",
    "housePrice = housePrice.drop(columns='KitchenQual')\n",
    "hp_cat_ord"
   ]
  },
  {
   "cell_type": "code",
   "execution_count": null,
   "id": "3595e0d0",
   "metadata": {},
   "outputs": [],
   "source": [
    "housePrice.groupby('Functional')['SalePrice'].agg(['count','mean','std'])\n",
    "hp_cat_ord.append('Functional')\n",
    "scale = {\"Typ\":0, \"Min1\":1, \"Min2\": 2, \"Mod\":3, \"Maj1\":4, \"Maj2\":5, \"Sal\":6}\n",
    "housePrice['Functional_Enc'] = housePrice['Functional'].replace(scale)\n",
    "housePrice = housePrice.drop(columns='Functional')\n",
    "hp_cat_ord"
   ]
  },
  {
   "cell_type": "code",
   "execution_count": null,
   "id": "b09da248",
   "metadata": {},
   "outputs": [],
   "source": [
    "housePrice.groupby('FireplaceQu')['SalePrice'].agg(['count','mean','std'])\n",
    "hp_cat_ord.append('FireplaceQu')\n",
    "scale = {\"none\":0, \"TA\":1, \"Po\": 2, \"Fa\":3, \"Gd\":4, \"Ex\":5}\n",
    "housePrice['FireplaceQu_Enc'] = housePrice['FireplaceQu'].replace(scale)\n",
    "housePrice = housePrice.drop(columns='FireplaceQu')\n",
    "hp_cat_ord"
   ]
  },
  {
   "cell_type": "code",
   "execution_count": null,
   "id": "63d742ca",
   "metadata": {},
   "outputs": [],
   "source": [
    "housePrice.groupby('GarageType')['SalePrice'].agg(['count','mean','std'])\n",
    "hp_cat_nom.append('GarageType')\n",
    "len(hp_cat_nom)"
   ]
  },
  {
   "cell_type": "code",
   "execution_count": null,
   "id": "ef5dd62f",
   "metadata": {},
   "outputs": [],
   "source": [
    "housePrice.groupby('GarageYrBlt')['SalePrice'].agg(['count','mean','std'])\n",
    "# hp_cat_nom.append('Heating')\n",
    "# len(hp_cat_nom)"
   ]
  },
  {
   "cell_type": "code",
   "execution_count": null,
   "id": "c70ba0b0",
   "metadata": {},
   "outputs": [],
   "source": [
    "hp_cat.columns"
   ]
  },
  {
   "cell_type": "code",
   "execution_count": null,
   "id": "11dc187a",
   "metadata": {},
   "outputs": [],
   "source": [
    "# Scale Maps for ordinal values\n",
    "\n",
    "\n",
    "EQscale = {}"
   ]
  },
  {
   "cell_type": "markdown",
   "id": "94438e47",
   "metadata": {},
   "source": [
    "### Real Estate Data"
   ]
  },
  {
   "cell_type": "code",
   "execution_count": null,
   "id": "86c79591",
   "metadata": {},
   "outputs": [],
   "source": [
    "realEstate.shape"
   ]
  },
  {
   "cell_type": "code",
   "execution_count": null,
   "id": "bc582cf8",
   "metadata": {
    "scrolled": true
   },
   "outputs": [],
   "source": [
    "nas(realEstate)"
   ]
  },
  {
   "cell_type": "code",
   "execution_count": null,
   "id": "1e785694",
   "metadata": {},
   "outputs": [],
   "source": [
    "# function to look up definitions of realEstate features\n",
    "def table(feature):\n",
    "    return re_table.loc[re_table['Field Name'] == feature]"
   ]
  },
  {
   "cell_type": "code",
   "execution_count": null,
   "id": "542e2c3a",
   "metadata": {},
   "outputs": [],
   "source": [
    "table('Rcrd_Mo')"
   ]
  },
  {
   "cell_type": "code",
   "execution_count": null,
   "id": "fff09c9a",
   "metadata": {},
   "outputs": [],
   "source": [
    "re_num = realEstate.select_dtypes(include=[np.number])\n",
    "re_cat = realEstate.select_dtypes(exclude=[np.number])"
   ]
  },
  {
   "cell_type": "code",
   "execution_count": null,
   "id": "860741b1",
   "metadata": {},
   "outputs": [],
   "source": [
    " # DATE - dropping\n",
    "from datetime import date\n",
    "                                                              # after seeing that date columns have too many\n",
    "date_df = realEstate.filter(regex='Yr|Mo|Date')               # missing values and are complicated to combine, \n",
    "date_df.loc[~date_df['YrSold_YYYY'].isna()]                   # decided to drop and use date from HP\n",
    "# date_comp = date_df.loc[date_df['Rcrd_Yr'] != date_df['Inst1_Yr']]\n",
    "# date_comp.loc[~date_df['Rcrd_Yr'].isna()]\n",
    "# date_df.loc[date_df['Date'] != '10-Jul-20']\n",
    "\n",
    "date_df.columns\n",
    "realEstate = realEstate.drop(date_df.columns, axis=1)\n",
    "# realEstate['day'] = 1\n",
    "# pd.to_datetime(realEstate[['Rcrd_Yr', 'Rcrd_Mo', 'day']].stack()).unstack\n",
    "# pd.to_datetime(dte.stack()).unstack()\n",
    "              \n",
    "# pd.to_datetime(assign(year, month = realEstate[['Rcrd_Yr','Rcrd_Mo']]).assign(DAY=1))"
   ]
  },
  {
   "cell_type": "code",
   "execution_count": null,
   "id": "37a20a26",
   "metadata": {},
   "outputs": [],
   "source": [
    "##  examining and dropping unnecessary features\n",
    "\n",
    "table('Inst1_Mo')"
   ]
  },
  {
   "cell_type": "code",
   "execution_count": null,
   "id": "24625a89",
   "metadata": {},
   "outputs": [],
   "source": [
    "re_num.isna().sum().sort_values(ascending=False)"
   ]
  },
  {
   "cell_type": "code",
   "execution_count": null,
   "id": "901c4910",
   "metadata": {},
   "outputs": [],
   "source": [
    "re_cat.isna().sum().sort_values(ascending=False)"
   ]
  },
  {
   "cell_type": "code",
   "execution_count": null,
   "id": "a3edb1dd",
   "metadata": {},
   "outputs": [],
   "source": []
  },
  {
   "cell_type": "code",
   "execution_count": null,
   "id": "8fe4c593",
   "metadata": {},
   "outputs": [],
   "source": []
  },
  {
   "cell_type": "code",
   "execution_count": null,
   "id": "c57f5143",
   "metadata": {},
   "outputs": [],
   "source": []
  },
  {
   "cell_type": "code",
   "execution_count": null,
   "id": "82ff9b2d",
   "metadata": {},
   "outputs": [],
   "source": []
  },
  {
   "cell_type": "code",
   "execution_count": null,
   "id": "979aa7fa",
   "metadata": {},
   "outputs": [],
   "source": []
  },
  {
   "cell_type": "code",
   "execution_count": null,
   "id": "97c9d92f",
   "metadata": {},
   "outputs": [],
   "source": []
  },
  {
   "cell_type": "code",
   "execution_count": null,
   "id": "71deb95c",
   "metadata": {},
   "outputs": [],
   "source": []
  },
  {
   "cell_type": "code",
   "execution_count": null,
   "id": "885509ed",
   "metadata": {},
   "outputs": [],
   "source": []
  }
 ],
 "metadata": {
  "kernelspec": {
   "display_name": "Python 3",
   "language": "python",
   "name": "python3"
  },
  "language_info": {
   "codemirror_mode": {
    "name": "ipython",
    "version": 3
   },
   "file_extension": ".py",
   "mimetype": "text/x-python",
   "name": "python",
   "nbconvert_exporter": "python",
   "pygments_lexer": "ipython3",
   "version": "3.8.8"
  }
 },
 "nbformat": 4,
 "nbformat_minor": 5
}
