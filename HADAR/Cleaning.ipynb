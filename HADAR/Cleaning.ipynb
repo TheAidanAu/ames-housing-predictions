{
 "cells": [
  {
   "cell_type": "markdown",
   "id": "ee1c40cb",
   "metadata": {},
   "source": [
    "# Cleaning and EDA\n",
    "\n"
   ]
  },
  {
   "cell_type": "code",
   "execution_count": 2,
   "id": "6d631296",
   "metadata": {},
   "outputs": [],
   "source": [
    "import numpy as np\n",
    "import pandas as pd\n",
    "import matplotlib.pyplot as plt\n",
    "%matplotlib inline\n",
    "from scipy import stats"
   ]
  },
  {
   "cell_type": "code",
   "execution_count": 3,
   "id": "77940db8",
   "metadata": {},
   "outputs": [
    {
     "name": "stderr",
     "output_type": "stream",
     "text": [
      "C:\\Users\\hzeig\\anaconda3\\lib\\site-packages\\IPython\\core\\interactiveshell.py:3165: DtypeWarning: Columns (36,40,81,87) have mixed types.Specify dtype option on import or set low_memory=False.\n",
      "  has_raised = await self.run_ast_nodes(code_ast.body, cell_name,\n"
     ]
    }
   ],
   "source": [
    "realEstate = pd.read_csv('Ames Real Estate Data.csv')\n",
    "housePrice = pd.read_csv('Ames_HousePrice.csv')\n",
    "table = pd.read_excel('Tbl_DataExportSpec.xls')"
   ]
  },
  {
   "cell_type": "code",
   "execution_count": 4,
   "id": "0dc368fa",
   "metadata": {},
   "outputs": [
    {
     "data": {
      "text/plain": [
       "(22213, 91)"
      ]
     },
     "execution_count": 4,
     "metadata": {},
     "output_type": "execute_result"
    }
   ],
   "source": [
    "realEstate.shape"
   ]
  },
  {
   "cell_type": "code",
   "execution_count": 5,
   "id": "edb8148a",
   "metadata": {},
   "outputs": [
    {
     "data": {
      "text/plain": [
       "(2580, 82)"
      ]
     },
     "execution_count": 5,
     "metadata": {},
     "output_type": "execute_result"
    }
   ],
   "source": [
    "housePrice.shape"
   ]
  },
  {
   "cell_type": "code",
   "execution_count": 6,
   "id": "b43bf1e9",
   "metadata": {},
   "outputs": [
    {
     "data": {
      "text/plain": [
       "(100, 7)"
      ]
     },
     "execution_count": 6,
     "metadata": {},
     "output_type": "execute_result"
    }
   ],
   "source": [
    "table.shape   # table contains information for realEstate columns"
   ]
  },
  {
   "cell_type": "code",
   "execution_count": 7,
   "id": "bdfa0c5a",
   "metadata": {},
   "outputs": [],
   "source": [
    "# cleaning housePrice (not sure if we need realEstate yet)"
   ]
  },
  {
   "cell_type": "code",
   "execution_count": 8,
   "id": "4411ed81",
   "metadata": {},
   "outputs": [],
   "source": [
    "# dictionary of housePrice column meanings for quick reference\n",
    "with open('housePrice_features') as hp_feat:\n",
    "    hp_dict = {}\n",
    "    for line in hp_feat.readlines():\n",
    "        feature, description = [*line.split(':')]\n",
    "        hp_dict[feature] = description"
   ]
  },
  {
   "cell_type": "code",
   "execution_count": 21,
   "id": "cd0215e3",
   "metadata": {},
   "outputs": [
    {
     "data": {
      "text/plain": [
       "' Linear feet of street connected to property\\n'"
      ]
     },
     "execution_count": 21,
     "metadata": {},
     "output_type": "execute_result"
    }
   ],
   "source": [
    "hp_dict['LotFrontage']"
   ]
  },
  {
   "cell_type": "code",
   "execution_count": 18,
   "id": "3306e707",
   "metadata": {},
   "outputs": [],
   "source": [
    "# imputing missing values\n",
    "# columns with NaN\n",
    "many_na = housePrice.loc[:, housePrice.isna().sum() > 0 ]\n",
    "# many_na = housePrice.loc[:, housePrice.isna().sum() > (len(housePrice)/30)]\n",
    "nas = many_na.isna().sum().sort_values(ascending = False)"
   ]
  },
  {
   "cell_type": "code",
   "execution_count": null,
   "id": "961ab597",
   "metadata": {},
   "outputs": [],
   "source": [
    "# investigate / impute column NaNs"
   ]
  },
  {
   "cell_type": "code",
   "execution_count": 31,
   "id": "015caf66",
   "metadata": {},
   "outputs": [
    {
     "data": {
      "text/plain": [
       "TA    3\n",
       "Fa    2\n",
       "Ex    2\n",
       "Gd    2\n",
       "Name: PoolQC, dtype: int64"
      ]
     },
     "execution_count": 31,
     "metadata": {},
     "output_type": "execute_result"
    }
   ],
   "source": [
    "hp_dict['PoolQC']             # so few pools, is it worth it\n",
    "housePrice.PoolQC.unique()\n",
    "housePrice.PoolQC.value_counts()"
   ]
  },
  {
   "cell_type": "code",
   "execution_count": 32,
   "id": "32931ffa",
   "metadata": {},
   "outputs": [
    {
     "data": {
      "text/plain": [
       "Shed    88\n",
       "Gar2     5\n",
       "Othr     3\n",
       "TenC     1\n",
       "Name: MiscFeature, dtype: int64"
      ]
     },
     "execution_count": 32,
     "metadata": {},
     "output_type": "execute_result"
    }
   ],
   "source": [
    "hp_dict['MiscFeature']\n",
    "housePrice.MiscFeature.unique()\n",
    "housePrice.MiscFeature.value_counts()"
   ]
  },
  {
   "cell_type": "code",
   "execution_count": 41,
   "id": "723ce8f4",
   "metadata": {},
   "outputs": [
    {
     "data": {
      "text/plain": [
       "Grvl    105\n",
       "Pave     63\n",
       "Name: Alley, dtype: int64"
      ]
     },
     "execution_count": 41,
     "metadata": {},
     "output_type": "execute_result"
    }
   ],
   "source": [
    "hp_dict['Alley']\n",
    "housePrice.Alley.unique()\n",
    "housePrice.Alley.value_counts()"
   ]
  },
  {
   "cell_type": "code",
   "execution_count": 38,
   "id": "08a64d84",
   "metadata": {},
   "outputs": [
    {
     "data": {
      "text/plain": [
       "MnPrv    301\n",
       "GdPrv    111\n",
       "GdWo     103\n",
       "MnWw      10\n",
       "Name: Fence, dtype: int64"
      ]
     },
     "execution_count": 38,
     "metadata": {},
     "output_type": "execute_result"
    }
   ],
   "source": [
    "hp_dict['Fence']\n",
    "housePrice.Fence.value_counts()"
   ]
  },
  {
   "cell_type": "code",
   "execution_count": 40,
   "id": "9dcb2dc9",
   "metadata": {},
   "outputs": [
    {
     "data": {
      "text/plain": [
       "Gd    619\n",
       "TA    572\n",
       "Fa     70\n",
       "Po     43\n",
       "Ex     35\n",
       "Name: FireplaceQu, dtype: int64"
      ]
     },
     "execution_count": 40,
     "metadata": {},
     "output_type": "execute_result"
    }
   ],
   "source": [
    "hp_dict['FireplaceQu']\n",
    "housePrice.FireplaceQu.value_counts()"
   ]
  },
  {
   "cell_type": "code",
   "execution_count": 26,
   "id": "bf84d0d0",
   "metadata": {},
   "outputs": [
    {
     "data": {
      "text/plain": [
       "array([nan, 'Shed', 'Othr', 'Gar2', 'TenC'], dtype=object)"
      ]
     },
     "execution_count": 26,
     "metadata": {},
     "output_type": "execute_result"
    }
   ],
   "source": [
    "hp_dict['MiscFeature']\n",
    "housePrice.MiscFeature.unique()"
   ]
  },
  {
   "cell_type": "code",
   "execution_count": 19,
   "id": "acba0e5a",
   "metadata": {},
   "outputs": [
    {
     "data": {
      "text/plain": [
       "PoolQC          2571\n",
       "MiscFeature     2483\n",
       "Alley           2412\n",
       "Fence           2055\n",
       "FireplaceQu     1241\n",
       "LotFrontage      462\n",
       "GarageCond       129\n",
       "GarageQual       129\n",
       "GarageFinish     129\n",
       "GarageYrBlt      129\n",
       "GarageType       127\n",
       "BsmtExposure      71\n",
       "BsmtFinType2      70\n",
       "BsmtFinType1      69\n",
       "BsmtQual          69\n",
       "BsmtCond          69\n",
       "MasVnrArea        14\n",
       "MasVnrType        14\n",
       "BsmtHalfBath       2\n",
       "BsmtFullBath       2\n",
       "TotalBsmtSF        1\n",
       "BsmtUnfSF          1\n",
       "GarageCars         1\n",
       "GarageArea         1\n",
       "BsmtFinSF2         1\n",
       "BsmtFinSF1         1\n",
       "Electrical         1\n",
       "dtype: int64"
      ]
     },
     "execution_count": 19,
     "metadata": {},
     "output_type": "execute_result"
    }
   ],
   "source": [
    "nas"
   ]
  },
  {
   "cell_type": "code",
   "execution_count": 77,
   "id": "e47ede02",
   "metadata": {},
   "outputs": [],
   "source": [
    "# LotFrontage"
   ]
  },
  {
   "cell_type": "code",
   "execution_count": 26,
   "id": "5a4d8465",
   "metadata": {
    "scrolled": false
   },
   "outputs": [
    {
     "data": {
      "text/plain": [
       "Street  Alley  Utilities  CentralAir\n",
       "Pave    Grvl   AllPub     Y             82\n",
       "        Pave   AllPub     Y             56\n",
       "        Grvl   AllPub     N             23\n",
       "        Pave   AllPub     N              7\n",
       "dtype: int64"
      ]
     },
     "execution_count": 26,
     "metadata": {},
     "output_type": "execute_result"
    }
   ],
   "source": [
    "# finding columns with few unique values\n",
    "\n",
    "two_val_columns = housePrice.loc[:, housePrice.apply(lambda x: x.nunique()) <= 2]\n",
    "two_val_columns.value_counts()"
   ]
  },
  {
   "cell_type": "code",
   "execution_count": null,
   "id": "5ed60461",
   "metadata": {},
   "outputs": [],
   "source": []
  },
  {
   "cell_type": "code",
   "execution_count": 27,
   "id": "acf1d02e",
   "metadata": {},
   "outputs": [
    {
     "data": {
      "text/plain": [
       "14"
      ]
     },
     "execution_count": 27,
     "metadata": {},
     "output_type": "execute_result"
    }
   ],
   "source": [
    "(realEstate.isnull().sum() > 20000).sum()\n",
    "# realEstate = realEstate.dropna()\n",
    "# realEstate[realEstate.isnull().all()==True]"
   ]
  },
  {
   "cell_type": "code",
   "execution_count": null,
   "id": "761ad147",
   "metadata": {},
   "outputs": [],
   "source": []
  }
 ],
 "metadata": {
  "kernelspec": {
   "display_name": "Python 3",
   "language": "python",
   "name": "python3"
  },
  "language_info": {
   "codemirror_mode": {
    "name": "ipython",
    "version": 3
   },
   "file_extension": ".py",
   "mimetype": "text/x-python",
   "name": "python",
   "nbconvert_exporter": "python",
   "pygments_lexer": "ipython3",
   "version": "3.8.8"
  }
 },
 "nbformat": 4,
 "nbformat_minor": 5
}
