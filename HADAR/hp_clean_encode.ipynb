{
 "cells": [
  {
   "cell_type": "markdown",
   "id": "ee1c40cb",
   "metadata": {},
   "source": [
    "# House Price Data - Cleaning, Encoding\n",
    "\n",
    "Here, handle missing (some Iterative Imputer) and then encoding ordinals and using OneHot for nominals.\n",
    "\n",
    "**Q:** would it be possible to use encode/OneHot first, and then IterativeImputer for all missing values?\n",
    "- difficulty encoding missing values \n",
    "- might need to impute and then \"unimpute\" for IterativeImputer"
   ]
  },
  {
   "cell_type": "code",
   "execution_count": 1,
   "id": "6d631296",
   "metadata": {},
   "outputs": [],
   "source": [
    "import numpy as np\n",
    "import pandas as pd\n",
    "import matplotlib.pyplot as plt\n",
    "%matplotlib inline\n",
    "from scipy import stats\n",
    "import statsmodels.api as sm\n",
    "from statsmodels.sandbox.regression.predstd import wls_prediction_std"
   ]
  },
  {
   "cell_type": "code",
   "execution_count": 2,
   "id": "77940db8",
   "metadata": {},
   "outputs": [],
   "source": [
    "housePrice = pd.read_csv('Ames_HousePrice.csv', low_memory=False, index_col='PID')"
   ]
  },
  {
   "cell_type": "code",
   "execution_count": 3,
   "id": "4411ed81",
   "metadata": {},
   "outputs": [],
   "source": [
    "# dictionary of housePrice column meanings for quick reference\n",
    "with open('housePrice_features') as hp_feat:\n",
    "    hp_dict = {}\n",
    "    for line in hp_feat.readlines():\n",
    "        feature, description = [*line.split(':')]\n",
    "        hp_dict[feature] = description"
   ]
  },
  {
   "cell_type": "code",
   "execution_count": 4,
   "id": "cd0215e3",
   "metadata": {
    "tags": []
   },
   "outputs": [
    {
     "data": {
      "text/plain": [
       "' Linear feet of street connected to property\\n'"
      ]
     },
     "execution_count": 4,
     "metadata": {},
     "output_type": "execute_result"
    }
   ],
   "source": [
    "hp_dict['LotFrontage']"
   ]
  },
  {
   "cell_type": "code",
   "execution_count": 5,
   "id": "965135dc-6880-4ed0-bab6-5df1d50f9658",
   "metadata": {},
   "outputs": [],
   "source": [
    "housePrice = housePrice.drop(columns='Unnamed: 0')"
   ]
  },
  {
   "cell_type": "markdown",
   "id": "fb320517",
   "metadata": {},
   "source": [
    "#### Imputing Missing Values"
   ]
  },
  {
   "cell_type": "code",
   "execution_count": 6,
   "id": "3306e707",
   "metadata": {},
   "outputs": [],
   "source": [
    "# function for viewing columns with missing values\n",
    "def nas(df):\n",
    "    return df.loc[:, df.isna().sum() > 0 ].isna().sum().sort_values(ascending = False)"
   ]
  },
  {
   "cell_type": "code",
   "execution_count": 7,
   "id": "7c65ceb9",
   "metadata": {},
   "outputs": [
    {
     "data": {
      "text/plain": [
       "PoolQC          2571\n",
       "MiscFeature     2483\n",
       "Alley           2412\n",
       "Fence           2055\n",
       "FireplaceQu     1241\n",
       "LotFrontage      462\n",
       "GarageCond       129\n",
       "GarageQual       129\n",
       "GarageFinish     129\n",
       "GarageYrBlt      129\n",
       "GarageType       127\n",
       "BsmtExposure      71\n",
       "BsmtFinType2      70\n",
       "BsmtFinType1      69\n",
       "BsmtQual          69\n",
       "BsmtCond          69\n",
       "MasVnrArea        14\n",
       "MasVnrType        14\n",
       "BsmtHalfBath       2\n",
       "BsmtFullBath       2\n",
       "TotalBsmtSF        1\n",
       "BsmtUnfSF          1\n",
       "GarageCars         1\n",
       "GarageArea         1\n",
       "BsmtFinSF2         1\n",
       "BsmtFinSF1         1\n",
       "Electrical         1\n",
       "dtype: int64"
      ]
     },
     "execution_count": 7,
     "metadata": {},
     "output_type": "execute_result"
    }
   ],
   "source": [
    "# investigate / impute column NaNs one by one\n",
    "nas(housePrice)"
   ]
  },
  {
   "cell_type": "code",
   "execution_count": 8,
   "id": "21d1c97a",
   "metadata": {},
   "outputs": [
    {
     "data": {
      "text/html": [
       "<div>\n",
       "<style scoped>\n",
       "    .dataframe tbody tr th:only-of-type {\n",
       "        vertical-align: middle;\n",
       "    }\n",
       "\n",
       "    .dataframe tbody tr th {\n",
       "        vertical-align: top;\n",
       "    }\n",
       "\n",
       "    .dataframe thead th {\n",
       "        text-align: right;\n",
       "    }\n",
       "</style>\n",
       "<table border=\"1\" class=\"dataframe\">\n",
       "  <thead>\n",
       "    <tr style=\"text-align: right;\">\n",
       "      <th></th>\n",
       "      <th>mean</th>\n",
       "      <th>std</th>\n",
       "      <th>count</th>\n",
       "    </tr>\n",
       "    <tr>\n",
       "      <th>PoolQC</th>\n",
       "      <th></th>\n",
       "      <th></th>\n",
       "      <th></th>\n",
       "    </tr>\n",
       "  </thead>\n",
       "  <tbody>\n",
       "    <tr>\n",
       "      <th>Ex</th>\n",
       "      <td>465000.000000</td>\n",
       "      <td>212132.034356</td>\n",
       "      <td>2</td>\n",
       "    </tr>\n",
       "    <tr>\n",
       "      <th>Fa</th>\n",
       "      <td>215500.000000</td>\n",
       "      <td>48790.367902</td>\n",
       "      <td>2</td>\n",
       "    </tr>\n",
       "    <tr>\n",
       "      <th>Gd</th>\n",
       "      <td>215500.000000</td>\n",
       "      <td>62932.503526</td>\n",
       "      <td>2</td>\n",
       "    </tr>\n",
       "    <tr>\n",
       "      <th>TA</th>\n",
       "      <td>170500.000000</td>\n",
       "      <td>51529.117982</td>\n",
       "      <td>3</td>\n",
       "    </tr>\n",
       "    <tr>\n",
       "      <th>none</th>\n",
       "      <td>177786.980941</td>\n",
       "      <td>74571.704907</td>\n",
       "      <td>2571</td>\n",
       "    </tr>\n",
       "  </tbody>\n",
       "</table>\n",
       "</div>"
      ],
      "text/plain": [
       "                 mean            std  count\n",
       "PoolQC                                     \n",
       "Ex      465000.000000  212132.034356      2\n",
       "Fa      215500.000000   48790.367902      2\n",
       "Gd      215500.000000   62932.503526      2\n",
       "TA      170500.000000   51529.117982      3\n",
       "none    177786.980941   74571.704907   2571"
      ]
     },
     "execution_count": 8,
     "metadata": {},
     "output_type": "execute_result"
    }
   ],
   "source": [
    "hp_dict['PoolQC']             \n",
    "housePrice.PoolQC.unique()\n",
    "housePrice.PoolQC = housePrice.PoolQC.fillna('none')\n",
    "housePrice.groupby('PoolQC')['SalePrice'].agg(['mean', 'std', 'count'])"
   ]
  },
  {
   "cell_type": "code",
   "execution_count": 9,
   "id": "dcc35082",
   "metadata": {},
   "outputs": [],
   "source": [
    "hp_dict['MiscFeature']                                                           # drop\n",
    "housePrice.groupby('MiscFeature')['SalePrice'].agg(['mean', 'std', 'count'])\n",
    "housePrice = housePrice.drop('MiscFeature', axis = 1)"
   ]
  },
  {
   "cell_type": "code",
   "execution_count": 10,
   "id": "47f23063",
   "metadata": {},
   "outputs": [
    {
     "data": {
      "text/html": [
       "<div>\n",
       "<style scoped>\n",
       "    .dataframe tbody tr th:only-of-type {\n",
       "        vertical-align: middle;\n",
       "    }\n",
       "\n",
       "    .dataframe tbody tr th {\n",
       "        vertical-align: top;\n",
       "    }\n",
       "\n",
       "    .dataframe thead th {\n",
       "        text-align: right;\n",
       "    }\n",
       "</style>\n",
       "<table border=\"1\" class=\"dataframe\">\n",
       "  <thead>\n",
       "    <tr style=\"text-align: right;\">\n",
       "      <th></th>\n",
       "      <th>count</th>\n",
       "      <th>mean</th>\n",
       "      <th>std</th>\n",
       "    </tr>\n",
       "    <tr>\n",
       "      <th>Alley</th>\n",
       "      <th></th>\n",
       "      <th></th>\n",
       "      <th></th>\n",
       "    </tr>\n",
       "  </thead>\n",
       "  <tbody>\n",
       "    <tr>\n",
       "      <th>Grvl</th>\n",
       "      <td>105</td>\n",
       "      <td>126345.990476</td>\n",
       "      <td>36101.160174</td>\n",
       "    </tr>\n",
       "    <tr>\n",
       "      <th>Pave</th>\n",
       "      <td>63</td>\n",
       "      <td>178559.698413</td>\n",
       "      <td>45650.146340</td>\n",
       "    </tr>\n",
       "    <tr>\n",
       "      <th>none</th>\n",
       "      <td>2412</td>\n",
       "      <td>180297.776949</td>\n",
       "      <td>76096.323125</td>\n",
       "    </tr>\n",
       "  </tbody>\n",
       "</table>\n",
       "</div>"
      ],
      "text/plain": [
       "       count           mean           std\n",
       "Alley                                    \n",
       "Grvl     105  126345.990476  36101.160174\n",
       "Pave      63  178559.698413  45650.146340\n",
       "none    2412  180297.776949  76096.323125"
      ]
     },
     "execution_count": 10,
     "metadata": {},
     "output_type": "execute_result"
    }
   ],
   "source": [
    "hp_dict['Alley']\n",
    "# housePrice.Alley.unique()\n",
    "housePrice.Alley.value_counts()\n",
    "housePrice.Alley = housePrice.Alley.fillna('none')\n",
    "housePrice.groupby('Alley')['SalePrice'].agg(['count','mean','std'])"
   ]
  },
  {
   "cell_type": "code",
   "execution_count": 11,
   "id": "11e03389",
   "metadata": {},
   "outputs": [
    {
     "data": {
      "text/html": [
       "<div>\n",
       "<style scoped>\n",
       "    .dataframe tbody tr th:only-of-type {\n",
       "        vertical-align: middle;\n",
       "    }\n",
       "\n",
       "    .dataframe tbody tr th {\n",
       "        vertical-align: top;\n",
       "    }\n",
       "\n",
       "    .dataframe thead th {\n",
       "        text-align: right;\n",
       "    }\n",
       "</style>\n",
       "<table border=\"1\" class=\"dataframe\">\n",
       "  <thead>\n",
       "    <tr style=\"text-align: right;\">\n",
       "      <th></th>\n",
       "      <th>count</th>\n",
       "      <th>mean</th>\n",
       "      <th>std</th>\n",
       "    </tr>\n",
       "    <tr>\n",
       "      <th>Fence</th>\n",
       "      <th></th>\n",
       "      <th></th>\n",
       "      <th></th>\n",
       "    </tr>\n",
       "  </thead>\n",
       "  <tbody>\n",
       "    <tr>\n",
       "      <th>GdPrv</th>\n",
       "      <td>111</td>\n",
       "      <td>176726.576577</td>\n",
       "      <td>62331.695505</td>\n",
       "    </tr>\n",
       "    <tr>\n",
       "      <th>GdWo</th>\n",
       "      <td>103</td>\n",
       "      <td>144750.223301</td>\n",
       "      <td>47246.448542</td>\n",
       "    </tr>\n",
       "    <tr>\n",
       "      <th>MnPrv</th>\n",
       "      <td>301</td>\n",
       "      <td>146485.810631</td>\n",
       "      <td>44748.238487</td>\n",
       "    </tr>\n",
       "    <tr>\n",
       "      <th>MnWw</th>\n",
       "      <td>10</td>\n",
       "      <td>131965.000000</td>\n",
       "      <td>22333.856337</td>\n",
       "    </tr>\n",
       "    <tr>\n",
       "      <th>none</th>\n",
       "      <td>2055</td>\n",
       "      <td>184650.134307</td>\n",
       "      <td>78736.302160</td>\n",
       "    </tr>\n",
       "  </tbody>\n",
       "</table>\n",
       "</div>"
      ],
      "text/plain": [
       "       count           mean           std\n",
       "Fence                                    \n",
       "GdPrv    111  176726.576577  62331.695505\n",
       "GdWo     103  144750.223301  47246.448542\n",
       "MnPrv    301  146485.810631  44748.238487\n",
       "MnWw      10  131965.000000  22333.856337\n",
       "none    2055  184650.134307  78736.302160"
      ]
     },
     "execution_count": 11,
     "metadata": {},
     "output_type": "execute_result"
    }
   ],
   "source": [
    "hp_dict['Fence']  \n",
    "# Good Privacy - GdPr\n",
    "# Good Wood - GdWo\n",
    "# Minimum Privacy - MnPr\n",
    "# Minimum Wood - MnWw\n",
    "housePrice.Fence = housePrice.Fence.fillna('none')\n",
    "housePrice.groupby('Fence')['SalePrice'].agg(['count','mean','std'])"
   ]
  },
  {
   "cell_type": "code",
   "execution_count": 12,
   "id": "f0585de9",
   "metadata": {},
   "outputs": [
    {
     "data": {
      "text/html": [
       "<div>\n",
       "<style scoped>\n",
       "    .dataframe tbody tr th:only-of-type {\n",
       "        vertical-align: middle;\n",
       "    }\n",
       "\n",
       "    .dataframe tbody tr th {\n",
       "        vertical-align: top;\n",
       "    }\n",
       "\n",
       "    .dataframe thead th {\n",
       "        text-align: right;\n",
       "    }\n",
       "</style>\n",
       "<table border=\"1\" class=\"dataframe\">\n",
       "  <thead>\n",
       "    <tr style=\"text-align: right;\">\n",
       "      <th></th>\n",
       "      <th>count</th>\n",
       "      <th>mean</th>\n",
       "      <th>std</th>\n",
       "    </tr>\n",
       "    <tr>\n",
       "      <th>FireplaceQu</th>\n",
       "      <th></th>\n",
       "      <th></th>\n",
       "      <th></th>\n",
       "    </tr>\n",
       "  </thead>\n",
       "  <tbody>\n",
       "    <tr>\n",
       "      <th>Ex</th>\n",
       "      <td>35</td>\n",
       "      <td>340444.542857</td>\n",
       "      <td>112432.168836</td>\n",
       "    </tr>\n",
       "    <tr>\n",
       "      <th>Fa</th>\n",
       "      <td>70</td>\n",
       "      <td>168482.142857</td>\n",
       "      <td>36079.397184</td>\n",
       "    </tr>\n",
       "    <tr>\n",
       "      <th>Gd</th>\n",
       "      <td>619</td>\n",
       "      <td>223019.756058</td>\n",
       "      <td>91182.521787</td>\n",
       "    </tr>\n",
       "    <tr>\n",
       "      <th>Po</th>\n",
       "      <td>43</td>\n",
       "      <td>142528.674419</td>\n",
       "      <td>34116.467478</td>\n",
       "    </tr>\n",
       "    <tr>\n",
       "      <th>TA</th>\n",
       "      <td>572</td>\n",
       "      <td>204473.805944</td>\n",
       "      <td>63380.868389</td>\n",
       "    </tr>\n",
       "    <tr>\n",
       "      <th>none</th>\n",
       "      <td>1241</td>\n",
       "      <td>140650.717164</td>\n",
       "      <td>41618.136667</td>\n",
       "    </tr>\n",
       "  </tbody>\n",
       "</table>\n",
       "</div>"
      ],
      "text/plain": [
       "             count           mean            std\n",
       "FireplaceQu                                     \n",
       "Ex              35  340444.542857  112432.168836\n",
       "Fa              70  168482.142857   36079.397184\n",
       "Gd             619  223019.756058   91182.521787\n",
       "Po              43  142528.674419   34116.467478\n",
       "TA             572  204473.805944   63380.868389\n",
       "none          1241  140650.717164   41618.136667"
      ]
     },
     "execution_count": 12,
     "metadata": {},
     "output_type": "execute_result"
    }
   ],
   "source": [
    "hp_dict['FireplaceQu']\n",
    "housePrice.FireplaceQu = housePrice.FireplaceQu.fillna('none')\n",
    "housePrice.groupby('FireplaceQu')['SalePrice'].agg(['count','mean','std'])"
   ]
  },
  {
   "cell_type": "code",
   "execution_count": 13,
   "id": "80f9100f",
   "metadata": {},
   "outputs": [
    {
     "data": {
      "text/html": [
       "<div>\n",
       "<style scoped>\n",
       "    .dataframe tbody tr th:only-of-type {\n",
       "        vertical-align: middle;\n",
       "    }\n",
       "\n",
       "    .dataframe tbody tr th {\n",
       "        vertical-align: top;\n",
       "    }\n",
       "\n",
       "    .dataframe thead th {\n",
       "        text-align: right;\n",
       "    }\n",
       "</style>\n",
       "<table border=\"1\" class=\"dataframe\">\n",
       "  <thead>\n",
       "    <tr style=\"text-align: right;\">\n",
       "      <th></th>\n",
       "      <th>count</th>\n",
       "      <th>mean</th>\n",
       "      <th>std</th>\n",
       "    </tr>\n",
       "    <tr>\n",
       "      <th>LotFrontage</th>\n",
       "      <th></th>\n",
       "      <th></th>\n",
       "      <th></th>\n",
       "    </tr>\n",
       "  </thead>\n",
       "  <tbody>\n",
       "    <tr>\n",
       "      <th>21.0</th>\n",
       "      <td>46</td>\n",
       "      <td>95106.304348</td>\n",
       "      <td>13631.687979</td>\n",
       "    </tr>\n",
       "    <tr>\n",
       "      <th>22.0</th>\n",
       "      <td>1</td>\n",
       "      <td>217500.000000</td>\n",
       "      <td>NaN</td>\n",
       "    </tr>\n",
       "    <tr>\n",
       "      <th>24.0</th>\n",
       "      <td>49</td>\n",
       "      <td>144108.163265</td>\n",
       "      <td>20526.251857</td>\n",
       "    </tr>\n",
       "    <tr>\n",
       "      <th>25.0</th>\n",
       "      <td>1</td>\n",
       "      <td>260000.000000</td>\n",
       "      <td>NaN</td>\n",
       "    </tr>\n",
       "    <tr>\n",
       "      <th>26.0</th>\n",
       "      <td>3</td>\n",
       "      <td>183666.666667</td>\n",
       "      <td>6506.407099</td>\n",
       "    </tr>\n",
       "    <tr>\n",
       "      <th>...</th>\n",
       "      <td>...</td>\n",
       "      <td>...</td>\n",
       "      <td>...</td>\n",
       "    </tr>\n",
       "    <tr>\n",
       "      <th>168.0</th>\n",
       "      <td>1</td>\n",
       "      <td>274725.000000</td>\n",
       "      <td>NaN</td>\n",
       "    </tr>\n",
       "    <tr>\n",
       "      <th>174.0</th>\n",
       "      <td>1</td>\n",
       "      <td>403000.000000</td>\n",
       "      <td>NaN</td>\n",
       "    </tr>\n",
       "    <tr>\n",
       "      <th>195.0</th>\n",
       "      <td>1</td>\n",
       "      <td>155000.000000</td>\n",
       "      <td>NaN</td>\n",
       "    </tr>\n",
       "    <tr>\n",
       "      <th>200.0</th>\n",
       "      <td>1</td>\n",
       "      <td>130000.000000</td>\n",
       "      <td>NaN</td>\n",
       "    </tr>\n",
       "    <tr>\n",
       "      <th>313.0</th>\n",
       "      <td>1</td>\n",
       "      <td>242000.000000</td>\n",
       "      <td>NaN</td>\n",
       "    </tr>\n",
       "  </tbody>\n",
       "</table>\n",
       "<p>126 rows × 3 columns</p>\n",
       "</div>"
      ],
      "text/plain": [
       "             count           mean           std\n",
       "LotFrontage                                    \n",
       "21.0            46   95106.304348  13631.687979\n",
       "22.0             1  217500.000000           NaN\n",
       "24.0            49  144108.163265  20526.251857\n",
       "25.0             1  260000.000000           NaN\n",
       "26.0             3  183666.666667   6506.407099\n",
       "...            ...            ...           ...\n",
       "168.0            1  274725.000000           NaN\n",
       "174.0            1  403000.000000           NaN\n",
       "195.0            1  155000.000000           NaN\n",
       "200.0            1  130000.000000           NaN\n",
       "313.0            1  242000.000000           NaN\n",
       "\n",
       "[126 rows x 3 columns]"
      ]
     },
     "execution_count": 13,
     "metadata": {},
     "output_type": "execute_result"
    }
   ],
   "source": [
    "hp_dict['LotFrontage']                                 # impute using LotArea\n",
    "housePrice.loc[housePrice.LotFrontage == 31]\n",
    "housePrice.groupby('LotFrontage')['SalePrice'].agg(['count','mean','std'])"
   ]
  },
  {
   "cell_type": "markdown",
   "id": "53321e3f",
   "metadata": {},
   "source": [
    "#### [Iterative Imputing](https://machinelearningmastery.com/iterative-imputation-for-missing-values-in-machine-learning/)"
   ]
  },
  {
   "cell_type": "code",
   "execution_count": 14,
   "id": "dfe2f544",
   "metadata": {},
   "outputs": [],
   "source": [
    "from sklearn.experimental import enable_iterative_imputer\n",
    "from sklearn.impute import IterativeImputer\n",
    "\n",
    "Lot_df = housePrice[['LotFrontage','LotArea']]\n",
    "imputer = IterativeImputer()\n",
    "imputer.fit(Lot_df)\n",
    "LotTrans = imputer.transform(Lot_df)\n",
    "Lot_Imputed = pd.DataFrame(LotTrans)\n",
    "housePrice['LotFrontage'] = Lot_Imputed[0]"
   ]
  },
  {
   "cell_type": "code",
   "execution_count": 15,
   "id": "7a6d4b49",
   "metadata": {},
   "outputs": [
    {
     "data": {
      "text/plain": [
       "LotFrontage     2580\n",
       "GarageYrBlt      129\n",
       "GarageQual       129\n",
       "GarageFinish     129\n",
       "GarageCond       129\n",
       "GarageType       127\n",
       "BsmtExposure      71\n",
       "BsmtFinType2      70\n",
       "BsmtQual          69\n",
       "BsmtCond          69\n",
       "BsmtFinType1      69\n",
       "MasVnrArea        14\n",
       "MasVnrType        14\n",
       "BsmtHalfBath       2\n",
       "BsmtFullBath       2\n",
       "Electrical         1\n",
       "BsmtUnfSF          1\n",
       "BsmtFinSF2         1\n",
       "GarageCars         1\n",
       "GarageArea         1\n",
       "BsmtFinSF1         1\n",
       "TotalBsmtSF        1\n",
       "dtype: int64"
      ]
     },
     "execution_count": 15,
     "metadata": {},
     "output_type": "execute_result"
    }
   ],
   "source": [
    "nas(housePrice)"
   ]
  },
  {
   "cell_type": "code",
   "execution_count": 16,
   "id": "e04c1805",
   "metadata": {},
   "outputs": [
    {
     "data": {
      "text/html": [
       "<div>\n",
       "<style scoped>\n",
       "    .dataframe tbody tr th:only-of-type {\n",
       "        vertical-align: middle;\n",
       "    }\n",
       "\n",
       "    .dataframe tbody tr th {\n",
       "        vertical-align: top;\n",
       "    }\n",
       "\n",
       "    .dataframe thead th {\n",
       "        text-align: right;\n",
       "    }\n",
       "</style>\n",
       "<table border=\"1\" class=\"dataframe\">\n",
       "  <thead>\n",
       "    <tr style=\"text-align: right;\">\n",
       "      <th></th>\n",
       "      <th>count</th>\n",
       "      <th>mean</th>\n",
       "      <th>std</th>\n",
       "    </tr>\n",
       "    <tr>\n",
       "      <th>GarageCond</th>\n",
       "      <th></th>\n",
       "      <th></th>\n",
       "      <th></th>\n",
       "    </tr>\n",
       "  </thead>\n",
       "  <tbody>\n",
       "    <tr>\n",
       "      <th>Ex</th>\n",
       "      <td>3</td>\n",
       "      <td>125000.000000</td>\n",
       "      <td>3905.124838</td>\n",
       "    </tr>\n",
       "    <tr>\n",
       "      <th>Fa</th>\n",
       "      <td>67</td>\n",
       "      <td>108543.791045</td>\n",
       "      <td>37994.751260</td>\n",
       "    </tr>\n",
       "    <tr>\n",
       "      <th>Gd</th>\n",
       "      <td>14</td>\n",
       "      <td>188278.571429</td>\n",
       "      <td>72267.145196</td>\n",
       "    </tr>\n",
       "    <tr>\n",
       "      <th>Po</th>\n",
       "      <td>11</td>\n",
       "      <td>106618.181818</td>\n",
       "      <td>27559.238675</td>\n",
       "    </tr>\n",
       "    <tr>\n",
       "      <th>TA</th>\n",
       "      <td>2356</td>\n",
       "      <td>184277.848048</td>\n",
       "      <td>74495.805841</td>\n",
       "    </tr>\n",
       "    <tr>\n",
       "      <th>none</th>\n",
       "      <td>129</td>\n",
       "      <td>106814.604651</td>\n",
       "      <td>33428.251290</td>\n",
       "    </tr>\n",
       "  </tbody>\n",
       "</table>\n",
       "</div>"
      ],
      "text/plain": [
       "            count           mean           std\n",
       "GarageCond                                    \n",
       "Ex              3  125000.000000   3905.124838\n",
       "Fa             67  108543.791045  37994.751260\n",
       "Gd             14  188278.571429  72267.145196\n",
       "Po             11  106618.181818  27559.238675\n",
       "TA           2356  184277.848048  74495.805841\n",
       "none          129  106814.604651  33428.251290"
      ]
     },
     "execution_count": 16,
     "metadata": {},
     "output_type": "execute_result"
    }
   ],
   "source": [
    "hp_dict['GarageCond']                                                       \n",
    "housePrice.GarageCond = housePrice.GarageCond.fillna('none')\n",
    "housePrice.groupby('GarageCond')['SalePrice'].agg(['count','mean','std'])"
   ]
  },
  {
   "cell_type": "code",
   "execution_count": 17,
   "id": "63b652d1",
   "metadata": {},
   "outputs": [
    {
     "data": {
      "text/html": [
       "<div>\n",
       "<style scoped>\n",
       "    .dataframe tbody tr th:only-of-type {\n",
       "        vertical-align: middle;\n",
       "    }\n",
       "\n",
       "    .dataframe tbody tr th {\n",
       "        vertical-align: top;\n",
       "    }\n",
       "\n",
       "    .dataframe thead th {\n",
       "        text-align: right;\n",
       "    }\n",
       "</style>\n",
       "<table border=\"1\" class=\"dataframe\">\n",
       "  <thead>\n",
       "    <tr style=\"text-align: right;\">\n",
       "      <th></th>\n",
       "      <th>count</th>\n",
       "      <th>mean</th>\n",
       "      <th>std</th>\n",
       "    </tr>\n",
       "    <tr>\n",
       "      <th>GarageQual</th>\n",
       "      <th></th>\n",
       "      <th></th>\n",
       "      <th></th>\n",
       "    </tr>\n",
       "  </thead>\n",
       "  <tbody>\n",
       "    <tr>\n",
       "      <th>Ex</th>\n",
       "      <td>3</td>\n",
       "      <td>241000.000000</td>\n",
       "      <td>202680.166765</td>\n",
       "    </tr>\n",
       "    <tr>\n",
       "      <th>Fa</th>\n",
       "      <td>110</td>\n",
       "      <td>118884.100000</td>\n",
       "      <td>39721.189121</td>\n",
       "    </tr>\n",
       "    <tr>\n",
       "      <th>Gd</th>\n",
       "      <td>22</td>\n",
       "      <td>242833.500000</td>\n",
       "      <td>119708.930561</td>\n",
       "    </tr>\n",
       "    <tr>\n",
       "      <th>Po</th>\n",
       "      <td>4</td>\n",
       "      <td>94350.000000</td>\n",
       "      <td>31556.140448</td>\n",
       "    </tr>\n",
       "    <tr>\n",
       "      <th>TA</th>\n",
       "      <td>2312</td>\n",
       "      <td>184297.039792</td>\n",
       "      <td>73708.905056</td>\n",
       "    </tr>\n",
       "    <tr>\n",
       "      <th>none</th>\n",
       "      <td>129</td>\n",
       "      <td>106814.604651</td>\n",
       "      <td>33428.251290</td>\n",
       "    </tr>\n",
       "  </tbody>\n",
       "</table>\n",
       "</div>"
      ],
      "text/plain": [
       "            count           mean            std\n",
       "GarageQual                                     \n",
       "Ex              3  241000.000000  202680.166765\n",
       "Fa            110  118884.100000   39721.189121\n",
       "Gd             22  242833.500000  119708.930561\n",
       "Po              4   94350.000000   31556.140448\n",
       "TA           2312  184297.039792   73708.905056\n",
       "none          129  106814.604651   33428.251290"
      ]
     },
     "execution_count": 17,
     "metadata": {},
     "output_type": "execute_result"
    }
   ],
   "source": [
    "hp_dict['GarageQual']                                             # should we try to compile garage? (is that clusters?)\n",
    "housePrice.GarageQual = housePrice.GarageQual.fillna('none')              # compare relationship between rankings \n",
    "housePrice.groupby('GarageQual')['SalePrice'].agg(['count','mean','std'])           # across garage classifications"
   ]
  },
  {
   "cell_type": "code",
   "execution_count": 18,
   "id": "cb07c37b",
   "metadata": {},
   "outputs": [
    {
     "data": {
      "text/html": [
       "<div>\n",
       "<style scoped>\n",
       "    .dataframe tbody tr th:only-of-type {\n",
       "        vertical-align: middle;\n",
       "    }\n",
       "\n",
       "    .dataframe tbody tr th {\n",
       "        vertical-align: top;\n",
       "    }\n",
       "\n",
       "    .dataframe thead th {\n",
       "        text-align: right;\n",
       "    }\n",
       "</style>\n",
       "<table border=\"1\" class=\"dataframe\">\n",
       "  <thead>\n",
       "    <tr style=\"text-align: right;\">\n",
       "      <th></th>\n",
       "      <th>count</th>\n",
       "      <th>mean</th>\n",
       "      <th>std</th>\n",
       "    </tr>\n",
       "    <tr>\n",
       "      <th>GarageFinish</th>\n",
       "      <th></th>\n",
       "      <th></th>\n",
       "      <th></th>\n",
       "    </tr>\n",
       "  </thead>\n",
       "  <tbody>\n",
       "    <tr>\n",
       "      <th>Fin</th>\n",
       "      <td>621</td>\n",
       "      <td>231925.247987</td>\n",
       "      <td>89751.688867</td>\n",
       "    </tr>\n",
       "    <tr>\n",
       "      <th>RFn</th>\n",
       "      <td>718</td>\n",
       "      <td>199724.565460</td>\n",
       "      <td>64714.442479</td>\n",
       "    </tr>\n",
       "    <tr>\n",
       "      <th>Unf</th>\n",
       "      <td>1112</td>\n",
       "      <td>142254.430755</td>\n",
       "      <td>44088.459471</td>\n",
       "    </tr>\n",
       "    <tr>\n",
       "      <th>none</th>\n",
       "      <td>129</td>\n",
       "      <td>106814.604651</td>\n",
       "      <td>33428.251290</td>\n",
       "    </tr>\n",
       "  </tbody>\n",
       "</table>\n",
       "</div>"
      ],
      "text/plain": [
       "              count           mean           std\n",
       "GarageFinish                                    \n",
       "Fin             621  231925.247987  89751.688867\n",
       "RFn             718  199724.565460  64714.442479\n",
       "Unf            1112  142254.430755  44088.459471\n",
       "none            129  106814.604651  33428.251290"
      ]
     },
     "execution_count": 18,
     "metadata": {},
     "output_type": "execute_result"
    }
   ],
   "source": [
    "hp_dict['GarageFinish']                                             \n",
    "housePrice.GarageFinish = housePrice.GarageFinish.fillna('none')\n",
    "housePrice.groupby('GarageFinish')['SalePrice'].agg(['count','mean','std'])"
   ]
  },
  {
   "cell_type": "code",
   "execution_count": 19,
   "id": "0cf36954",
   "metadata": {},
   "outputs": [
    {
     "data": {
      "text/html": [
       "<div>\n",
       "<style scoped>\n",
       "    .dataframe tbody tr th:only-of-type {\n",
       "        vertical-align: middle;\n",
       "    }\n",
       "\n",
       "    .dataframe tbody tr th {\n",
       "        vertical-align: top;\n",
       "    }\n",
       "\n",
       "    .dataframe thead th {\n",
       "        text-align: right;\n",
       "    }\n",
       "</style>\n",
       "<table border=\"1\" class=\"dataframe\">\n",
       "  <thead>\n",
       "    <tr style=\"text-align: right;\">\n",
       "      <th></th>\n",
       "      <th>count</th>\n",
       "      <th>mean</th>\n",
       "      <th>std</th>\n",
       "    </tr>\n",
       "    <tr>\n",
       "      <th>GarageYrBlt</th>\n",
       "      <th></th>\n",
       "      <th></th>\n",
       "      <th></th>\n",
       "    </tr>\n",
       "  </thead>\n",
       "  <tbody>\n",
       "    <tr>\n",
       "      <th>0.0</th>\n",
       "      <td>129</td>\n",
       "      <td>106814.604651</td>\n",
       "      <td>33428.251290</td>\n",
       "    </tr>\n",
       "    <tr>\n",
       "      <th>1895.0</th>\n",
       "      <td>1</td>\n",
       "      <td>89000.000000</td>\n",
       "      <td>NaN</td>\n",
       "    </tr>\n",
       "    <tr>\n",
       "      <th>1900.0</th>\n",
       "      <td>5</td>\n",
       "      <td>124760.000000</td>\n",
       "      <td>31569.494769</td>\n",
       "    </tr>\n",
       "    <tr>\n",
       "      <th>1906.0</th>\n",
       "      <td>1</td>\n",
       "      <td>135000.000000</td>\n",
       "      <td>NaN</td>\n",
       "    </tr>\n",
       "    <tr>\n",
       "      <th>1908.0</th>\n",
       "      <td>1</td>\n",
       "      <td>240000.000000</td>\n",
       "      <td>NaN</td>\n",
       "    </tr>\n",
       "    <tr>\n",
       "      <th>...</th>\n",
       "      <td>...</td>\n",
       "      <td>...</td>\n",
       "      <td>...</td>\n",
       "    </tr>\n",
       "    <tr>\n",
       "      <th>2006.0</th>\n",
       "      <td>67</td>\n",
       "      <td>263140.507463</td>\n",
       "      <td>82094.024392</td>\n",
       "    </tr>\n",
       "    <tr>\n",
       "      <th>2007.0</th>\n",
       "      <td>67</td>\n",
       "      <td>258978.552239</td>\n",
       "      <td>98539.246379</td>\n",
       "    </tr>\n",
       "    <tr>\n",
       "      <th>2008.0</th>\n",
       "      <td>44</td>\n",
       "      <td>292216.795455</td>\n",
       "      <td>87551.849537</td>\n",
       "    </tr>\n",
       "    <tr>\n",
       "      <th>2009.0</th>\n",
       "      <td>12</td>\n",
       "      <td>297876.666667</td>\n",
       "      <td>126085.057796</td>\n",
       "    </tr>\n",
       "    <tr>\n",
       "      <th>2010.0</th>\n",
       "      <td>1</td>\n",
       "      <td>394432.000000</td>\n",
       "      <td>NaN</td>\n",
       "    </tr>\n",
       "  </tbody>\n",
       "</table>\n",
       "<p>101 rows × 3 columns</p>\n",
       "</div>"
      ],
      "text/plain": [
       "             count           mean            std\n",
       "GarageYrBlt                                     \n",
       "0.0            129  106814.604651   33428.251290\n",
       "1895.0           1   89000.000000            NaN\n",
       "1900.0           5  124760.000000   31569.494769\n",
       "1906.0           1  135000.000000            NaN\n",
       "1908.0           1  240000.000000            NaN\n",
       "...            ...            ...            ...\n",
       "2006.0          67  263140.507463   82094.024392\n",
       "2007.0          67  258978.552239   98539.246379\n",
       "2008.0          44  292216.795455   87551.849537\n",
       "2009.0          12  297876.666667  126085.057796\n",
       "2010.0           1  394432.000000            NaN\n",
       "\n",
       "[101 rows x 3 columns]"
      ]
     },
     "execution_count": 19,
     "metadata": {},
     "output_type": "execute_result"
    }
   ],
   "source": [
    "hp_dict['GarageYrBlt']                                                         \n",
    "housePrice.GarageYrBlt = housePrice.GarageYrBlt.fillna(0)\n",
    "housePrice.groupby('GarageYrBlt')['SalePrice'].agg(['count','mean','std'])"
   ]
  },
  {
   "cell_type": "code",
   "execution_count": 20,
   "id": "fee9844d",
   "metadata": {},
   "outputs": [
    {
     "data": {
      "text/html": [
       "<div>\n",
       "<style scoped>\n",
       "    .dataframe tbody tr th:only-of-type {\n",
       "        vertical-align: middle;\n",
       "    }\n",
       "\n",
       "    .dataframe tbody tr th {\n",
       "        vertical-align: top;\n",
       "    }\n",
       "\n",
       "    .dataframe thead th {\n",
       "        text-align: right;\n",
       "    }\n",
       "</style>\n",
       "<table border=\"1\" class=\"dataframe\">\n",
       "  <thead>\n",
       "    <tr style=\"text-align: right;\">\n",
       "      <th></th>\n",
       "      <th>count</th>\n",
       "      <th>mean</th>\n",
       "      <th>std</th>\n",
       "    </tr>\n",
       "    <tr>\n",
       "      <th>GarageType</th>\n",
       "      <th></th>\n",
       "      <th></th>\n",
       "      <th></th>\n",
       "    </tr>\n",
       "  </thead>\n",
       "  <tbody>\n",
       "    <tr>\n",
       "      <th>2Types</th>\n",
       "      <td>21</td>\n",
       "      <td>154080.952381</td>\n",
       "      <td>36478.125213</td>\n",
       "    </tr>\n",
       "    <tr>\n",
       "      <th>Attchd</th>\n",
       "      <td>1527</td>\n",
       "      <td>200661.569090</td>\n",
       "      <td>75910.133901</td>\n",
       "    </tr>\n",
       "    <tr>\n",
       "      <th>Basment</th>\n",
       "      <td>27</td>\n",
       "      <td>155150.000000</td>\n",
       "      <td>33391.342153</td>\n",
       "    </tr>\n",
       "    <tr>\n",
       "      <th>BuiltIn</th>\n",
       "      <td>153</td>\n",
       "      <td>233054.464052</td>\n",
       "      <td>80768.842199</td>\n",
       "    </tr>\n",
       "    <tr>\n",
       "      <th>CarPort</th>\n",
       "      <td>9</td>\n",
       "      <td>110716.666667</td>\n",
       "      <td>27859.446333</td>\n",
       "    </tr>\n",
       "    <tr>\n",
       "      <th>Detchd</th>\n",
       "      <td>716</td>\n",
       "      <td>133291.765363</td>\n",
       "      <td>39764.381342</td>\n",
       "    </tr>\n",
       "    <tr>\n",
       "      <th>none</th>\n",
       "      <td>127</td>\n",
       "      <td>106048.622047</td>\n",
       "      <td>33116.655928</td>\n",
       "    </tr>\n",
       "  </tbody>\n",
       "</table>\n",
       "</div>"
      ],
      "text/plain": [
       "            count           mean           std\n",
       "GarageType                                    \n",
       "2Types         21  154080.952381  36478.125213\n",
       "Attchd       1527  200661.569090  75910.133901\n",
       "Basment        27  155150.000000  33391.342153\n",
       "BuiltIn       153  233054.464052  80768.842199\n",
       "CarPort         9  110716.666667  27859.446333\n",
       "Detchd        716  133291.765363  39764.381342\n",
       "none          127  106048.622047  33116.655928"
      ]
     },
     "execution_count": 20,
     "metadata": {},
     "output_type": "execute_result"
    }
   ],
   "source": [
    "hp_dict['GarageType']                                             \n",
    "housePrice.GarageType = housePrice.GarageType.fillna('none')\n",
    "housePrice.groupby('GarageType')['SalePrice'].agg(['count','mean','std'])"
   ]
  },
  {
   "cell_type": "code",
   "execution_count": 21,
   "id": "6d88d245",
   "metadata": {},
   "outputs": [
    {
     "data": {
      "text/html": [
       "<div>\n",
       "<style scoped>\n",
       "    .dataframe tbody tr th:only-of-type {\n",
       "        vertical-align: middle;\n",
       "    }\n",
       "\n",
       "    .dataframe tbody tr th {\n",
       "        vertical-align: top;\n",
       "    }\n",
       "\n",
       "    .dataframe thead th {\n",
       "        text-align: right;\n",
       "    }\n",
       "</style>\n",
       "<table border=\"1\" class=\"dataframe\">\n",
       "  <thead>\n",
       "    <tr style=\"text-align: right;\">\n",
       "      <th></th>\n",
       "      <th>count</th>\n",
       "      <th>mean</th>\n",
       "      <th>std</th>\n",
       "    </tr>\n",
       "    <tr>\n",
       "      <th>BsmtExposure</th>\n",
       "      <th></th>\n",
       "      <th></th>\n",
       "      <th></th>\n",
       "    </tr>\n",
       "  </thead>\n",
       "  <tbody>\n",
       "    <tr>\n",
       "      <th>Av</th>\n",
       "      <td>344</td>\n",
       "      <td>201482.340116</td>\n",
       "      <td>76537.790904</td>\n",
       "    </tr>\n",
       "    <tr>\n",
       "      <th>Gd</th>\n",
       "      <td>242</td>\n",
       "      <td>262873.061983</td>\n",
       "      <td>113165.344846</td>\n",
       "    </tr>\n",
       "    <tr>\n",
       "      <th>Mn</th>\n",
       "      <td>215</td>\n",
       "      <td>185463.330233</td>\n",
       "      <td>70096.651361</td>\n",
       "    </tr>\n",
       "    <tr>\n",
       "      <th>No</th>\n",
       "      <td>1708</td>\n",
       "      <td>163135.738876</td>\n",
       "      <td>57349.711224</td>\n",
       "    </tr>\n",
       "    <tr>\n",
       "      <th>none</th>\n",
       "      <td>71</td>\n",
       "      <td>112086.816901</td>\n",
       "      <td>42548.995226</td>\n",
       "    </tr>\n",
       "  </tbody>\n",
       "</table>\n",
       "</div>"
      ],
      "text/plain": [
       "              count           mean            std\n",
       "BsmtExposure                                     \n",
       "Av              344  201482.340116   76537.790904\n",
       "Gd              242  262873.061983  113165.344846\n",
       "Mn              215  185463.330233   70096.651361\n",
       "No             1708  163135.738876   57349.711224\n",
       "none             71  112086.816901   42548.995226"
      ]
     },
     "execution_count": 21,
     "metadata": {},
     "output_type": "execute_result"
    }
   ],
   "source": [
    "hp_dict['BsmtExposure']                                             \n",
    "housePrice.BsmtExposure = housePrice.BsmtExposure.fillna('none')\n",
    "housePrice.groupby('BsmtExposure')['SalePrice'].agg(['count','mean','std'])"
   ]
  },
  {
   "cell_type": "code",
   "execution_count": 22,
   "id": "ec88bf2e",
   "metadata": {},
   "outputs": [
    {
     "data": {
      "text/html": [
       "<div>\n",
       "<style scoped>\n",
       "    .dataframe tbody tr th:only-of-type {\n",
       "        vertical-align: middle;\n",
       "    }\n",
       "\n",
       "    .dataframe tbody tr th {\n",
       "        vertical-align: top;\n",
       "    }\n",
       "\n",
       "    .dataframe thead th {\n",
       "        text-align: right;\n",
       "    }\n",
       "</style>\n",
       "<table border=\"1\" class=\"dataframe\">\n",
       "  <thead>\n",
       "    <tr style=\"text-align: right;\">\n",
       "      <th></th>\n",
       "      <th>count</th>\n",
       "      <th>mean</th>\n",
       "      <th>std</th>\n",
       "    </tr>\n",
       "    <tr>\n",
       "      <th>BsmtFinType2</th>\n",
       "      <th></th>\n",
       "      <th></th>\n",
       "      <th></th>\n",
       "    </tr>\n",
       "  </thead>\n",
       "  <tbody>\n",
       "    <tr>\n",
       "      <th>ALQ</th>\n",
       "      <td>53</td>\n",
       "      <td>188644.339623</td>\n",
       "      <td>82192.691433</td>\n",
       "    </tr>\n",
       "    <tr>\n",
       "      <th>BLQ</th>\n",
       "      <td>64</td>\n",
       "      <td>161466.140625</td>\n",
       "      <td>57560.260186</td>\n",
       "    </tr>\n",
       "    <tr>\n",
       "      <th>GLQ</th>\n",
       "      <td>32</td>\n",
       "      <td>211278.125000</td>\n",
       "      <td>101942.759031</td>\n",
       "    </tr>\n",
       "    <tr>\n",
       "      <th>LwQ</th>\n",
       "      <td>84</td>\n",
       "      <td>160725.297619</td>\n",
       "      <td>38958.990930</td>\n",
       "    </tr>\n",
       "    <tr>\n",
       "      <th>Rec</th>\n",
       "      <td>97</td>\n",
       "      <td>164338.402062</td>\n",
       "      <td>55684.315058</td>\n",
       "    </tr>\n",
       "    <tr>\n",
       "      <th>Unf</th>\n",
       "      <td>2180</td>\n",
       "      <td>181206.894954</td>\n",
       "      <td>76175.880106</td>\n",
       "    </tr>\n",
       "    <tr>\n",
       "      <th>none</th>\n",
       "      <td>70</td>\n",
       "      <td>111830.914286</td>\n",
       "      <td>44695.624964</td>\n",
       "    </tr>\n",
       "  </tbody>\n",
       "</table>\n",
       "</div>"
      ],
      "text/plain": [
       "              count           mean            std\n",
       "BsmtFinType2                                     \n",
       "ALQ              53  188644.339623   82192.691433\n",
       "BLQ              64  161466.140625   57560.260186\n",
       "GLQ              32  211278.125000  101942.759031\n",
       "LwQ              84  160725.297619   38958.990930\n",
       "Rec              97  164338.402062   55684.315058\n",
       "Unf            2180  181206.894954   76175.880106\n",
       "none             70  111830.914286   44695.624964"
      ]
     },
     "execution_count": 22,
     "metadata": {},
     "output_type": "execute_result"
    }
   ],
   "source": [
    "hp_dict['BsmtFinType2']                                             \n",
    "housePrice.BsmtFinType2 = housePrice.BsmtFinType2.fillna('none')\n",
    "housePrice.groupby('BsmtFinType2')['SalePrice'].agg(['count','mean','std'])"
   ]
  },
  {
   "cell_type": "code",
   "execution_count": 23,
   "id": "7787b8f6",
   "metadata": {},
   "outputs": [
    {
     "data": {
      "text/html": [
       "<div>\n",
       "<style scoped>\n",
       "    .dataframe tbody tr th:only-of-type {\n",
       "        vertical-align: middle;\n",
       "    }\n",
       "\n",
       "    .dataframe tbody tr th {\n",
       "        vertical-align: top;\n",
       "    }\n",
       "\n",
       "    .dataframe thead th {\n",
       "        text-align: right;\n",
       "    }\n",
       "</style>\n",
       "<table border=\"1\" class=\"dataframe\">\n",
       "  <thead>\n",
       "    <tr style=\"text-align: right;\">\n",
       "      <th></th>\n",
       "      <th>count</th>\n",
       "      <th>mean</th>\n",
       "      <th>std</th>\n",
       "    </tr>\n",
       "    <tr>\n",
       "      <th>BsmtFinType1</th>\n",
       "      <th></th>\n",
       "      <th></th>\n",
       "      <th></th>\n",
       "    </tr>\n",
       "  </thead>\n",
       "  <tbody>\n",
       "    <tr>\n",
       "      <th>ALQ</th>\n",
       "      <td>397</td>\n",
       "      <td>163515.198992</td>\n",
       "      <td>48331.383704</td>\n",
       "    </tr>\n",
       "    <tr>\n",
       "      <th>BLQ</th>\n",
       "      <td>251</td>\n",
       "      <td>150852.749004</td>\n",
       "      <td>44819.815866</td>\n",
       "    </tr>\n",
       "    <tr>\n",
       "      <th>GLQ</th>\n",
       "      <td>753</td>\n",
       "      <td>231889.369190</td>\n",
       "      <td>87608.901286</td>\n",
       "    </tr>\n",
       "    <tr>\n",
       "      <th>LwQ</th>\n",
       "      <td>139</td>\n",
       "      <td>153106.834532</td>\n",
       "      <td>55352.198810</td>\n",
       "    </tr>\n",
       "    <tr>\n",
       "      <th>Rec</th>\n",
       "      <td>265</td>\n",
       "      <td>144782.030189</td>\n",
       "      <td>49548.992468</td>\n",
       "    </tr>\n",
       "    <tr>\n",
       "      <th>Unf</th>\n",
       "      <td>706</td>\n",
       "      <td>162617.998584</td>\n",
       "      <td>63191.379338</td>\n",
       "    </tr>\n",
       "    <tr>\n",
       "      <th>none</th>\n",
       "      <td>69</td>\n",
       "      <td>109335.710145</td>\n",
       "      <td>39810.106680</td>\n",
       "    </tr>\n",
       "  </tbody>\n",
       "</table>\n",
       "</div>"
      ],
      "text/plain": [
       "              count           mean           std\n",
       "BsmtFinType1                                    \n",
       "ALQ             397  163515.198992  48331.383704\n",
       "BLQ             251  150852.749004  44819.815866\n",
       "GLQ             753  231889.369190  87608.901286\n",
       "LwQ             139  153106.834532  55352.198810\n",
       "Rec             265  144782.030189  49548.992468\n",
       "Unf             706  162617.998584  63191.379338\n",
       "none             69  109335.710145  39810.106680"
      ]
     },
     "execution_count": 23,
     "metadata": {},
     "output_type": "execute_result"
    }
   ],
   "source": [
    "hp_dict['BsmtFinType1']                                             \n",
    "housePrice.BsmtFinType1 = housePrice.BsmtFinType1.fillna('none')\n",
    "housePrice.groupby('BsmtFinType1')['SalePrice'].agg(['count','mean','std'])"
   ]
  },
  {
   "cell_type": "code",
   "execution_count": 24,
   "id": "a1c7bd07",
   "metadata": {},
   "outputs": [
    {
     "data": {
      "text/html": [
       "<div>\n",
       "<style scoped>\n",
       "    .dataframe tbody tr th:only-of-type {\n",
       "        vertical-align: middle;\n",
       "    }\n",
       "\n",
       "    .dataframe tbody tr th {\n",
       "        vertical-align: top;\n",
       "    }\n",
       "\n",
       "    .dataframe thead th {\n",
       "        text-align: right;\n",
       "    }\n",
       "</style>\n",
       "<table border=\"1\" class=\"dataframe\">\n",
       "  <thead>\n",
       "    <tr style=\"text-align: right;\">\n",
       "      <th></th>\n",
       "      <th>count</th>\n",
       "      <th>mean</th>\n",
       "      <th>std</th>\n",
       "    </tr>\n",
       "    <tr>\n",
       "      <th>BsmtQual</th>\n",
       "      <th></th>\n",
       "      <th></th>\n",
       "      <th></th>\n",
       "    </tr>\n",
       "  </thead>\n",
       "  <tbody>\n",
       "    <tr>\n",
       "      <th>Ex</th>\n",
       "      <td>188</td>\n",
       "      <td>327308.005319</td>\n",
       "      <td>102928.298214</td>\n",
       "    </tr>\n",
       "    <tr>\n",
       "      <th>Fa</th>\n",
       "      <td>78</td>\n",
       "      <td>113467.051282</td>\n",
       "      <td>38699.187921</td>\n",
       "    </tr>\n",
       "    <tr>\n",
       "      <th>Gd</th>\n",
       "      <td>1077</td>\n",
       "      <td>200961.085422</td>\n",
       "      <td>56495.645593</td>\n",
       "    </tr>\n",
       "    <tr>\n",
       "      <th>Po</th>\n",
       "      <td>2</td>\n",
       "      <td>84950.000000</td>\n",
       "      <td>5727.564928</td>\n",
       "    </tr>\n",
       "    <tr>\n",
       "      <th>TA</th>\n",
       "      <td>1166</td>\n",
       "      <td>141389.656947</td>\n",
       "      <td>40290.731298</td>\n",
       "    </tr>\n",
       "    <tr>\n",
       "      <th>none</th>\n",
       "      <td>69</td>\n",
       "      <td>109335.710145</td>\n",
       "      <td>39810.106680</td>\n",
       "    </tr>\n",
       "  </tbody>\n",
       "</table>\n",
       "</div>"
      ],
      "text/plain": [
       "          count           mean            std\n",
       "BsmtQual                                     \n",
       "Ex          188  327308.005319  102928.298214\n",
       "Fa           78  113467.051282   38699.187921\n",
       "Gd         1077  200961.085422   56495.645593\n",
       "Po            2   84950.000000    5727.564928\n",
       "TA         1166  141389.656947   40290.731298\n",
       "none         69  109335.710145   39810.106680"
      ]
     },
     "execution_count": 24,
     "metadata": {},
     "output_type": "execute_result"
    }
   ],
   "source": [
    "hp_dict['BsmtQual']                                            # does it matter if some basements (garages) don't have           \n",
    "housePrice.BsmtQual = housePrice.BsmtQual.fillna('none')       # certain classifications, and are seen as 'none'\n",
    "housePrice.groupby('BsmtQual')['SalePrice'].agg(['count','mean','std'])"
   ]
  },
  {
   "cell_type": "code",
   "execution_count": 25,
   "id": "aca8b1f3",
   "metadata": {},
   "outputs": [
    {
     "data": {
      "text/html": [
       "<div>\n",
       "<style scoped>\n",
       "    .dataframe tbody tr th:only-of-type {\n",
       "        vertical-align: middle;\n",
       "    }\n",
       "\n",
       "    .dataframe tbody tr th {\n",
       "        vertical-align: top;\n",
       "    }\n",
       "\n",
       "    .dataframe thead th {\n",
       "        text-align: right;\n",
       "    }\n",
       "</style>\n",
       "<table border=\"1\" class=\"dataframe\">\n",
       "  <thead>\n",
       "    <tr style=\"text-align: right;\">\n",
       "      <th></th>\n",
       "      <th>count</th>\n",
       "      <th>mean</th>\n",
       "      <th>std</th>\n",
       "    </tr>\n",
       "    <tr>\n",
       "      <th>BsmtCond</th>\n",
       "      <th></th>\n",
       "      <th></th>\n",
       "      <th></th>\n",
       "    </tr>\n",
       "  </thead>\n",
       "  <tbody>\n",
       "    <tr>\n",
       "      <th>Ex</th>\n",
       "      <td>3</td>\n",
       "      <td>195000.000000</td>\n",
       "      <td>83216.584885</td>\n",
       "    </tr>\n",
       "    <tr>\n",
       "      <th>Fa</th>\n",
       "      <td>88</td>\n",
       "      <td>122382.875000</td>\n",
       "      <td>44683.700374</td>\n",
       "    </tr>\n",
       "    <tr>\n",
       "      <th>Gd</th>\n",
       "      <td>101</td>\n",
       "      <td>206709.128713</td>\n",
       "      <td>69427.407860</td>\n",
       "    </tr>\n",
       "    <tr>\n",
       "      <th>Po</th>\n",
       "      <td>3</td>\n",
       "      <td>95133.333333</td>\n",
       "      <td>34428.706530</td>\n",
       "    </tr>\n",
       "    <tr>\n",
       "      <th>TA</th>\n",
       "      <td>2316</td>\n",
       "      <td>181058.699914</td>\n",
       "      <td>74981.038735</td>\n",
       "    </tr>\n",
       "    <tr>\n",
       "      <th>none</th>\n",
       "      <td>69</td>\n",
       "      <td>109335.710145</td>\n",
       "      <td>39810.106680</td>\n",
       "    </tr>\n",
       "  </tbody>\n",
       "</table>\n",
       "</div>"
      ],
      "text/plain": [
       "          count           mean           std\n",
       "BsmtCond                                    \n",
       "Ex            3  195000.000000  83216.584885\n",
       "Fa           88  122382.875000  44683.700374\n",
       "Gd          101  206709.128713  69427.407860\n",
       "Po            3   95133.333333  34428.706530\n",
       "TA         2316  181058.699914  74981.038735\n",
       "none         69  109335.710145  39810.106680"
      ]
     },
     "execution_count": 25,
     "metadata": {},
     "output_type": "execute_result"
    }
   ],
   "source": [
    "hp_dict['BsmtCond']                                             \n",
    "housePrice.BsmtCond = housePrice.BsmtCond.fillna('none')\n",
    "housePrice.groupby('BsmtCond')['SalePrice'].agg(['count','mean','std'])"
   ]
  },
  {
   "cell_type": "code",
   "execution_count": 26,
   "id": "fec1e73e",
   "metadata": {},
   "outputs": [
    {
     "data": {
      "text/html": [
       "<div>\n",
       "<style scoped>\n",
       "    .dataframe tbody tr th:only-of-type {\n",
       "        vertical-align: middle;\n",
       "    }\n",
       "\n",
       "    .dataframe tbody tr th {\n",
       "        vertical-align: top;\n",
       "    }\n",
       "\n",
       "    .dataframe thead th {\n",
       "        text-align: right;\n",
       "    }\n",
       "</style>\n",
       "<table border=\"1\" class=\"dataframe\">\n",
       "  <thead>\n",
       "    <tr style=\"text-align: right;\">\n",
       "      <th></th>\n",
       "      <th>count</th>\n",
       "      <th>mean</th>\n",
       "      <th>std</th>\n",
       "    </tr>\n",
       "    <tr>\n",
       "      <th>MasVnrType</th>\n",
       "      <th></th>\n",
       "      <th></th>\n",
       "      <th></th>\n",
       "    </tr>\n",
       "  </thead>\n",
       "  <tbody>\n",
       "    <tr>\n",
       "      <th>BrkCmn</th>\n",
       "      <td>20</td>\n",
       "      <td>145450.200000</td>\n",
       "      <td>43092.544242</td>\n",
       "    </tr>\n",
       "    <tr>\n",
       "      <th>BrkFace</th>\n",
       "      <td>804</td>\n",
       "      <td>208615.353234</td>\n",
       "      <td>82393.220408</td>\n",
       "    </tr>\n",
       "    <tr>\n",
       "      <th>None</th>\n",
       "      <td>1559</td>\n",
       "      <td>154365.317511</td>\n",
       "      <td>54210.546901</td>\n",
       "    </tr>\n",
       "    <tr>\n",
       "      <th>Stone</th>\n",
       "      <td>183</td>\n",
       "      <td>246845.519126</td>\n",
       "      <td>101989.391799</td>\n",
       "    </tr>\n",
       "    <tr>\n",
       "      <th>unknown</th>\n",
       "      <td>14</td>\n",
       "      <td>209272.857143</td>\n",
       "      <td>51066.242866</td>\n",
       "    </tr>\n",
       "  </tbody>\n",
       "</table>\n",
       "</div>"
      ],
      "text/plain": [
       "            count           mean            std\n",
       "MasVnrType                                     \n",
       "BrkCmn         20  145450.200000   43092.544242\n",
       "BrkFace       804  208615.353234   82393.220408\n",
       "None         1559  154365.317511   54210.546901\n",
       "Stone         183  246845.519126  101989.391799\n",
       "unknown        14  209272.857143   51066.242866"
      ]
     },
     "execution_count": 26,
     "metadata": {},
     "output_type": "execute_result"
    }
   ],
   "source": [
    "hp_dict['MasVnrType']\n",
    "housePrice.MasVnrType = housePrice.MasVnrType.fillna('unknown')\n",
    "housePrice.groupby('MasVnrType')['SalePrice'].agg(['count','mean','std'])"
   ]
  },
  {
   "cell_type": "code",
   "execution_count": 27,
   "id": "69fe1482",
   "metadata": {},
   "outputs": [
    {
     "name": "stderr",
     "output_type": "stream",
     "text": [
      "C:\\Users\\hzeig\\anaconda3\\lib\\site-packages\\sklearn\\impute\\_iterative.py:685: ConvergenceWarning: [IterativeImputer] Early stopping criterion not reached.\n",
      "  warnings.warn(\"[IterativeImputer] Early stopping criterion not\"\n"
     ]
    }
   ],
   "source": [
    "# iterative imputer again, using area-related columns\n",
    "hp_dict['MasVnrArea']\n",
    "size_related = housePrice.filter(regex='SF|Area$')\n",
    "\n",
    "impute = IterativeImputer(max_iter=100)\n",
    "size_trans = impute.fit_transform(size_related)\n",
    "size_trans = pd.DataFrame(size_trans)\n",
    "housePrice.MasVnrArea = size_trans[2]\n",
    "housePrice.BsmtFinSF1 = size_trans[3]\n",
    "housePrice.BsmtFinSF2 = size_trans[4]\n",
    "housePrice.BsmtUnfSF = size_trans[5]\n",
    "housePrice.TotalBsmtSF = size_trans[6]\n",
    "housePrice.GarageArea = size_trans[8]"
   ]
  },
  {
   "cell_type": "code",
   "execution_count": 28,
   "id": "727b84a9",
   "metadata": {},
   "outputs": [
    {
     "data": {
      "text/plain": [
       "[(0, 'GrLivArea'),\n",
       " (1, 'LotArea'),\n",
       " (2, 'MasVnrArea'),\n",
       " (3, 'BsmtFinSF1'),\n",
       " (4, 'BsmtFinSF2'),\n",
       " (5, 'BsmtUnfSF'),\n",
       " (6, 'TotalBsmtSF'),\n",
       " (7, '1stFlrSF'),\n",
       " (8, '2ndFlrSF'),\n",
       " (9, 'LowQualFinSF'),\n",
       " (10, 'GarageArea'),\n",
       " (11, 'WoodDeckSF'),\n",
       " (12, 'OpenPorchSF'),\n",
       " (13, 'PoolArea')]"
      ]
     },
     "execution_count": 28,
     "metadata": {},
     "output_type": "execute_result"
    }
   ],
   "source": [
    "list(enumerate(size_related))"
   ]
  },
  {
   "cell_type": "code",
   "execution_count": 29,
   "id": "18e8cda8",
   "metadata": {},
   "outputs": [
    {
     "data": {
      "text/plain": [
       "LotFrontage     2580\n",
       "MasVnrArea      2580\n",
       "BsmtFinSF1      2580\n",
       "BsmtFinSF2      2580\n",
       "BsmtUnfSF       2580\n",
       "TotalBsmtSF     2580\n",
       "GarageArea      2580\n",
       "BsmtFullBath       2\n",
       "BsmtHalfBath       2\n",
       "Electrical         1\n",
       "GarageCars         1\n",
       "dtype: int64"
      ]
     },
     "execution_count": 29,
     "metadata": {},
     "output_type": "execute_result"
    }
   ],
   "source": [
    "nas(housePrice)"
   ]
  },
  {
   "cell_type": "code",
   "execution_count": 30,
   "id": "3ce950fc",
   "metadata": {},
   "outputs": [],
   "source": [
    "hp_dict['BsmtHalfBath']\n",
    "housePrice.groupby('BsmtFullBath')['SalePrice'].agg(['count','mean','std'])\n",
    "housePrice[housePrice['BsmtFullBath'].isna()]\n",
    "\n",
    "bath_df = housePrice.filter(regex='Bath$')\n",
    "\n",
    "impute = IterativeImputer(max_iter=100)\n",
    "bath_trans = impute.fit_transform(bath_df)\n",
    "bath_trans = pd.DataFrame(bath_trans)\n",
    "housePrice.BsmtFullBath = bath_trans[0]\n",
    "housePrice.BsmtHalfBath = bath_trans[1]"
   ]
  },
  {
   "cell_type": "code",
   "execution_count": 31,
   "id": "de417b0f",
   "metadata": {},
   "outputs": [
    {
     "data": {
      "text/plain": [
       "[(0, 'BsmtFullBath'), (1, 'BsmtHalfBath'), (2, 'FullBath'), (3, 'HalfBath')]"
      ]
     },
     "execution_count": 31,
     "metadata": {},
     "output_type": "execute_result"
    }
   ],
   "source": [
    "list(enumerate(bath_df))"
   ]
  },
  {
   "cell_type": "code",
   "execution_count": 32,
   "id": "adbd8f5b",
   "metadata": {
    "scrolled": true
   },
   "outputs": [
    {
     "data": {
      "text/plain": [
       "LotFrontage     2580\n",
       "MasVnrArea      2580\n",
       "BsmtFinSF1      2580\n",
       "BsmtFinSF2      2580\n",
       "BsmtUnfSF       2580\n",
       "TotalBsmtSF     2580\n",
       "BsmtFullBath    2580\n",
       "BsmtHalfBath    2580\n",
       "GarageArea      2580\n",
       "Electrical         1\n",
       "GarageCars         1\n",
       "dtype: int64"
      ]
     },
     "execution_count": 32,
     "metadata": {},
     "output_type": "execute_result"
    }
   ],
   "source": [
    "nas(housePrice)"
   ]
  },
  {
   "cell_type": "code",
   "execution_count": 33,
   "id": "4db06d6b",
   "metadata": {},
   "outputs": [],
   "source": [
    "hp_dict['Electrical']\n",
    "housePrice[housePrice['Electrical'].isna()]\n",
    "housePrice.groupby('Electrical')['SalePrice'].agg(['count','mean','std'])\n",
    "housePrice['Electrical'] = housePrice['Electrical'].fillna('SBrkr')"
   ]
  },
  {
   "cell_type": "code",
   "execution_count": 34,
   "id": "8cfd4ace",
   "metadata": {},
   "outputs": [],
   "source": [
    "hp_dict['GarageCars']\n",
    "housePrice[housePrice['GarageCars'].isna()]\n",
    "housePrice.groupby('GarageCars')['SalePrice'].agg(['count','mean','std'])\n",
    "\n",
    "garage = housePrice[['GarageCars', 'GarageArea']]\n",
    "\n",
    "impute = IterativeImputer(max_iter=100)\n",
    "garage_trans = impute.fit_transform(garage)\n",
    "garage_trans = pd.DataFrame(garage_trans)\n",
    "housePrice.GarageCars = garage_trans[0]"
   ]
  },
  {
   "cell_type": "code",
   "execution_count": 35,
   "id": "cf548e95",
   "metadata": {},
   "outputs": [
    {
     "data": {
      "text/plain": [
       "LotFrontage     2580\n",
       "MasVnrArea      2580\n",
       "BsmtFinSF1      2580\n",
       "BsmtFinSF2      2580\n",
       "BsmtUnfSF       2580\n",
       "TotalBsmtSF     2580\n",
       "BsmtFullBath    2580\n",
       "BsmtHalfBath    2580\n",
       "GarageCars      2580\n",
       "GarageArea      2580\n",
       "dtype: int64"
      ]
     },
     "execution_count": 35,
     "metadata": {},
     "output_type": "execute_result"
    }
   ],
   "source": [
    "nas(housePrice)"
   ]
  },
  {
   "cell_type": "code",
   "execution_count": 36,
   "id": "ea861db5",
   "metadata": {},
   "outputs": [],
   "source": [
    "housePrice.to_csv('HousePrice_Clean.csv')"
   ]
  },
  {
   "cell_type": "markdown",
   "id": "966300f4",
   "metadata": {},
   "source": [
    "#### Date Columns"
   ]
  },
  {
   "cell_type": "code",
   "execution_count": 37,
   "id": "45db6b48",
   "metadata": {},
   "outputs": [
    {
     "data": {
      "text/plain": [
       "PID\n",
       "909176150    1939\n",
       "905476230    1984\n",
       "911128020    1930\n",
       "535377150    1940\n",
       "534177230    2001\n",
       "             ... \n",
       "903205040    1916\n",
       "905402060    1955\n",
       "909275030    1949\n",
       "907192040    2000\n",
       "906223180    1993\n",
       "Name: GarageYrBlt, Length: 2580, dtype: int32"
      ]
     },
     "execution_count": 37,
     "metadata": {},
     "output_type": "execute_result"
    }
   ],
   "source": [
    "# DATES - dtypes        ### thoughts about combining columns / datetime?\n",
    "\n",
    "date_ = housePrice.filter(regex='Yr|Mo|Date')\n",
    "date_.isna().sum()\n",
    "\n",
    "housePrice['GarageYrBlt'].dtypes                       \n",
    "housePrice['GarageYrBlt'].astype('int')\n",
    "# pd.to_datetime(housePrice.GarageYrBlt, format = '%Y')"
   ]
  },
  {
   "cell_type": "markdown",
   "id": "c9483525",
   "metadata": {},
   "source": [
    "#### Encoding ordinals and One Hot Encoding for nominals"
   ]
  },
  {
   "cell_type": "code",
   "execution_count": 38,
   "id": "ca1ebce9",
   "metadata": {},
   "outputs": [],
   "source": [
    "housePrice = pd.read_csv('HousePrice_Clean.csv', index_col='PID')"
   ]
  },
  {
   "cell_type": "code",
   "execution_count": 39,
   "id": "f8e3dce7",
   "metadata": {},
   "outputs": [],
   "source": [
    "hp_num = housePrice.select_dtypes(include = [np.number])\n",
    "hp_cat = housePrice.select_dtypes(exclude = [np.number])\n",
    "hp_cat_ord = []\n",
    "hp_cat_nom = []\n",
    "dropped = []"
   ]
  },
  {
   "cell_type": "code",
   "execution_count": 40,
   "id": "46f6468a",
   "metadata": {},
   "outputs": [
    {
     "name": "stdout",
     "output_type": "stream",
     "text": [
      "numeric 37\n",
      "categorical 42\n"
     ]
    }
   ],
   "source": [
    "# how many numeric and categorical values\n",
    "print(\"numeric\", hp_num.shape[1])\n",
    "print(\"categorical\", hp_cat.shape[1])"
   ]
  },
  {
   "cell_type": "code",
   "execution_count": 41,
   "id": "3fc9af44",
   "metadata": {},
   "outputs": [
    {
     "data": {
      "text/plain": [
       "1"
      ]
     },
     "execution_count": 41,
     "metadata": {},
     "output_type": "execute_result"
    }
   ],
   "source": [
    "housePrice.groupby('MSZoning')['SalePrice'].agg(['count','mean','std'])\n",
    "hp_cat_nom.append('MSZoning')\n",
    "len(hp_cat_nom)"
   ]
  },
  {
   "cell_type": "code",
   "execution_count": 42,
   "id": "5cd2cd20",
   "metadata": {},
   "outputs": [
    {
     "data": {
      "text/plain": [
       "['MSZoning', 'Street']"
      ]
     },
     "execution_count": 42,
     "metadata": {},
     "output_type": "execute_result"
    }
   ],
   "source": [
    "housePrice.groupby('Street')['SalePrice'].agg(['count','mean','std'])\n",
    "hp_cat_nom.append('Street')\n",
    "hp_cat_nom"
   ]
  },
  {
   "cell_type": "code",
   "execution_count": 43,
   "id": "ba866105",
   "metadata": {},
   "outputs": [
    {
     "data": {
      "text/plain": [
       "['MSZoning', 'Street', 'Alley']"
      ]
     },
     "execution_count": 43,
     "metadata": {},
     "output_type": "execute_result"
    }
   ],
   "source": [
    "housePrice.groupby('Alley')['SalePrice'].agg(['count','mean','std'])\n",
    "hp_cat_nom.append('Alley')\n",
    "hp_cat_nom"
   ]
  },
  {
   "cell_type": "code",
   "execution_count": 44,
   "id": "557e4d7c",
   "metadata": {},
   "outputs": [
    {
     "data": {
      "text/plain": [
       "['MSZoning', 'Street', 'Alley', 'LotShape']"
      ]
     },
     "execution_count": 44,
     "metadata": {},
     "output_type": "execute_result"
    }
   ],
   "source": [
    "housePrice.groupby('LotShape')['SalePrice'].agg(['count','mean','std'])\n",
    "hp_cat_nom.append('LotShape')\n",
    "hp_cat_nom"
   ]
  },
  {
   "cell_type": "code",
   "execution_count": 45,
   "id": "2c786005",
   "metadata": {},
   "outputs": [
    {
     "data": {
      "text/plain": [
       "['MSZoning', 'Street', 'Alley', 'LotShape', 'LandContour']"
      ]
     },
     "execution_count": 45,
     "metadata": {},
     "output_type": "execute_result"
    }
   ],
   "source": [
    "housePrice.groupby('LandContour')['SalePrice'].agg(['count','mean','std'])\n",
    "hp_cat_nom.append('LandContour')\n",
    "hp_cat_nom"
   ]
  },
  {
   "cell_type": "code",
   "execution_count": 46,
   "id": "c51d6e89",
   "metadata": {},
   "outputs": [
    {
     "data": {
      "text/plain": [
       "['MSZoning', 'Street', 'Alley', 'LotShape', 'LandContour', 'Utilities']"
      ]
     },
     "execution_count": 46,
     "metadata": {},
     "output_type": "execute_result"
    }
   ],
   "source": [
    "housePrice.groupby('Utilities')['SalePrice'].agg(['count','mean','std'])\n",
    "hp_cat_nom.append('Utilities')\n",
    "hp_cat_nom"
   ]
  },
  {
   "cell_type": "code",
   "execution_count": 47,
   "id": "d24e7522",
   "metadata": {},
   "outputs": [
    {
     "data": {
      "text/plain": [
       "['MSZoning',\n",
       " 'Street',\n",
       " 'Alley',\n",
       " 'LotShape',\n",
       " 'LandContour',\n",
       " 'Utilities',\n",
       " 'LotConfig']"
      ]
     },
     "execution_count": 47,
     "metadata": {},
     "output_type": "execute_result"
    }
   ],
   "source": [
    "housePrice.groupby('LotConfig')['SalePrice'].agg(['count','mean','std'])\n",
    "hp_cat_nom.append('LotConfig')\n",
    "hp_cat_nom"
   ]
  },
  {
   "cell_type": "code",
   "execution_count": 48,
   "id": "4d1d5c9c",
   "metadata": {},
   "outputs": [
    {
     "data": {
      "text/plain": [
       "['LandSlope']"
      ]
     },
     "execution_count": 48,
     "metadata": {},
     "output_type": "execute_result"
    }
   ],
   "source": [
    "housePrice.groupby('LandSlope')['SalePrice'].agg(['count','mean','std'])  # ordinal --> create scale map dict \n",
    "hp_cat_ord.append('LandSlope')\n",
    "scale = {\"Gtl\":1, \"Mod\":2, \"Sev\":3}\n",
    "housePrice['LandSlope_Enc'] = housePrice['LandSlope'].replace(scale)\n",
    "housePrice = housePrice.drop(columns='LandSlope')\n",
    "hp_cat_ord"
   ]
  },
  {
   "cell_type": "code",
   "execution_count": 49,
   "id": "d2448d68",
   "metadata": {},
   "outputs": [
    {
     "data": {
      "text/plain": [
       "['MSZoning',\n",
       " 'Street',\n",
       " 'Alley',\n",
       " 'LotShape',\n",
       " 'LandContour',\n",
       " 'Utilities',\n",
       " 'LotConfig',\n",
       " 'Neighborhood']"
      ]
     },
     "execution_count": 49,
     "metadata": {},
     "output_type": "execute_result"
    }
   ],
   "source": [
    "housePrice.groupby('Neighborhood')['SalePrice'].agg(['count','mean','std'])\n",
    "hp_cat_nom.append('Neighborhood')\n",
    "hp_cat_nom"
   ]
  },
  {
   "cell_type": "code",
   "execution_count": 50,
   "id": "438d9200",
   "metadata": {},
   "outputs": [
    {
     "data": {
      "text/plain": [
       "['MSZoning',\n",
       " 'Street',\n",
       " 'Alley',\n",
       " 'LotShape',\n",
       " 'LandContour',\n",
       " 'Utilities',\n",
       " 'LotConfig',\n",
       " 'Neighborhood',\n",
       " 'Condition1']"
      ]
     },
     "execution_count": 50,
     "metadata": {},
     "output_type": "execute_result"
    }
   ],
   "source": [
    "housePrice.groupby('Condition1')['SalePrice'].agg(['count','mean','std'])\n",
    "hp_cat_nom.append('Condition1')\n",
    "hp_cat_nom"
   ]
  },
  {
   "cell_type": "code",
   "execution_count": 51,
   "id": "8f8fa073",
   "metadata": {},
   "outputs": [
    {
     "data": {
      "text/plain": [
       "['MSZoning',\n",
       " 'Street',\n",
       " 'Alley',\n",
       " 'LotShape',\n",
       " 'LandContour',\n",
       " 'Utilities',\n",
       " 'LotConfig',\n",
       " 'Neighborhood',\n",
       " 'Condition1',\n",
       " 'Condition2']"
      ]
     },
     "execution_count": 51,
     "metadata": {},
     "output_type": "execute_result"
    }
   ],
   "source": [
    "housePrice.groupby('Condition2')['SalePrice'].agg(['count','mean','std'])\n",
    "hp_cat_nom.append('Condition2')\n",
    "hp_cat_nom"
   ]
  },
  {
   "cell_type": "code",
   "execution_count": 52,
   "id": "62989360",
   "metadata": {},
   "outputs": [
    {
     "data": {
      "text/plain": [
       "['MSZoning',\n",
       " 'Street',\n",
       " 'Alley',\n",
       " 'LotShape',\n",
       " 'LandContour',\n",
       " 'Utilities',\n",
       " 'LotConfig',\n",
       " 'Neighborhood',\n",
       " 'Condition1',\n",
       " 'Condition2',\n",
       " 'BldgType']"
      ]
     },
     "execution_count": 52,
     "metadata": {},
     "output_type": "execute_result"
    }
   ],
   "source": [
    "housePrice.groupby('BldgType')['SalePrice'].agg(['count','mean','std'])\n",
    "hp_cat_nom.append('BldgType')\n",
    "hp_cat_nom"
   ]
  },
  {
   "cell_type": "code",
   "execution_count": 53,
   "id": "3e888746",
   "metadata": {},
   "outputs": [
    {
     "data": {
      "text/plain": [
       "['MSZoning',\n",
       " 'Street',\n",
       " 'Alley',\n",
       " 'LotShape',\n",
       " 'LandContour',\n",
       " 'Utilities',\n",
       " 'LotConfig',\n",
       " 'Neighborhood',\n",
       " 'Condition1',\n",
       " 'Condition2',\n",
       " 'BldgType',\n",
       " 'HouseStyle']"
      ]
     },
     "execution_count": 53,
     "metadata": {},
     "output_type": "execute_result"
    }
   ],
   "source": [
    "housePrice.groupby('HouseStyle')['SalePrice'].agg(['count','mean','std'])\n",
    "hp_cat_nom.append('HouseStyle')\n",
    "hp_cat_nom"
   ]
  },
  {
   "cell_type": "code",
   "execution_count": 54,
   "id": "63037603",
   "metadata": {},
   "outputs": [
    {
     "data": {
      "text/plain": [
       "['MSZoning',\n",
       " 'Street',\n",
       " 'Alley',\n",
       " 'LotShape',\n",
       " 'LandContour',\n",
       " 'Utilities',\n",
       " 'LotConfig',\n",
       " 'Neighborhood',\n",
       " 'Condition1',\n",
       " 'Condition2',\n",
       " 'BldgType',\n",
       " 'HouseStyle',\n",
       " 'RoofStyle']"
      ]
     },
     "execution_count": 54,
     "metadata": {},
     "output_type": "execute_result"
    }
   ],
   "source": [
    "housePrice.groupby('RoofStyle')['SalePrice'].agg(['count','mean','std'])\n",
    "hp_cat_nom.append('RoofStyle')\n",
    "hp_cat_nom"
   ]
  },
  {
   "cell_type": "code",
   "execution_count": 55,
   "id": "89ac46ec",
   "metadata": {},
   "outputs": [
    {
     "data": {
      "text/plain": [
       "['MSZoning',\n",
       " 'Street',\n",
       " 'Alley',\n",
       " 'LotShape',\n",
       " 'LandContour',\n",
       " 'Utilities',\n",
       " 'LotConfig',\n",
       " 'Neighborhood',\n",
       " 'Condition1',\n",
       " 'Condition2',\n",
       " 'BldgType',\n",
       " 'HouseStyle',\n",
       " 'RoofStyle',\n",
       " 'RoofMatl']"
      ]
     },
     "execution_count": 55,
     "metadata": {},
     "output_type": "execute_result"
    }
   ],
   "source": [
    "housePrice.groupby('RoofMatl')['SalePrice'].agg(['count','mean','std'])\n",
    "hp_cat_nom.append('RoofMatl')\n",
    "hp_cat_nom"
   ]
  },
  {
   "cell_type": "code",
   "execution_count": 56,
   "id": "79a7dd41",
   "metadata": {},
   "outputs": [
    {
     "data": {
      "text/plain": [
       "['MSZoning',\n",
       " 'Street',\n",
       " 'Alley',\n",
       " 'LotShape',\n",
       " 'LandContour',\n",
       " 'Utilities',\n",
       " 'LotConfig',\n",
       " 'Neighborhood',\n",
       " 'Condition1',\n",
       " 'Condition2',\n",
       " 'BldgType',\n",
       " 'HouseStyle',\n",
       " 'RoofStyle',\n",
       " 'RoofMatl',\n",
       " 'Exterior1st']"
      ]
     },
     "execution_count": 56,
     "metadata": {},
     "output_type": "execute_result"
    }
   ],
   "source": [
    "housePrice.groupby('Exterior1st')['SalePrice'].agg(['count','mean','std'])\n",
    "hp_cat_nom.append('Exterior1st')\n",
    "hp_cat_nom"
   ]
  },
  {
   "cell_type": "code",
   "execution_count": 57,
   "id": "63063aab",
   "metadata": {},
   "outputs": [
    {
     "data": {
      "text/plain": [
       "['MSZoning',\n",
       " 'Street',\n",
       " 'Alley',\n",
       " 'LotShape',\n",
       " 'LandContour',\n",
       " 'Utilities',\n",
       " 'LotConfig',\n",
       " 'Neighborhood',\n",
       " 'Condition1',\n",
       " 'Condition2',\n",
       " 'BldgType',\n",
       " 'HouseStyle',\n",
       " 'RoofStyle',\n",
       " 'RoofMatl',\n",
       " 'Exterior1st',\n",
       " 'Exterior2nd']"
      ]
     },
     "execution_count": 57,
     "metadata": {},
     "output_type": "execute_result"
    }
   ],
   "source": [
    "housePrice.groupby('Exterior2nd')['SalePrice'].agg(['count','mean','std'])\n",
    "hp_cat_nom.append('Exterior2nd')\n",
    "hp_cat_nom"
   ]
  },
  {
   "cell_type": "code",
   "execution_count": 58,
   "id": "f68a72fd",
   "metadata": {},
   "outputs": [
    {
     "data": {
      "text/plain": [
       "['MSZoning',\n",
       " 'Street',\n",
       " 'Alley',\n",
       " 'LotShape',\n",
       " 'LandContour',\n",
       " 'Utilities',\n",
       " 'LotConfig',\n",
       " 'Neighborhood',\n",
       " 'Condition1',\n",
       " 'Condition2',\n",
       " 'BldgType',\n",
       " 'HouseStyle',\n",
       " 'RoofStyle',\n",
       " 'RoofMatl',\n",
       " 'Exterior1st',\n",
       " 'Exterior2nd',\n",
       " 'MasVnrType']"
      ]
     },
     "execution_count": 58,
     "metadata": {},
     "output_type": "execute_result"
    }
   ],
   "source": [
    "housePrice.groupby('MasVnrType')['SalePrice'].agg(['count','mean','std'])\n",
    "hp_cat_nom.append('MasVnrType')\n",
    "hp_cat_nom"
   ]
  },
  {
   "cell_type": "code",
   "execution_count": 59,
   "id": "938b9b43",
   "metadata": {},
   "outputs": [
    {
     "data": {
      "text/plain": [
       "['LandSlope', 'ExterQual']"
      ]
     },
     "execution_count": 59,
     "metadata": {},
     "output_type": "execute_result"
    }
   ],
   "source": [
    "housePrice.groupby('ExterQual')['SalePrice'].agg(['count','mean','std'])\n",
    "hp_cat_ord.append('ExterQual')\n",
    "scale = {\"none\":0, \"TA\":1, \"Po\": 2, \"Fa\":3, \"Gd\":4, \"Ex\":5}\n",
    "housePrice['ExterQual_Enc'] = housePrice['ExterQual'].replace(scale)\n",
    "housePrice = housePrice.drop(columns='ExterQual')\n",
    "hp_cat_ord"
   ]
  },
  {
   "cell_type": "code",
   "execution_count": 60,
   "id": "8ca51f65",
   "metadata": {},
   "outputs": [
    {
     "data": {
      "text/plain": [
       "['LandSlope', 'ExterQual', 'ExterCond']"
      ]
     },
     "execution_count": 60,
     "metadata": {},
     "output_type": "execute_result"
    }
   ],
   "source": [
    "housePrice.groupby('ExterCond')['SalePrice'].agg(['count','mean','std'])\n",
    "hp_cat_ord.append('ExterCond')\n",
    "scale = {\"none\":0, \"TA\":1, \"Po\": 2, \"Fa\":3, \"Gd\":4, \"Ex\":5}\n",
    "housePrice['ExterCond_Enc'] = housePrice['ExterCond'].replace(scale)\n",
    "housePrice = housePrice.drop(columns='ExterCond')\n",
    "hp_cat_ord"
   ]
  },
  {
   "cell_type": "code",
   "execution_count": 61,
   "id": "01f85688",
   "metadata": {},
   "outputs": [
    {
     "data": {
      "text/plain": [
       "['MSZoning',\n",
       " 'Street',\n",
       " 'Alley',\n",
       " 'LotShape',\n",
       " 'LandContour',\n",
       " 'Utilities',\n",
       " 'LotConfig',\n",
       " 'Neighborhood',\n",
       " 'Condition1',\n",
       " 'Condition2',\n",
       " 'BldgType',\n",
       " 'HouseStyle',\n",
       " 'RoofStyle',\n",
       " 'RoofMatl',\n",
       " 'Exterior1st',\n",
       " 'Exterior2nd',\n",
       " 'MasVnrType',\n",
       " 'Foundation']"
      ]
     },
     "execution_count": 61,
     "metadata": {},
     "output_type": "execute_result"
    }
   ],
   "source": [
    "housePrice.groupby('Foundation')['SalePrice'].agg(['count','mean','std'])\n",
    "hp_cat_nom.append('Foundation')\n",
    "hp_cat_nom"
   ]
  },
  {
   "cell_type": "code",
   "execution_count": 62,
   "id": "2420f586",
   "metadata": {},
   "outputs": [
    {
     "data": {
      "text/plain": [
       "['LandSlope', 'ExterQual', 'ExterCond', 'BsmtQual']"
      ]
     },
     "execution_count": 62,
     "metadata": {},
     "output_type": "execute_result"
    }
   ],
   "source": [
    "housePrice.groupby('BsmtQual')['SalePrice'].agg(['count','mean','std'])\n",
    "hp_cat_ord.append('BsmtQual')\n",
    "scale = {\"none\":0, \"TA\":1, \"Po\": 2, \"Fa\":3, \"Gd\":4, \"Ex\":5}\n",
    "housePrice['BsmtQual_Enc'] = housePrice['BsmtQual'].replace(scale)\n",
    "housePrice = housePrice.drop(columns='BsmtQual')\n",
    "hp_cat_ord"
   ]
  },
  {
   "cell_type": "code",
   "execution_count": 63,
   "id": "ddcd5141",
   "metadata": {},
   "outputs": [
    {
     "data": {
      "text/plain": [
       "['LandSlope', 'ExterQual', 'ExterCond', 'BsmtQual', 'BsmtCond']"
      ]
     },
     "execution_count": 63,
     "metadata": {},
     "output_type": "execute_result"
    }
   ],
   "source": [
    "housePrice.groupby('BsmtCond')['SalePrice'].agg(['count','mean','std'])\n",
    "hp_cat_ord.append('BsmtCond')\n",
    "scale = {\"none\":0, \"TA\":1, \"Po\": 2, \"Fa\":3, \"Gd\":4, \"Ex\":5}\n",
    "housePrice['BsmtCond_Enc'] = housePrice['BsmtCond'].replace(scale)\n",
    "housePrice = housePrice.drop(columns='BsmtCond')\n",
    "hp_cat_ord"
   ]
  },
  {
   "cell_type": "code",
   "execution_count": 64,
   "id": "1c42c8da",
   "metadata": {},
   "outputs": [
    {
     "data": {
      "text/plain": [
       "6"
      ]
     },
     "execution_count": 64,
     "metadata": {},
     "output_type": "execute_result"
    }
   ],
   "source": [
    "housePrice.groupby('BsmtExposure')['SalePrice'].agg(['count','mean','std'])\n",
    "hp_cat_ord.append('BsmtExposure')\n",
    "scale = {\"none\":0, \"No\":1, \"Mn\": 2, \"Av\":3, \"Gd\":4, \"Ex\":5}\n",
    "housePrice['BsmtExposure_Enc'] = housePrice['BsmtExposure'].replace(scale)\n",
    "housePrice = housePrice.drop(columns='BsmtExposure')\n",
    "len(hp_cat_ord)"
   ]
  },
  {
   "cell_type": "code",
   "execution_count": 65,
   "id": "7e6f5925",
   "metadata": {},
   "outputs": [
    {
     "data": {
      "text/plain": [
       "7"
      ]
     },
     "execution_count": 65,
     "metadata": {},
     "output_type": "execute_result"
    }
   ],
   "source": [
    "housePrice.groupby('BsmtFinType1')['SalePrice'].agg(['count','mean','std'])\n",
    "hp_cat_ord.append('BsmtFinType1')\n",
    "scale = {\"none\":0, \"Unf\":1, \"LwQ\": 2, \"Rec\":3, \"BLQ\":4, \"ALQ\":5, \"GLQ\":6}\n",
    "housePrice['BsmtFinType1_Enc'] = housePrice['BsmtFinType1'].replace(scale)\n",
    "housePrice = housePrice.drop(columns='BsmtFinType1')\n",
    "len(hp_cat_ord)"
   ]
  },
  {
   "cell_type": "code",
   "execution_count": 66,
   "id": "6db4c6b7",
   "metadata": {},
   "outputs": [
    {
     "data": {
      "text/plain": [
       "['LandSlope',\n",
       " 'ExterQual',\n",
       " 'ExterCond',\n",
       " 'BsmtQual',\n",
       " 'BsmtCond',\n",
       " 'BsmtExposure',\n",
       " 'BsmtFinType1',\n",
       " 'BsmtFinType2']"
      ]
     },
     "execution_count": 66,
     "metadata": {},
     "output_type": "execute_result"
    }
   ],
   "source": [
    "housePrice.groupby('BsmtFinType2')['SalePrice'].agg(['count','mean','std'])\n",
    "hp_cat_ord.append('BsmtFinType2')\n",
    "scale = {\"none\":0, \"Unf\":1, \"LwQ\": 2, \"Rec\":3, \"BLQ\":4, \"ALQ\":5, \"GLQ\":6}\n",
    "housePrice['BsmtFinType2_Enc'] = housePrice['BsmtFinType2'].replace(scale)\n",
    "housePrice = housePrice.drop(columns='BsmtFinType2')\n",
    "hp_cat_ord"
   ]
  },
  {
   "cell_type": "code",
   "execution_count": 67,
   "id": "11d1f471",
   "metadata": {},
   "outputs": [
    {
     "data": {
      "text/plain": [
       "19"
      ]
     },
     "execution_count": 67,
     "metadata": {},
     "output_type": "execute_result"
    }
   ],
   "source": [
    "housePrice.groupby('Heating')['SalePrice'].agg(['count','mean','std'])\n",
    "hp_cat_nom.append('Heating')\n",
    "len(hp_cat_nom)"
   ]
  },
  {
   "cell_type": "code",
   "execution_count": 68,
   "id": "e8eeea67",
   "metadata": {},
   "outputs": [
    {
     "data": {
      "text/plain": [
       "['LandSlope',\n",
       " 'ExterQual',\n",
       " 'ExterCond',\n",
       " 'BsmtQual',\n",
       " 'BsmtCond',\n",
       " 'BsmtExposure',\n",
       " 'BsmtFinType1',\n",
       " 'BsmtFinType2',\n",
       " 'HeatingQC']"
      ]
     },
     "execution_count": 68,
     "metadata": {},
     "output_type": "execute_result"
    }
   ],
   "source": [
    "housePrice.groupby('HeatingQC')['SalePrice'].agg(['count','mean','std'])\n",
    "hp_cat_ord.append('HeatingQC')\n",
    "scale = {\"none\":0, \"TA\":1, \"Po\": 2, \"Fa\":3, \"Gd\":4, \"Ex\":5}\n",
    "housePrice['HeatingQC_Enc'] = housePrice['HeatingQC'].replace(scale)\n",
    "housePrice = housePrice.drop(columns='HeatingQC')\n",
    "hp_cat_ord"
   ]
  },
  {
   "cell_type": "code",
   "execution_count": 69,
   "id": "f7ca8008",
   "metadata": {},
   "outputs": [
    {
     "data": {
      "text/plain": [
       "20"
      ]
     },
     "execution_count": 69,
     "metadata": {},
     "output_type": "execute_result"
    }
   ],
   "source": [
    "housePrice.groupby('CentralAir')['SalePrice'].agg(['count','mean','std'])\n",
    "hp_cat_nom.append('CentralAir')\n",
    "len(hp_cat_nom)"
   ]
  },
  {
   "cell_type": "code",
   "execution_count": 70,
   "id": "74c92d35",
   "metadata": {},
   "outputs": [
    {
     "data": {
      "text/plain": [
       "21"
      ]
     },
     "execution_count": 70,
     "metadata": {},
     "output_type": "execute_result"
    }
   ],
   "source": [
    "housePrice.groupby('Electrical')['SalePrice'].agg(['count','mean','std'])\n",
    "hp_cat_nom.append('Electrical')\n",
    "len(hp_cat_nom)"
   ]
  },
  {
   "cell_type": "code",
   "execution_count": 71,
   "id": "96f7fd1f",
   "metadata": {},
   "outputs": [
    {
     "data": {
      "text/plain": [
       "['LandSlope',\n",
       " 'ExterQual',\n",
       " 'ExterCond',\n",
       " 'BsmtQual',\n",
       " 'BsmtCond',\n",
       " 'BsmtExposure',\n",
       " 'BsmtFinType1',\n",
       " 'BsmtFinType2',\n",
       " 'HeatingQC',\n",
       " 'KitchenQual']"
      ]
     },
     "execution_count": 71,
     "metadata": {},
     "output_type": "execute_result"
    }
   ],
   "source": [
    "housePrice.groupby('KitchenQual')['SalePrice'].agg(['count','mean','std'])\n",
    "hp_cat_ord.append('KitchenQual')\n",
    "scale = {\"none\":0, \"TA\":1, \"Po\": 2, \"Fa\":3, \"Gd\":4, \"Ex\":5}\n",
    "housePrice['KitchenQual_Enc'] = housePrice['KitchenQual'].replace(scale)\n",
    "housePrice = housePrice.drop(columns='KitchenQual')\n",
    "hp_cat_ord"
   ]
  },
  {
   "cell_type": "code",
   "execution_count": 72,
   "id": "59493179",
   "metadata": {},
   "outputs": [
    {
     "data": {
      "text/plain": [
       "['LandSlope',\n",
       " 'ExterQual',\n",
       " 'ExterCond',\n",
       " 'BsmtQual',\n",
       " 'BsmtCond',\n",
       " 'BsmtExposure',\n",
       " 'BsmtFinType1',\n",
       " 'BsmtFinType2',\n",
       " 'HeatingQC',\n",
       " 'KitchenQual',\n",
       " 'Functional']"
      ]
     },
     "execution_count": 72,
     "metadata": {},
     "output_type": "execute_result"
    }
   ],
   "source": [
    "housePrice.groupby('Functional')['SalePrice'].agg(['count','mean','std'])\n",
    "hp_cat_ord.append('Functional')\n",
    "scale = {\"Typ\":0, \"Min1\":1, \"Min2\": 2, \"Mod\":3, \"Maj1\":4, \"Maj2\":5, \"Sal\":6}\n",
    "housePrice['Functional_Enc'] = housePrice['Functional'].replace(scale)\n",
    "housePrice = housePrice.drop(columns='Functional')\n",
    "hp_cat_ord"
   ]
  },
  {
   "cell_type": "code",
   "execution_count": 73,
   "id": "0080afd5",
   "metadata": {},
   "outputs": [
    {
     "data": {
      "text/plain": [
       "['LandSlope',\n",
       " 'ExterQual',\n",
       " 'ExterCond',\n",
       " 'BsmtQual',\n",
       " 'BsmtCond',\n",
       " 'BsmtExposure',\n",
       " 'BsmtFinType1',\n",
       " 'BsmtFinType2',\n",
       " 'HeatingQC',\n",
       " 'KitchenQual',\n",
       " 'Functional',\n",
       " 'FireplaceQu']"
      ]
     },
     "execution_count": 73,
     "metadata": {},
     "output_type": "execute_result"
    }
   ],
   "source": [
    "housePrice.groupby('FireplaceQu')['SalePrice'].agg(['count','mean','std'])\n",
    "hp_cat_ord.append('FireplaceQu')\n",
    "scale = {\"none\":0, \"TA\":1, \"Po\": 2, \"Fa\":3, \"Gd\":4, \"Ex\":5}\n",
    "housePrice['FireplaceQu_Enc'] = housePrice['FireplaceQu'].replace(scale)\n",
    "housePrice = housePrice.drop(columns='FireplaceQu')\n",
    "hp_cat_ord"
   ]
  },
  {
   "cell_type": "code",
   "execution_count": 74,
   "id": "050cd304",
   "metadata": {},
   "outputs": [
    {
     "data": {
      "text/plain": [
       "22"
      ]
     },
     "execution_count": 74,
     "metadata": {},
     "output_type": "execute_result"
    }
   ],
   "source": [
    "housePrice.groupby('GarageType')['SalePrice'].agg(['count','mean','std'])\n",
    "hp_cat_nom.append('GarageType')\n",
    "len(hp_cat_nom)"
   ]
  },
  {
   "cell_type": "code",
   "execution_count": 75,
   "id": "b5a5df16",
   "metadata": {},
   "outputs": [
    {
     "data": {
      "text/plain": [
       "13"
      ]
     },
     "execution_count": 75,
     "metadata": {},
     "output_type": "execute_result"
    }
   ],
   "source": [
    "housePrice.groupby('GarageFinish')['SalePrice'].agg(['count','mean','std'])\n",
    "hp_cat_ord.append('GarageFinish')\n",
    "scale = {\"none\":0, \"Unf\":1, \"RFn\": 2, \"Fin\":3}\n",
    "housePrice['GarageFinish_Enc'] = housePrice['GarageFinish'].replace(scale)\n",
    "housePrice = housePrice.drop(columns='GarageFinish')\n",
    "len(hp_cat_ord)"
   ]
  },
  {
   "cell_type": "code",
   "execution_count": 76,
   "id": "959e3c18",
   "metadata": {},
   "outputs": [
    {
     "data": {
      "text/plain": [
       "14"
      ]
     },
     "execution_count": 76,
     "metadata": {},
     "output_type": "execute_result"
    }
   ],
   "source": [
    "housePrice.groupby('GarageQual')['SalePrice'].agg(['count','mean','std'])\n",
    "hp_cat_ord.append('GarageQual')\n",
    "scale = {\"none\":0, \"TA\":1, \"Po\": 2, \"Fa\":3, \"Gd\":4, \"Ex\":5}\n",
    "housePrice['GarageQual_Enc'] = housePrice['GarageQual'].replace(scale)\n",
    "housePrice = housePrice.drop(columns='GarageQual')\n",
    "len(hp_cat_ord)"
   ]
  },
  {
   "cell_type": "code",
   "execution_count": 77,
   "id": "363bac3b",
   "metadata": {},
   "outputs": [
    {
     "data": {
      "text/plain": [
       "15"
      ]
     },
     "execution_count": 77,
     "metadata": {},
     "output_type": "execute_result"
    }
   ],
   "source": [
    "housePrice.groupby('GarageCond')['SalePrice'].agg(['count','mean','std'])\n",
    "hp_cat_ord.append('GarageCond')\n",
    "scale = {\"none\":0, \"TA\":1, \"Po\": 2, \"Fa\":3, \"Gd\":4, \"Ex\":5}\n",
    "housePrice['GarageCond_Enc'] = housePrice['GarageCond'].replace(scale)\n",
    "housePrice = housePrice.drop(columns='GarageCond')\n",
    "len(hp_cat_ord)"
   ]
  },
  {
   "cell_type": "code",
   "execution_count": 78,
   "id": "7231ad43",
   "metadata": {},
   "outputs": [
    {
     "data": {
      "text/plain": [
       "16"
      ]
     },
     "execution_count": 78,
     "metadata": {},
     "output_type": "execute_result"
    }
   ],
   "source": [
    "housePrice.groupby('PavedDrive')['SalePrice'].agg(['count','mean','std'])\n",
    "hp_cat_ord.append('PavedDrive')\n",
    "scale = {\"N\":0, \"P\":1, \"Y\": 2}\n",
    "housePrice['PavedDrive_Enc'] = housePrice['PavedDrive'].replace(scale)\n",
    "housePrice = housePrice.drop(columns='PavedDrive')\n",
    "len(hp_cat_ord)"
   ]
  },
  {
   "cell_type": "code",
   "execution_count": 79,
   "id": "2b71422a",
   "metadata": {},
   "outputs": [
    {
     "data": {
      "text/plain": [
       "17"
      ]
     },
     "execution_count": 79,
     "metadata": {},
     "output_type": "execute_result"
    }
   ],
   "source": [
    "housePrice.groupby('PoolQC')['SalePrice'].agg(['count','mean','std'])\n",
    "hp_cat_ord.append('PoolQC')\n",
    "scale = {\"none\":0, \"TA\":1, \"Po\": 2, \"Fa\":3, \"Gd\":4, \"Ex\":5}\n",
    "housePrice['PoolQC_Enc'] = housePrice['PoolQC'].replace(scale)\n",
    "housePrice = housePrice.drop(columns='PoolQC')\n",
    "len(hp_cat_ord)"
   ]
  },
  {
   "cell_type": "code",
   "execution_count": 80,
   "id": "e7ede01a",
   "metadata": {},
   "outputs": [],
   "source": [
    "housePrice.groupby('Fence')['SalePrice'].agg(['count','mean','std'])   ### measuring two completely different things\n",
    "dropped.append('Fence')\n",
    "housePrice = housePrice.drop(columns='Fence')                                           ## DROP"
   ]
  },
  {
   "cell_type": "code",
   "execution_count": 81,
   "id": "eccb48d1",
   "metadata": {},
   "outputs": [
    {
     "data": {
      "text/plain": [
       "23"
      ]
     },
     "execution_count": 81,
     "metadata": {},
     "output_type": "execute_result"
    }
   ],
   "source": [
    "housePrice.groupby('SaleType')['SalePrice'].agg(['count','mean','std'])\n",
    "hp_cat_nom.append('SaleType')\n",
    "len(hp_cat_nom)"
   ]
  },
  {
   "cell_type": "code",
   "execution_count": 82,
   "id": "a537c9ae",
   "metadata": {},
   "outputs": [
    {
     "data": {
      "text/plain": [
       "24"
      ]
     },
     "execution_count": 82,
     "metadata": {},
     "output_type": "execute_result"
    }
   ],
   "source": [
    "housePrice.groupby('SaleCondition')['SalePrice'].agg(['count','mean','std'])\n",
    "hp_cat_nom.append('SaleCondition')\n",
    "len(hp_cat_nom)"
   ]
  },
  {
   "cell_type": "code",
   "execution_count": 83,
   "id": "e9e459fc",
   "metadata": {},
   "outputs": [
    {
     "name": "stdout",
     "output_type": "stream",
     "text": [
      "ordinal 17\n",
      "nominal 24\n",
      "categorical total 42\n"
     ]
    }
   ],
   "source": [
    "# see if ordinal/nominal add up\n",
    "print(\"ordinal\", len(hp_cat_ord))\n",
    "print(\"nominal\", len(hp_cat_nom))\n",
    "print(\"categorical total\", hp_cat.shape[1])"
   ]
  },
  {
   "cell_type": "code",
   "execution_count": 84,
   "id": "1bfd1cc0",
   "metadata": {},
   "outputs": [
    {
     "data": {
      "text/plain": [
       "Index(['MSZoning', 'Street', 'Alley', 'LotShape', 'LandContour', 'Utilities',\n",
       "       'LotConfig', 'LandSlope', 'Neighborhood', 'Condition1', 'Condition2',\n",
       "       'BldgType', 'HouseStyle', 'RoofStyle', 'RoofMatl', 'Exterior1st',\n",
       "       'Exterior2nd', 'MasVnrType', 'ExterQual', 'ExterCond', 'Foundation',\n",
       "       'BsmtQual', 'BsmtCond', 'BsmtExposure', 'BsmtFinType1', 'BsmtFinType2',\n",
       "       'Heating', 'HeatingQC', 'CentralAir', 'Electrical', 'KitchenQual',\n",
       "       'Functional', 'FireplaceQu', 'GarageType', 'GarageFinish', 'GarageQual',\n",
       "       'GarageCond', 'PavedDrive', 'PoolQC', 'Fence', 'SaleType',\n",
       "       'SaleCondition'],\n",
       "      dtype='object')"
      ]
     },
     "execution_count": 84,
     "metadata": {},
     "output_type": "execute_result"
    }
   ],
   "source": [
    "hp_cat.columns"
   ]
  },
  {
   "cell_type": "markdown",
   "id": "f16c57e6",
   "metadata": {},
   "source": [
    "#### OneHot Encoding for nominals"
   ]
  },
  {
   "cell_type": "code",
   "execution_count": 85,
   "id": "0d26e19b",
   "metadata": {},
   "outputs": [
    {
     "name": "stdout",
     "output_type": "stream",
     "text": [
      "numberfied: 54\n",
      "to OneHot: 24\n"
     ]
    }
   ],
   "source": [
    "hp_num2 = housePrice.select_dtypes(include = [np.number])\n",
    "hp_cat2 = housePrice.select_dtypes(exclude = [np.number])\n",
    "print(\"numberfied:\", hp_num2.shape[1])\n",
    "print(\"to OneHot:\", hp_cat2.shape[1])"
   ]
  },
  {
   "cell_type": "code",
   "execution_count": 86,
   "id": "3ad58eaa",
   "metadata": {},
   "outputs": [],
   "source": [
    "housePrice = pd.get_dummies(housePrice, columns=hp_cat_nom, drop_first=True)"
   ]
  },
  {
   "cell_type": "code",
   "execution_count": 87,
   "id": "f88dcb9b",
   "metadata": {},
   "outputs": [],
   "source": [
    "housePrice.to_csv('HousePrice_Encoded.csv')"
   ]
  },
  {
   "cell_type": "code",
   "execution_count": null,
   "id": "8bd0f67d-5e0d-4d10-93f9-851cebc84b32",
   "metadata": {},
   "outputs": [],
   "source": []
  },
  {
   "cell_type": "code",
   "execution_count": null,
   "id": "09fa38d7-fe1c-4f79-b6f9-28fa0480edf6",
   "metadata": {},
   "outputs": [],
   "source": []
  }
 ],
 "metadata": {
  "kernelspec": {
   "display_name": "Python 3",
   "language": "python",
   "name": "python3"
  },
  "language_info": {
   "codemirror_mode": {
    "name": "ipython",
    "version": 3
   },
   "file_extension": ".py",
   "mimetype": "text/x-python",
   "name": "python",
   "nbconvert_exporter": "python",
   "pygments_lexer": "ipython3",
   "version": "3.8.8"
  }
 },
 "nbformat": 4,
 "nbformat_minor": 5
}
