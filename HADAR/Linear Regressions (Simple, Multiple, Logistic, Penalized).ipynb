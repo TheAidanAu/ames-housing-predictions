{
 "cells": [
  {
   "cell_type": "markdown",
   "id": "b9f97150",
   "metadata": {},
   "source": [
    "# Linear Regressions\n",
    "### Simple, Multiple, Logistic, Penalized\n",
    "\n",
    "**Purpose:** Testing out methods from class with this. Data needs to be cleaned thoroughly before these calculations can be made real use of.\n",
    "\n"
   ]
  },
  {
   "cell_type": "code",
   "execution_count": null,
   "id": "11ee9409",
   "metadata": {},
   "outputs": [],
   "source": [
    "import numpy as np\n",
    "import pandas as pd\n",
    "import matplotlib.pyplot as plt\n",
    "% matplotlib inline \n",
    "plt.style.use('ggplot')\n",
    "from scipy import stats\n",
    "from sklearn.linear_model import LinearRegression, HuberRegressor\n",
    "from sklearn.featureselection import f_regression\n"
   ]
  }
 ],
 "metadata": {
  "kernelspec": {
   "display_name": "Python 3",
   "language": "python",
   "name": "python3"
  },
  "language_info": {
   "codemirror_mode": {
    "name": "ipython",
    "version": 3
   },
   "file_extension": ".py",
   "mimetype": "text/x-python",
   "name": "python",
   "nbconvert_exporter": "python",
   "pygments_lexer": "ipython3",
   "version": "3.8.8"
  }
 },
 "nbformat": 4,
 "nbformat_minor": 5
}
