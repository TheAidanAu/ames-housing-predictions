{
 "cells": [
  {
   "cell_type": "code",
   "execution_count": 1,
   "id": "2db21529",
   "metadata": {},
   "outputs": [],
   "source": [
    "import numpy as np\n",
    "import pandas as pd\n",
    "import matplotlib.pyplot as plt\n",
    "%matplotlib inline\n",
    "from scipy import stats"
   ]
  },
  {
   "cell_type": "code",
   "execution_count": 4,
   "id": "57f1ce13",
   "metadata": {},
   "outputs": [],
   "source": [
    "# Import files\n",
    "realEstate = pd.read_csv('Ames Real Estate Data.csv')\n",
    "housePrice = pd.read_csv('Ames_HousePrice.csv')\n",
    "table = pd.read_excel('Tbl_DataExportSpec.xls')"
   ]
  },
  {
   "cell_type": "code",
   "execution_count": 6,
   "id": "434814f3",
   "metadata": {},
   "outputs": [],
   "source": [
    "# Creating House Price Dictionary\n",
    "with open('housePrice_features') as hp_feat:\n",
    "    hp_dict = {}\n",
    "    for line in hp_feat.readlines():\n",
    "        feature, description = [*line.split(':')]\n",
    "        hp_dict[feature] = description"
   ]
  },
  {
   "cell_type": "code",
   "execution_count": null,
   "id": "b7337212",
   "metadata": {},
   "outputs": [],
   "source": []
  }
 ],
 "metadata": {
  "kernelspec": {
   "display_name": "Python 3",
   "language": "python",
   "name": "python3"
  },
  "language_info": {
   "codemirror_mode": {
    "name": "ipython",
    "version": 3
   },
   "file_extension": ".py",
   "mimetype": "text/x-python",
   "name": "python",
   "nbconvert_exporter": "python",
   "pygments_lexer": "ipython3",
   "version": "3.8.8"
  }
 },
 "nbformat": 4,
 "nbformat_minor": 5
}
